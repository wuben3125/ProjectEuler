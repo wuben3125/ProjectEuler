{
 "cells": [
  {
   "cell_type": "markdown",
   "metadata": {},
   "source": [
    "# Champernowne's constant\n",
    "source: https://projecteuler.net/problem=40"
   ]
  },
  {
   "cell_type": "markdown",
   "metadata": {},
   "source": [
    "# Planning"
   ]
  },
  {
   "cell_type": "markdown",
   "metadata": {},
   "source": [
    "## Disorganized Thoughts\n",
    "* \n",
    "* I tried this earlier and fell prey to disorganization - despite the \"simplicity\" of the problem\n",
    "    * I hope I don't feel bad bout trying abou again\n",
    "    *\n",
    "    *\n",
    "* \n",
    "* Deadlien: 10:30AM\n",
    "    * 10:31 AM edit: yup, I failed...\n",
    "        * I guess this means I'll discard this one too\n",
    "            * actually, nope - I am going to continue here, without the imposition of an arbitrary time limit\n",
    "* \n",
    "* I'm goign to try to unit test thoroughly _first_\n",
    "* \n",
    "* Goal:\n",
    "    * \n",
    "    * Establish good coding practice for the future\n",
    "        * if it's possible to train implicit habits, that is...\n",
    "        * \n",
    "    * \n",
    "    * Warm up Python coding for later project work\n",
    "    * \n",
    "* \n",
    " \n",
    "\n",
    "\n",
    "\n",
    "\n",
    "\n"
   ]
  },
  {
   "cell_type": "markdown",
   "metadata": {},
   "source": [
    "## functions needed:\n",
    "* ~~[find ith digit of int]\n",
    "* ~~[find nth number of length x]\n",
    "* ~~[find nth digit of champernowne's constant]~~\n",
    "* \n",
    "* get_x(n)\n",
    "* get_num_index(n, x)\n",
    "* ~~get_digit(n, x, )\n",
    "* ~~ith_digit(i, num)\n",
    "* get_digit(n, x) \n",
    "* "
   ]
  },
  {
   "cell_type": "markdown",
   "metadata": {},
   "source": [
    "## High level outline:\n",
    "* \n",
    "* (if I can't put it into words, I don't think I'll be able to put it into code, and I might not get a second chance)\n",
    "* \n",
    "* find which block of numbers [d_n] is located in \n",
    "    *\n",
    "    * denoted by [x], the length of the numbers in the block\n",
    "    * \n",
    "*\n",
    "* find which number within the block [d_n] is located\n",
    "    * \n",
    "    * denoted by [num_index] ~~, the number\n",
    "    * \n",
    "* \n",
    "* find which digit within the number [d_n] is\n",
    "    * \n",
    "    * \n",
    "* \n",
    "* "
   ]
  },
  {
   "cell_type": "markdown",
   "metadata": {},
   "source": [
    "# Work"
   ]
  },
  {
   "cell_type": "markdown",
   "metadata": {},
   "source": [
    "## Tinkering\n",
    "(note: I could paste all the code from d040.ipynb, since that's essentially what became of it - but that's too messy looking)"
   ]
  },
  {
   "cell_type": "markdown",
   "metadata": {},
   "source": [
    "## Functions\n",
    "Even if I weren't to label it as such, it's good to have a designated place to put my functions (?)"
   ]
  },
  {
   "cell_type": "code",
   "execution_count": 4,
   "metadata": {},
   "outputs": [],
   "source": [
    "def get_x(n):\n",
    "    x = 0\n",
    "    running_count = 0\n",
    "    while(n > running_count):\n",
    "        running_count += 9* 10**(x) * (x+1)\n",
    "        x+=1\n",
    "        \n",
    "    return x"
   ]
  },
  {
   "cell_type": "code",
   "execution_count": 5,
   "metadata": {},
   "outputs": [
    {
     "data": {
      "text/plain": [
       "2"
      ]
     },
     "execution_count": 5,
     "metadata": {},
     "output_type": "execute_result"
    }
   ],
   "source": [
    "## testing\n",
    "get_x(13)"
   ]
  },
  {
   "cell_type": "code",
   "execution_count": 10,
   "metadata": {},
   "outputs": [],
   "source": [
    "def get_num_index(n, x):\n",
    "    \n",
    "    running_count = 0\n",
    "    for i in range(x-1):\n",
    "        running_count += 9* 10**(i) * (i+1)\n",
    "        \n",
    "    n -= running_count\n",
    "    \n",
    "    n -= 1 # fencepost correction\n",
    "    \n",
    "    return int(n/x)"
   ]
  },
  {
   "cell_type": "code",
   "execution_count": 11,
   "metadata": {},
   "outputs": [
    {
     "data": {
      "text/plain": [
       "1"
      ]
     },
     "execution_count": 11,
     "metadata": {},
     "output_type": "execute_result"
    }
   ],
   "source": [
    "## testing\n",
    "get_num_index(13, get_x(13))"
   ]
  },
  {
   "cell_type": "code",
   "execution_count": 12,
   "metadata": {},
   "outputs": [
    {
     "data": {
      "text/plain": [
       "270"
      ]
     },
     "execution_count": 12,
     "metadata": {},
     "output_type": "execute_result"
    }
   ],
   "source": [
    "## testing\n",
    "get_num_index(1000, get_x(1000))"
   ]
  },
  {
   "cell_type": "code",
   "execution_count": 13,
   "metadata": {},
   "outputs": [],
   "source": [
    "def get_digit(n, x):\n",
    "    ## note: I'm following through with the method\n",
    "        # header I provided earlier, as messy as it may be...\n",
    "    \n",
    "    ## recalculating some values\n",
    "    base = 10**(x-1)\n",
    "    \n",
    "    running_count = 0\n",
    "    for i in range(x-1):\n",
    "        running_count += 9* 10**(i) * (i+1)\n",
    "        \n",
    "    n -= running_count\n",
    "    \n",
    "    n -= 1 # fencepost correction\n",
    "    \n",
    "    num_index = int(n/x)\n",
    "    digit_index = n%x\n",
    "    \n",
    "    ## get number\n",
    "    number = base + num_index\n",
    "    \n",
    "    ## get digit\n",
    "    return int(str(number)[digit_index])"
   ]
  },
  {
   "cell_type": "code",
   "execution_count": 15,
   "metadata": {},
   "outputs": [
    {
     "data": {
      "text/plain": [
       "1"
      ]
     },
     "execution_count": 15,
     "metadata": {},
     "output_type": "execute_result"
    }
   ],
   "source": [
    "## testing\n",
    "get_digit(13, get_x(13))\n",
    "    # note: I'm crossing my fingers here"
   ]
  },
  {
   "cell_type": "code",
   "execution_count": 20,
   "metadata": {},
   "outputs": [
    {
     "data": {
      "text/plain": [
       "1"
      ]
     },
     "execution_count": 20,
     "metadata": {},
     "output_type": "execute_result"
    }
   ],
   "source": [
    "## testing \n",
    "get_digit(12, get_x(12)) # should return 0\n",
    "    # whoops, my mistake - this should indeed return 1"
   ]
  },
  {
   "cell_type": "code",
   "execution_count": 21,
   "metadata": {},
   "outputs": [
    {
     "data": {
      "text/plain": [
       "0"
      ]
     },
     "execution_count": 21,
     "metadata": {},
     "output_type": "execute_result"
    }
   ],
   "source": [
    "## testing\n",
    "get_digit(11, get_x(11)) # should return 0\n"
   ]
  },
  {
   "cell_type": "code",
   "execution_count": 18,
   "metadata": {},
   "outputs": [
    {
     "data": {
      "text/plain": [
       "1"
      ]
     },
     "execution_count": 18,
     "metadata": {},
     "output_type": "execute_result"
    }
   ],
   "source": [
    "## testing\n",
    "get_digit(10, get_x(10)) # should return 1\n"
   ]
  },
  {
   "cell_type": "code",
   "execution_count": 19,
   "metadata": {},
   "outputs": [
    {
     "data": {
      "text/plain": [
       "2"
      ]
     },
     "execution_count": 19,
     "metadata": {},
     "output_type": "execute_result"
    }
   ],
   "source": [
    "## testing\n",
    "get_digit(15, get_x(15)) # should return 2"
   ]
  },
  {
   "cell_type": "markdown",
   "metadata": {},
   "source": [
    "## Solution work"
   ]
  },
  {
   "cell_type": "code",
   "execution_count": 22,
   "metadata": {},
   "outputs": [],
   "source": [
    "product = 1\n",
    "\n",
    "for ten_power in range(6 + 1):\n",
    "    product *= get_digit(10**ten_power, get_x(10**ten_power))"
   ]
  },
  {
   "cell_type": "code",
   "execution_count": 23,
   "metadata": {},
   "outputs": [
    {
     "name": "stdout",
     "output_type": "stream",
     "text": [
      "210\n"
     ]
    }
   ],
   "source": [
    "print(product)"
   ]
  },
  {
   "cell_type": "markdown",
   "metadata": {},
   "source": [
    "# Solution\n",
    "(What's my purpose here?)"
   ]
  },
  {
   "cell_type": "code",
   "execution_count": null,
   "metadata": {},
   "outputs": [],
   "source": [
    "## note: I don't think this is necessary, but I'm going to post it here anyway\n"
   ]
  },
  {
   "cell_type": "code",
   "execution_count": 24,
   "metadata": {
    "scrolled": true
   },
   "outputs": [
    {
     "name": "stdout",
     "output_type": "stream",
     "text": [
      "d_n when n = 1: 1\n",
      "d_n when n = 10: 1\n",
      "d_n when n = 100: 5\n",
      "d_n when n = 1000: 3\n",
      "d_n when n = 10000: 7\n",
      "d_n when n = 100000: 2\n",
      "d_n when n = 1000000: 1\n",
      "end product: 210\n"
     ]
    }
   ],
   "source": [
    "product = 1\n",
    "\n",
    "for ten_power in range(6 + 1):\n",
    "    digit = get_digit(10**ten_power, get_x(10**ten_power))\n",
    "    print(f\"d_n when n = {10**ten_power}: {digit}\")\n",
    "    product *= digit\n",
    "    \n",
    "print(f\"end product: {product}\")"
   ]
  },
  {
   "cell_type": "markdown",
   "metadata": {},
   "source": [
    "# Learning\n",
    "* \n",
    "* When testing, should I have an anticipated answer in mind?\n",
    "    * \n",
    "    * Should I at least understand what y functions are doing?\n",
    "    * \n",
    "    * When testing `get_digit(n, x)`, I was crossing my fingers, while unsure if my functions actually worked\n",
    "        * \n",
    "        * is this bad? or is this a normal programming thing to do?\n",
    "            * Is this something I ideally want to do?\n",
    "        *\n",
    "    * \n",
    "* \n",
    "* Should the Solution block be pretty?\n",
    "    * \n",
    "    * Ideally it would allow a random viewer to understand the solution - at least, it would be formatted legibly\n",
    "    * \n",
    "* \n",
    "* Reflections/tips for next time:\n",
    "    * \n",
    "    * It's easy to skip the planning stuff and to try to do everything on-the-fly. At least, the decision to commit to that illusion is an easy one. The actual implementation that follows is a messy, disheartening procedure. \n",
    "    * \n",
    "    * Follow the [README] - it's not hard.\n",
    "    * \n",
    "    * \n",
    "    * \n",
    "* "
   ]
  },
  {
   "cell_type": "code",
   "execution_count": null,
   "metadata": {},
   "outputs": [],
   "source": []
  }
 ],
 "metadata": {
  "kernelspec": {
   "display_name": "Python 3",
   "language": "python",
   "name": "python3"
  },
  "language_info": {
   "codemirror_mode": {
    "name": "ipython",
    "version": 3
   },
   "file_extension": ".py",
   "mimetype": "text/x-python",
   "name": "python",
   "nbconvert_exporter": "python",
   "pygments_lexer": "ipython3",
   "version": "3.6.5"
  }
 },
 "nbformat": 4,
 "nbformat_minor": 2
}
