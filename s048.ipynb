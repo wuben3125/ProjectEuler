{
 "cells": [
  {
   "cell_type": "markdown",
   "metadata": {},
   "source": [
    "# Self powers\n",
    "\n",
    "The series, $1^1 + 2^2 + 3^3 + ... + 10^{10} = 10405071317$.\n",
    "\n",
    "Find the last ten digits of the series, $1^1 + 2^2 + 3^3 + ... + 1000^{1000}.$"
   ]
  },
  {
   "cell_type": "code",
   "execution_count": null,
   "metadata": {},
   "outputs": [],
   "source": [
    "# S: 12:15\n",
    "# E: 12:30"
   ]
  },
  {
   "cell_type": "markdown",
   "metadata": {},
   "source": [
    "### Planning\n",
    "Find last 10 digits for all 1000 terms and sum them\n",
    "* Create a function that finds the last 10 digits for each term\n",
    "    * Create general function that finds the last 10 digits for any number to any power\n",
    "        * Create general function that finds the last n digits for any number to any power\n",
    "    * Get rid of unnecessary digits"
   ]
  },
  {
   "cell_type": "markdown",
   "metadata": {},
   "source": [
    "### Implementation"
   ]
  },
  {
   "cell_type": "code",
   "execution_count": 3,
   "metadata": {},
   "outputs": [],
   "source": [
    "def lastTenDigits(num, power):\n",
    "    \"\"\"\n",
    "    Returns the last 10 digits of num^power. If there are less\n",
    "    than 10, then return num^pow\n",
    "    \"\"\"\n",
    "    tenDig = 1\n",
    "    \n",
    "    for i in range(power): # multiplies incrementally, reducing the size at each step\n",
    "        tenDig *= num\n",
    "        if tenDig >= int(1e10): # if has more than 10 digits\n",
    "            tenDig %= int(1e10) # truncate\n",
    "        \n",
    "    return tenDig"
   ]
  },
  {
   "cell_type": "code",
   "execution_count": 4,
   "metadata": {},
   "outputs": [
    {
     "data": {
      "text/plain": [
       "0"
      ]
     },
     "execution_count": 4,
     "metadata": {},
     "output_type": "execute_result"
    }
   ],
   "source": [
    "lastTenDigits(1000, 1000)"
   ]
  },
  {
   "cell_type": "code",
   "execution_count": 7,
   "metadata": {},
   "outputs": [],
   "source": [
    "def sumLastTenDigitsSelfPowers(start, end):\n",
    "    \"\"\"\n",
    "    returns the sums of the last ten digits of the self powers of\n",
    "    all numbers from start to end, inclusive\n",
    "    \"\"\"\n",
    "    finalSum = 0\n",
    "    \n",
    "    for i in range(start, end+1):\n",
    "        finalSum += lastTenDigits(i, i)\n",
    "    \n",
    "    finalSum %= int(1e10) # truncate rest of sum\n",
    "    \n",
    "    return finalSum"
   ]
  },
  {
   "cell_type": "code",
   "execution_count": null,
   "metadata": {},
   "outputs": [],
   "source": []
  },
  {
   "cell_type": "markdown",
   "metadata": {},
   "source": [
    "### Results"
   ]
  },
  {
   "cell_type": "code",
   "execution_count": 9,
   "metadata": {},
   "outputs": [],
   "source": [
    "import timeit"
   ]
  },
  {
   "cell_type": "code",
   "execution_count": 10,
   "metadata": {},
   "outputs": [
    {
     "name": "stdout",
     "output_type": "stream",
     "text": [
      "9110846700\n",
      "Time elapsed: 0.4721606669250469\n"
     ]
    }
   ],
   "source": [
    "start = timeit.default_timer()\n",
    "\n",
    "print(sumLastTenDigitsSelfPowers(1,1000))\n",
    "\n",
    "end = timeit.default_timer()\n",
    "\n",
    "print(f\"Time elapsed: {end - start}\")"
   ]
  },
  {
   "cell_type": "markdown",
   "metadata": {},
   "source": [
    "### Summary/Reflection/Idk"
   ]
  },
  {
   "cell_type": "code",
   "execution_count": null,
   "metadata": {},
   "outputs": [],
   "source": []
  }
 ],
 "metadata": {
  "kernelspec": {
   "display_name": "Python 3",
   "language": "python",
   "name": "python3"
  },
  "language_info": {
   "codemirror_mode": {
    "name": "ipython",
    "version": 3
   },
   "file_extension": ".py",
   "mimetype": "text/x-python",
   "name": "python",
   "nbconvert_exporter": "python",
   "pygments_lexer": "ipython3",
   "version": "3.6.5"
  }
 },
 "nbformat": 4,
 "nbformat_minor": 2
}
