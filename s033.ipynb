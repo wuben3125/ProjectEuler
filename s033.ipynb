{
 "cells": [
  {
   "cell_type": "markdown",
   "metadata": {},
   "source": [
    "# Project Euler problem 33\n",
    "\n",
    "Find all the fractions with two-digit numerators and denominators, that have value less than 1, whose value remains the same if the last digit of the numerator and denominator is removed. \n",
    "\n",
    "After multiplying out these fractions (there are four nontrivial ones; ones whose numerators and denominators don't end both end in '0'), simplify the product and return the denominator."
   ]
  },
  {
   "cell_type": "markdown",
   "metadata": {},
   "source": [
    "### Planning\n",
    "Implement a fraction class that has params `numerator` and `denominator`, and a function to return the lowest common value, and an __eq__ function that uses the previous function.\n",
    "\n",
    "Iterate through all possible numerator, denominator pairs (excluding trivial cases) and collect in a list the fractions that satisfy the solution conditions.\n",
    "\n",
    "Then multiply the fractions together (using another fraction class method) and find the lowest terms of the denominator"
   ]
  },
  {
   "cell_type": "code",
   "execution_count": 29,
   "metadata": {},
   "outputs": [],
   "source": [
    "class Fraction:\n",
    "    \n",
    "    def __init__(self, numerator, denominator):\n",
    "        self.numerator = numerator\n",
    "        self.denominator = denominator\n",
    " \n",
    "    def simplified(self):\n",
    "        \n",
    "        copy = Fraction(self.numerator, self.denominator)\n",
    "        \n",
    "        for potential_factor in range(2, int(copy.numerator/2) + 1):\n",
    "            while copy.numerator % potential_factor == 0 and copy.denominator % potential_factor == 0:\n",
    "                copy.numerator /= potential_factor\n",
    "                copy.denominator /= potential_factor\n",
    "    \n",
    "        return copy\n",
    "                \n",
    "    def multiply(self, other):\n",
    "        product = Fraction(self.numerator * other.numerator, self.denominator * other.denominator)\n",
    "        \n",
    "        return product\n",
    "        \n",
    "    def __eq__(self, other):\n",
    "        \n",
    "        if other == None: \n",
    "            return False\n",
    "        \n",
    "        return self.simplified().numerator == other.simplified().numerator \\\n",
    "                and self.simplified().denominator == other.simplified().denominator\n",
    "    \n",
    "    def __str__(self):\n",
    "        return (f\"{self.numerator}/{self.denominator}\")"
   ]
  },
  {
   "cell_type": "code",
   "execution_count": 16,
   "metadata": {},
   "outputs": [
    {
     "name": "stdout",
     "output_type": "stream",
     "text": [
      "10/5\n",
      "2.0/1.0\n",
      "42/21\n",
      "True\n"
     ]
    }
   ],
   "source": [
    "## testing\n",
    "frac_a = Fraction(10, 5)\n",
    "frac_a_simp = frac_a.simplified()\n",
    "\n",
    "frac_b = Fraction(42, 21)\n",
    "\n",
    "print(frac_a)\n",
    "print(frac_a_simp)\n",
    "print(frac_b)\n",
    "\n",
    "print(frac_a == frac_b)"
   ]
  },
  {
   "cell_type": "code",
   "execution_count": 19,
   "metadata": {},
   "outputs": [
    {
     "name": "stdout",
     "output_type": "stream",
     "text": [
      "15/28\n"
     ]
    }
   ],
   "source": [
    "## testing\n",
    "frac_1 = Fraction(3, 4)\n",
    "frac_2 = Fraction(5, 7)\n",
    "\n",
    "prod = frac_1.multiply(frac_2)\n",
    "\n",
    "print(prod)"
   ]
  },
  {
   "cell_type": "code",
   "execution_count": 27,
   "metadata": {},
   "outputs": [
    {
     "name": "stdout",
     "output_type": "stream",
     "text": [
      "0 0\n",
      "1 1\n",
      "2 2\n"
     ]
    }
   ],
   "source": [
    "## tinkering\n",
    "for (x, y) in zip(range(5), range(3)):\n",
    "    print(x,y)"
   ]
  },
  {
   "cell_type": "code",
   "execution_count": 28,
   "metadata": {},
   "outputs": [
    {
     "name": "stdout",
     "output_type": "stream",
     "text": [
      "<zip object at 0x000001FF2B1073C8>\n"
     ]
    }
   ],
   "source": []
  },
  {
   "cell_type": "markdown",
   "metadata": {},
   "source": [
    "### Solution"
   ]
  },
  {
   "cell_type": "code",
   "execution_count": 25,
   "metadata": {},
   "outputs": [],
   "source": [
    "## incorrect solution\n",
    "solution_fractions = []\n",
    "\n",
    "for numerator, denominator in zip(range(10, 100), range(10, 100)):\n",
    "    \n",
    "    if not(numerator % 10 == 0 and denominator % 10 == 0): ## only try non-trivial cases\n",
    "        \n",
    "        if numerator != denominator: ## only non-trivial cases\n",
    "\n",
    "            current_fraction = Fraction(numerator, denominator)\n",
    "            trunc_fraction = Fraction( int(numerator/10), int(denominator/10) )\n",
    "\n",
    "            if current_fraction == trunc_fraction:\n",
    "                solution_fractions.append(current_fraction)\n"
   ]
  },
  {
   "cell_type": "code",
   "execution_count": 50,
   "metadata": {},
   "outputs": [],
   "source": [
    "solution_fractions = []\n",
    "\n",
    "for num1 in range(1, 10):\n",
    "    for num2 in range(0, 10):\n",
    "        for den1 in range(1, 10):\n",
    "            for den2 in range(1, 10):\n",
    "                \n",
    "                if not ((num1==den1 and num2==den2) or (num1==den2 and num2==den1)):\n",
    "                    \n",
    "                    full_numerator = 10*num1 + num2\n",
    "                    full_denominator = 10 *den1 + den2\n",
    "                    \n",
    "                    if full_denominator != 0:\n",
    "                    \n",
    "                        full_fraction = Fraction(full_numerator, full_denominator)\n",
    "\n",
    "                        trunc_fraction = None\n",
    "\n",
    "                        if num1 == den1:\n",
    "                            trunc_fraction = Fraction(num2, den2)\n",
    "                        elif num1 == den2:\n",
    "                            trunc_fraction = Fraction(num2, den1)\n",
    "                        elif num2 == den1:\n",
    "                            trunc_fraction = Fraction(num1, den2)\n",
    "                        elif num2 == den2:\n",
    "                            trunc_fraction = Fraction(num1, den1)\n",
    "\n",
    "                        if trunc_fraction != None:\n",
    "                            if full_fraction == trunc_fraction:\n",
    "                                solution_fractions.append(full_fraction)\n",
    "\n",
    "            \n",
    "                "
   ]
  },
  {
   "cell_type": "code",
   "execution_count": 51,
   "metadata": {},
   "outputs": [
    {
     "name": "stdout",
     "output_type": "stream",
     "text": [
      "16/64\n",
      "26/65\n",
      "49/98\n",
      "64/16\n",
      "65/26\n",
      "95/19\n",
      "98/49\n"
     ]
    }
   ],
   "source": [
    "for fraction in solution_fractions:\n",
    "    print(fraction)"
   ]
  },
  {
   "cell_type": "code",
   "execution_count": 52,
   "metadata": {},
   "outputs": [],
   "source": [
    "solution_fractions = [Fraction(16, 64), Fraction(19, 95), Fraction(26, 65), Fraction(49, 98)]"
   ]
  },
  {
   "cell_type": "code",
   "execution_count": 54,
   "metadata": {},
   "outputs": [
    {
     "name": "stdout",
     "output_type": "stream",
     "text": [
      "1.0/100.0\n"
     ]
    }
   ],
   "source": [
    "final_fraction = Fraction(1,1)\n",
    "\n",
    "for fraction in solution_fractions:\n",
    "    final_fraction = final_fraction.multiply(fraction)\n",
    "    \n",
    "print(final_fraction.simplified())"
   ]
  },
  {
   "cell_type": "markdown",
   "metadata": {},
   "source": [
    "## End of Project Euler problem\n",
    "Note: my solution pipeline didn't work exactly as I planned. Also, the first time, it wasn't even close - did I misunderstand the question? "
   ]
  },
  {
   "cell_type": "markdown",
   "metadata": {},
   "source": [
    "# Learning\n",
    "* zip() pairs up values from two lists of equal length\n",
    "* \n",
    "* \n",
    "* "
   ]
  }
 ],
 "metadata": {
  "kernelspec": {
   "display_name": "Python 3",
   "language": "python",
   "name": "python3"
  },
  "language_info": {
   "codemirror_mode": {
    "name": "ipython",
    "version": 3
   },
   "file_extension": ".py",
   "mimetype": "text/x-python",
   "name": "python",
   "nbconvert_exporter": "python",
   "pygments_lexer": "ipython3",
   "version": "3.6.10"
  }
 },
 "nbformat": 4,
 "nbformat_minor": 4
}
