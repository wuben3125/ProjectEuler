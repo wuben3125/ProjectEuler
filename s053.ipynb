{
 "cells": [
  {
   "cell_type": "markdown",
   "metadata": {},
   "source": [
    "# Combinatoric Selections\n",
    "https://projecteuler.net/problem=53"
   ]
  },
  {
   "cell_type": "markdown",
   "metadata": {},
   "source": [
    "# Problem Statement\n",
    "There are exactly ten ways of selecting three from five, 12345:\n",
    "\n",
    "123, 124, 125, 134, 135, 145, 234, 235, 245, and 345\n",
    "\n",
    "In combinatorics, we use the notation, \n",
    "5C3 = 10.\n",
    "\n",
    "In general, nCr = n!/(r! * (n-r)!)\n",
    " \n",
    ", where , r<= n , n! = n * (n-1) * (n-2) *...* 1 and 0! = 1.\n",
    "\n",
    "It is not until n=23, that a value exceeds one-million: 23C10 = 1144066\n",
    ".\n",
    "\n",
    "How many, not necessarily distinct, values of nCr\n",
    " for 1 <= n <= 100, are greater than one-million?"
   ]
  },
  {
   "cell_type": "markdown",
   "metadata": {},
   "source": [
    "# Planning\n",
    "Write a function that calculates factorial\n",
    "\n",
    "Write a function that calculates numbers of combinations\n",
    "\n",
    "Write a function that tests values of n from 23 to 100 that have combination numbers greater than 1,000,000"
   ]
  },
  {
   "cell_type": "code",
   "execution_count": 1,
   "metadata": {},
   "outputs": [],
   "source": [
    "def factorial(n):\n",
    "    \n",
    "    product = 1\n",
    "    \n",
    "    if n == 0:\n",
    "        return product\n",
    "    else:\n",
    "        for x in range(1, n+1):\n",
    "            product *= x\n",
    "            \n",
    "        return product"
   ]
  },
  {
   "cell_type": "code",
   "execution_count": 2,
   "metadata": {},
   "outputs": [
    {
     "data": {
      "text/plain": [
       "720"
      ]
     },
     "execution_count": 2,
     "metadata": {},
     "output_type": "execute_result"
    }
   ],
   "source": [
    "## testing\n",
    "factorial(6)"
   ]
  },
  {
   "cell_type": "code",
   "execution_count": 7,
   "metadata": {},
   "outputs": [],
   "source": [
    "def combinations(n, r):\n",
    "    \n",
    "    if r > n or r < 0:\n",
    "        raise Exception(\"Improper r value\")\n",
    "    else:\n",
    "        return int(factorial(n) / factorial(r) / factorial(n-r))"
   ]
  },
  {
   "cell_type": "code",
   "execution_count": 8,
   "metadata": {},
   "outputs": [
    {
     "data": {
      "text/plain": [
       "1144066"
      ]
     },
     "execution_count": 8,
     "metadata": {},
     "output_type": "execute_result"
    }
   ],
   "source": [
    "## testing\n",
    "combinations(23, 10)"
   ]
  },
  {
   "cell_type": "code",
   "execution_count": 9,
   "metadata": {},
   "outputs": [
    {
     "name": "stdout",
     "output_type": "stream",
     "text": [
      "4\n"
     ]
    }
   ],
   "source": [
    "## testing flow of combination counting\n",
    "n = 23\n",
    "\n",
    "num_r_successful = 0 \n",
    "over_1000000 = False\n",
    "\n",
    "for r in range(1, int(n/2)+1):\n",
    "    if combinations(n, r) > 1000000:\n",
    "        over_1000000 = True\n",
    "        break\n",
    "        \n",
    "if over_1000000:\n",
    "    if n%2== 0: # if n is even\n",
    "        num_r_successful = 2*( int(n/2) - r ) + 1\n",
    "    else:\n",
    "        num_r_successful = 2*( int(n/2) + 1 - r)\n",
    "else:\n",
    "    num_r_successful = 0\n",
    "    \n",
    "    \n",
    "print(num_r_successful)\n",
    "## includes 23C10, 23C11, 23C12, 23C13"
   ]
  },
  {
   "cell_type": "code",
   "execution_count": 10,
   "metadata": {},
   "outputs": [
    {
     "name": "stdout",
     "output_type": "stream",
     "text": [
      "4075\n"
     ]
    }
   ],
   "source": [
    "## solution\n",
    "num_r_successful_total = 0\n",
    "\n",
    "for n in range(23, 100+1):\n",
    "    num_r_successful = 0 \n",
    "    over_1000000 = False\n",
    "\n",
    "    for r in range(1, int(n/2)+1):\n",
    "        if combinations(n, r) > 1000000:\n",
    "            over_1000000 = True\n",
    "            break\n",
    "\n",
    "    if over_1000000:\n",
    "        if n%2== 0: # if n is even\n",
    "            num_r_successful = 2*( int(n/2) - r ) + 1\n",
    "        else:\n",
    "            num_r_successful = 2*( int(n/2) + 1 - r)\n",
    "    else:\n",
    "        num_r_successful = 0\n",
    "        \n",
    "    num_r_successful_total += num_r_successful\n",
    "    \n",
    "print(num_r_successful_total)"
   ]
  },
  {
   "cell_type": "markdown",
   "metadata": {},
   "source": [
    "# Solution\n",
    "There are 4075 values of nCr greater than 1000000, not necessarily distinct, such that 1<=n<=100, and 0<=r<=n"
   ]
  },
  {
   "cell_type": "code",
   "execution_count": null,
   "metadata": {},
   "outputs": [],
   "source": []
  }
 ],
 "metadata": {
  "kernelspec": {
   "display_name": "Python 3",
   "language": "python",
   "name": "python3"
  },
  "language_info": {
   "codemirror_mode": {
    "name": "ipython",
    "version": 3
   },
   "file_extension": ".py",
   "mimetype": "text/x-python",
   "name": "python",
   "nbconvert_exporter": "python",
   "pygments_lexer": "ipython3",
   "version": "3.6.10"
  }
 },
 "nbformat": 4,
 "nbformat_minor": 4
}
