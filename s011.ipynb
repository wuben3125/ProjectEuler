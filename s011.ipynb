{
 "cells": [
  {
   "cell_type": "markdown",
   "metadata": {},
   "source": [
    "# Largest Product in a Grid\n",
    "source: https://projecteuler.net/problem=11"
   ]
  },
  {
   "cell_type": "markdown",
   "metadata": {},
   "source": [
    "## Problem Statement\n",
    "Given a 20x20 matrix of numbers in string form, find the largest product of 4 adjacent (horizontal, vertical, or diagonal) numbers?\n",
    "\n",
    "Matrix: \n",
    "\n",
    "08 02 22 97 38 15 00 40 00 75 04 05 07 78 52 12 50 77 91 08\n",
    "49 49 99 40 17 81 18 57 60 87 17 40 98 43 69 48 04 56 62 00\n",
    "81 49 31 73 55 79 14 29 93 71 40 67 53 88 30 03 49 13 36 65\n",
    "52 70 95 23 04 60 11 42 69 24 68 56 01 32 56 71 37 02 36 91\n",
    "22 31 16 71 51 67 63 89 41 92 36 54 22 40 40 28 66 33 13 80\n",
    "24 47 32 60 99 03 45 02 44 75 33 53 78 36 84 20 35 17 12 50\n",
    "32 98 81 28 64 23 67 10 26 38 40 67 59 54 70 66 18 38 64 70\n",
    "67 26 20 68 02 62 12 20 95 63 94 39 63 08 40 91 66 49 94 21\n",
    "24 55 58 05 66 73 99 26 97 17 78 78 96 83 14 88 34 89 63 72\n",
    "21 36 23 09 75 00 76 44 20 45 35 14 00 61 33 97 34 31 33 95\n",
    "78 17 53 28 22 75 31 67 15 94 03 80 04 62 16 14 09 53 56 92\n",
    "16 39 05 42 96 35 31 47 55 58 88 24 00 17 54 24 36 29 85 57\n",
    "86 56 00 48 35 71 89 07 05 44 44 37 44 60 21 58 51 54 17 58\n",
    "19 80 81 68 05 94 47 69 28 73 92 13 86 52 17 77 04 89 55 40\n",
    "04 52 08 83 97 35 99 16 07 97 57 32 16 26 26 79 33 27 98 66\n",
    "88 36 68 87 57 62 20 72 03 46 33 67 46 55 12 32 63 93 53 69\n",
    "04 42 16 73 38 25 39 11 24 94 72 18 08 46 29 32 40 62 76 36\n",
    "20 69 36 41 72 30 23 88 34 62 99 69 82 67 59 85 74 04 36 16\n",
    "20 73 35 29 78 31 90 01 74 31 49 71 48 86 81 16 23 57 05 54\n",
    "01 70 54 71 83 51 54 69 16 92 33 48 61 43 52 01 89 19 67 48\n"
   ]
  },
  {
   "cell_type": "markdown",
   "metadata": {},
   "source": [
    "## Planning\n",
    "For brute force search, there are a total of 1258 cases\n",
    "* Vertical: (20 + 1 - 4) * 20 \n",
    "* Horizontal: (20 + 1 - 4) * 20\n",
    "* Diagonal:\n",
    "    * northwest to southeast - (20 + 1 - 4) * (20 + 1 - 4)\n",
    "    * northeast to southwest - (20 + 1 - 4) * (20 + 1 - 4) \n",
    "  \n",
    "Break matrix string into row lists by separating at each '\\n'\n",
    "\n",
    "Break each row into element lists by separating at each ' '\n",
    "\n",
    "Convert double list of strings into double list of ints\n",
    "\n",
    "Then do brute force index parsing"
   ]
  },
  {
   "cell_type": "code",
   "execution_count": 1,
   "metadata": {},
   "outputs": [
    {
     "data": {
      "text/plain": [
       "1258"
      ]
     },
     "execution_count": 1,
     "metadata": {},
     "output_type": "execute_result"
    }
   ],
   "source": [
    "2 * ((20+1-4)*20) + 2 * ((20+1-4)*(20+1-4))"
   ]
  },
  {
   "cell_type": "markdown",
   "metadata": {},
   "source": [
    "## [work]\n"
   ]
  },
  {
   "cell_type": "code",
   "execution_count": 5,
   "metadata": {},
   "outputs": [],
   "source": [
    "# import numpy as np\n",
    "    # actually, not needed"
   ]
  },
  {
   "cell_type": "code",
   "execution_count": 2,
   "metadata": {},
   "outputs": [],
   "source": [
    "matrix_string = \"\"\"08 02 22 97 38 15 00 40 00 75 04 05 07 78 52 12 50 77 91 08\n",
    "49 49 99 40 17 81 18 57 60 87 17 40 98 43 69 48 04 56 62 00\n",
    "81 49 31 73 55 79 14 29 93 71 40 67 53 88 30 03 49 13 36 65\n",
    "52 70 95 23 04 60 11 42 69 24 68 56 01 32 56 71 37 02 36 91\n",
    "22 31 16 71 51 67 63 89 41 92 36 54 22 40 40 28 66 33 13 80\n",
    "24 47 32 60 99 03 45 02 44 75 33 53 78 36 84 20 35 17 12 50\n",
    "32 98 81 28 64 23 67 10 26 38 40 67 59 54 70 66 18 38 64 70\n",
    "67 26 20 68 02 62 12 20 95 63 94 39 63 08 40 91 66 49 94 21\n",
    "24 55 58 05 66 73 99 26 97 17 78 78 96 83 14 88 34 89 63 72\n",
    "21 36 23 09 75 00 76 44 20 45 35 14 00 61 33 97 34 31 33 95\n",
    "78 17 53 28 22 75 31 67 15 94 03 80 04 62 16 14 09 53 56 92\n",
    "16 39 05 42 96 35 31 47 55 58 88 24 00 17 54 24 36 29 85 57\n",
    "86 56 00 48 35 71 89 07 05 44 44 37 44 60 21 58 51 54 17 58\n",
    "19 80 81 68 05 94 47 69 28 73 92 13 86 52 17 77 04 89 55 40\n",
    "04 52 08 83 97 35 99 16 07 97 57 32 16 26 26 79 33 27 98 66\n",
    "88 36 68 87 57 62 20 72 03 46 33 67 46 55 12 32 63 93 53 69\n",
    "04 42 16 73 38 25 39 11 24 94 72 18 08 46 29 32 40 62 76 36\n",
    "20 69 36 41 72 30 23 88 34 62 99 69 82 67 59 85 74 04 36 16\n",
    "20 73 35 29 78 31 90 01 74 31 49 71 48 86 81 16 23 57 05 54\n",
    "01 70 54 71 83 51 54 69 16 92 33 48 61 43 52 01 89 19 67 48\"\"\""
   ]
  },
  {
   "cell_type": "code",
   "execution_count": 3,
   "metadata": {},
   "outputs": [
    {
     "name": "stdout",
     "output_type": "stream",
     "text": [
      "08 02 22 97 38 15 00 40 00 75 04 05 07 78 52 12 50 77 91 08\n",
      "49 49 99 40 17 81 18 57 60 87 17 40 98 43 69 48 04 56 62 00\n",
      "81 49 31 73 55 79 14 29 93 71 40 67 53 88 30 03 49 13 36 65\n",
      "52 70 95 23 04 60 11 42 69 24 68 56 01 32 56 71 37 02 36 91\n",
      "22 31 16 71 51 67 63 89 41 92 36 54 22 40 40 28 66 33 13 80\n",
      "24 47 32 60 99 03 45 02 44 75 33 53 78 36 84 20 35 17 12 50\n",
      "32 98 81 28 64 23 67 10 26 38 40 67 59 54 70 66 18 38 64 70\n",
      "67 26 20 68 02 62 12 20 95 63 94 39 63 08 40 91 66 49 94 21\n",
      "24 55 58 05 66 73 99 26 97 17 78 78 96 83 14 88 34 89 63 72\n",
      "21 36 23 09 75 00 76 44 20 45 35 14 00 61 33 97 34 31 33 95\n",
      "78 17 53 28 22 75 31 67 15 94 03 80 04 62 16 14 09 53 56 92\n",
      "16 39 05 42 96 35 31 47 55 58 88 24 00 17 54 24 36 29 85 57\n",
      "86 56 00 48 35 71 89 07 05 44 44 37 44 60 21 58 51 54 17 58\n",
      "19 80 81 68 05 94 47 69 28 73 92 13 86 52 17 77 04 89 55 40\n",
      "04 52 08 83 97 35 99 16 07 97 57 32 16 26 26 79 33 27 98 66\n",
      "88 36 68 87 57 62 20 72 03 46 33 67 46 55 12 32 63 93 53 69\n",
      "04 42 16 73 38 25 39 11 24 94 72 18 08 46 29 32 40 62 76 36\n",
      "20 69 36 41 72 30 23 88 34 62 99 69 82 67 59 85 74 04 36 16\n",
      "20 73 35 29 78 31 90 01 74 31 49 71 48 86 81 16 23 57 05 54\n",
      "01 70 54 71 83 51 54 69 16 92 33 48 61 43 52 01 89 19 67 48\n"
     ]
    }
   ],
   "source": [
    "print(matrix_string)"
   ]
  },
  {
   "cell_type": "code",
   "execution_count": 4,
   "metadata": {},
   "outputs": [
    {
     "data": {
      "text/plain": [
       "['alice', ' bob', ' charlie']"
      ]
     },
     "execution_count": 4,
     "metadata": {},
     "output_type": "execute_result"
    }
   ],
   "source": [
    "# testing\n",
    "\"alice, bob, charlie\".split(',')"
   ]
  },
  {
   "cell_type": "code",
   "execution_count": 5,
   "metadata": {},
   "outputs": [
    {
     "name": "stdout",
     "output_type": "stream",
     "text": [
      "['08 02 22 97 38 15 00 40 00 75 04 05 07 78 52 12 50 77 91 08', '49 49 99 40 17 81 18 57 60 87 17 40 98 43 69 48 04 56 62 00', '81 49 31 73 55 79 14 29 93 71 40 67 53 88 30 03 49 13 36 65', '52 70 95 23 04 60 11 42 69 24 68 56 01 32 56 71 37 02 36 91', '22 31 16 71 51 67 63 89 41 92 36 54 22 40 40 28 66 33 13 80', '24 47 32 60 99 03 45 02 44 75 33 53 78 36 84 20 35 17 12 50', '32 98 81 28 64 23 67 10 26 38 40 67 59 54 70 66 18 38 64 70', '67 26 20 68 02 62 12 20 95 63 94 39 63 08 40 91 66 49 94 21', '24 55 58 05 66 73 99 26 97 17 78 78 96 83 14 88 34 89 63 72', '21 36 23 09 75 00 76 44 20 45 35 14 00 61 33 97 34 31 33 95', '78 17 53 28 22 75 31 67 15 94 03 80 04 62 16 14 09 53 56 92', '16 39 05 42 96 35 31 47 55 58 88 24 00 17 54 24 36 29 85 57', '86 56 00 48 35 71 89 07 05 44 44 37 44 60 21 58 51 54 17 58', '19 80 81 68 05 94 47 69 28 73 92 13 86 52 17 77 04 89 55 40', '04 52 08 83 97 35 99 16 07 97 57 32 16 26 26 79 33 27 98 66', '88 36 68 87 57 62 20 72 03 46 33 67 46 55 12 32 63 93 53 69', '04 42 16 73 38 25 39 11 24 94 72 18 08 46 29 32 40 62 76 36', '20 69 36 41 72 30 23 88 34 62 99 69 82 67 59 85 74 04 36 16', '20 73 35 29 78 31 90 01 74 31 49 71 48 86 81 16 23 57 05 54', '01 70 54 71 83 51 54 69 16 92 33 48 61 43 52 01 89 19 67 48']\n"
     ]
    }
   ],
   "source": [
    "row_list = matrix_string.split('\\n')\n",
    "print(row_list)"
   ]
  },
  {
   "cell_type": "code",
   "execution_count": 6,
   "metadata": {},
   "outputs": [
    {
     "name": "stdout",
     "output_type": "stream",
     "text": [
      "[['08', '02', '22', '97', '38', '15', '00', '40', '00', '75', '04', '05', '07', '78', '52', '12', '50', '77', '91', '08'], ['49', '49', '99', '40', '17', '81', '18', '57', '60', '87', '17', '40', '98', '43', '69', '48', '04', '56', '62', '00'], ['81', '49', '31', '73', '55', '79', '14', '29', '93', '71', '40', '67', '53', '88', '30', '03', '49', '13', '36', '65'], ['52', '70', '95', '23', '04', '60', '11', '42', '69', '24', '68', '56', '01', '32', '56', '71', '37', '02', '36', '91'], ['22', '31', '16', '71', '51', '67', '63', '89', '41', '92', '36', '54', '22', '40', '40', '28', '66', '33', '13', '80'], ['24', '47', '32', '60', '99', '03', '45', '02', '44', '75', '33', '53', '78', '36', '84', '20', '35', '17', '12', '50'], ['32', '98', '81', '28', '64', '23', '67', '10', '26', '38', '40', '67', '59', '54', '70', '66', '18', '38', '64', '70'], ['67', '26', '20', '68', '02', '62', '12', '20', '95', '63', '94', '39', '63', '08', '40', '91', '66', '49', '94', '21'], ['24', '55', '58', '05', '66', '73', '99', '26', '97', '17', '78', '78', '96', '83', '14', '88', '34', '89', '63', '72'], ['21', '36', '23', '09', '75', '00', '76', '44', '20', '45', '35', '14', '00', '61', '33', '97', '34', '31', '33', '95'], ['78', '17', '53', '28', '22', '75', '31', '67', '15', '94', '03', '80', '04', '62', '16', '14', '09', '53', '56', '92'], ['16', '39', '05', '42', '96', '35', '31', '47', '55', '58', '88', '24', '00', '17', '54', '24', '36', '29', '85', '57'], ['86', '56', '00', '48', '35', '71', '89', '07', '05', '44', '44', '37', '44', '60', '21', '58', '51', '54', '17', '58'], ['19', '80', '81', '68', '05', '94', '47', '69', '28', '73', '92', '13', '86', '52', '17', '77', '04', '89', '55', '40'], ['04', '52', '08', '83', '97', '35', '99', '16', '07', '97', '57', '32', '16', '26', '26', '79', '33', '27', '98', '66'], ['88', '36', '68', '87', '57', '62', '20', '72', '03', '46', '33', '67', '46', '55', '12', '32', '63', '93', '53', '69'], ['04', '42', '16', '73', '38', '25', '39', '11', '24', '94', '72', '18', '08', '46', '29', '32', '40', '62', '76', '36'], ['20', '69', '36', '41', '72', '30', '23', '88', '34', '62', '99', '69', '82', '67', '59', '85', '74', '04', '36', '16'], ['20', '73', '35', '29', '78', '31', '90', '01', '74', '31', '49', '71', '48', '86', '81', '16', '23', '57', '05', '54'], ['01', '70', '54', '71', '83', '51', '54', '69', '16', '92', '33', '48', '61', '43', '52', '01', '89', '19', '67', '48']]\n"
     ]
    }
   ],
   "source": [
    "element_list = []\n",
    "for row in row_list:\n",
    "    element_list.append(row.split(' '))\n",
    "print(element_list)"
   ]
  },
  {
   "cell_type": "code",
   "execution_count": 8,
   "metadata": {
    "scrolled": true
   },
   "outputs": [
    {
     "name": "stdout",
     "output_type": "stream",
     "text": [
      "[[8, 2, 22, 97, 38, 15, 0, 40, 0, 75, 4, 5, 7, 78, 52, 12, 50, 77, 91, 8], [49, 49, 99, 40, 17, 81, 18, 57, 60, 87, 17, 40, 98, 43, 69, 48, 4, 56, 62, 0], [81, 49, 31, 73, 55, 79, 14, 29, 93, 71, 40, 67, 53, 88, 30, 3, 49, 13, 36, 65], [52, 70, 95, 23, 4, 60, 11, 42, 69, 24, 68, 56, 1, 32, 56, 71, 37, 2, 36, 91], [22, 31, 16, 71, 51, 67, 63, 89, 41, 92, 36, 54, 22, 40, 40, 28, 66, 33, 13, 80], [24, 47, 32, 60, 99, 3, 45, 2, 44, 75, 33, 53, 78, 36, 84, 20, 35, 17, 12, 50], [32, 98, 81, 28, 64, 23, 67, 10, 26, 38, 40, 67, 59, 54, 70, 66, 18, 38, 64, 70], [67, 26, 20, 68, 2, 62, 12, 20, 95, 63, 94, 39, 63, 8, 40, 91, 66, 49, 94, 21], [24, 55, 58, 5, 66, 73, 99, 26, 97, 17, 78, 78, 96, 83, 14, 88, 34, 89, 63, 72], [21, 36, 23, 9, 75, 0, 76, 44, 20, 45, 35, 14, 0, 61, 33, 97, 34, 31, 33, 95], [78, 17, 53, 28, 22, 75, 31, 67, 15, 94, 3, 80, 4, 62, 16, 14, 9, 53, 56, 92], [16, 39, 5, 42, 96, 35, 31, 47, 55, 58, 88, 24, 0, 17, 54, 24, 36, 29, 85, 57], [86, 56, 0, 48, 35, 71, 89, 7, 5, 44, 44, 37, 44, 60, 21, 58, 51, 54, 17, 58], [19, 80, 81, 68, 5, 94, 47, 69, 28, 73, 92, 13, 86, 52, 17, 77, 4, 89, 55, 40], [4, 52, 8, 83, 97, 35, 99, 16, 7, 97, 57, 32, 16, 26, 26, 79, 33, 27, 98, 66], [88, 36, 68, 87, 57, 62, 20, 72, 3, 46, 33, 67, 46, 55, 12, 32, 63, 93, 53, 69], [4, 42, 16, 73, 38, 25, 39, 11, 24, 94, 72, 18, 8, 46, 29, 32, 40, 62, 76, 36], [20, 69, 36, 41, 72, 30, 23, 88, 34, 62, 99, 69, 82, 67, 59, 85, 74, 4, 36, 16], [20, 73, 35, 29, 78, 31, 90, 1, 74, 31, 49, 71, 48, 86, 81, 16, 23, 57, 5, 54], [1, 70, 54, 71, 83, 51, 54, 69, 16, 92, 33, 48, 61, 43, 52, 1, 89, 19, 67, 48]]\n"
     ]
    }
   ],
   "source": [
    "for i in range(len(element_list)):\n",
    "    for j in range(len(element_list[0])):\n",
    "        element_list[i][j] = int(element_list[i][j])\n",
    "print(element_list)"
   ]
  },
  {
   "cell_type": "code",
   "execution_count": 10,
   "metadata": {},
   "outputs": [
    {
     "name": "stdout",
     "output_type": "stream",
     "text": [
      "[[81, 49, 31, 73, 55, 79, 14, 29, 93, 71, 40, 67, 53, 88, 30, 3, 49, 13, 36, 65], [52, 70, 95, 23, 4, 60, 11, 42, 69, 24, 68, 56, 1, 32, 56, 71, 37, 2, 36, 91], [22, 31, 16, 71, 51, 67, 63, 89, 41, 92, 36, 54, 22, 40, 40, 28, 66, 33, 13, 80]]\n"
     ]
    }
   ],
   "source": [
    "# splicing test\n",
    "splice = element_list[1:5][1:5]\n",
    "\n",
    "print(splice)"
   ]
  },
  {
   "cell_type": "code",
   "execution_count": 15,
   "metadata": {},
   "outputs": [],
   "source": [
    "# functions for obtaining diagonals\n",
    "def diag_nw_se(matrix, i, j, length):\n",
    "    \"\"\"\n",
    "    matrix: 2D list\n",
    "    i: row index of first element (top left)\n",
    "    j: column index of first element (top left)\n",
    "    length: number of elements in diagonal\n",
    "    \n",
    "    Returns list of elements in specified diagonal, with wrap-around indices\n",
    "    \n",
    "    \"\"\"\n",
    "    diag = []\n",
    "    \n",
    "    for a in range(length):\n",
    "        diag.append(matrix[(i+a)%len(matrix)][(j+a)%len(matrix[0])])\n",
    "    \n",
    "    return diag\n",
    "    \n",
    "    "
   ]
  },
  {
   "cell_type": "code",
   "execution_count": 16,
   "metadata": {},
   "outputs": [
    {
     "data": {
      "text/plain": [
       "[8, 49, 31, 23, 51, 3, 67, 20, 97, 45]"
      ]
     },
     "execution_count": 16,
     "metadata": {},
     "output_type": "execute_result"
    }
   ],
   "source": [
    "# test \n",
    "diag_nw_se(element_list, 0, 0, 10)"
   ]
  },
  {
   "cell_type": "code",
   "execution_count": 18,
   "metadata": {},
   "outputs": [],
   "source": [
    "# functions for obtaining diagonals\n",
    "def diag_sw_ne(matrix, i, j, length):\n",
    "    \"\"\"\n",
    "    matrix: 2D list\n",
    "    i: row index of first element (top left)\n",
    "    j: column index of first element (top left)\n",
    "    length: number of elements in diagonal\n",
    "    \n",
    "    Returns list of elements in specified diagonal, with wrap-around indices\n",
    "    \n",
    "    \"\"\"\n",
    "    diag = []\n",
    "    \n",
    "    for a in range(length):\n",
    "        diag.append(matrix[(i-a)%len(matrix)][(j+a)%len(matrix[0])])\n",
    "    \n",
    "    return diag"
   ]
  },
  {
   "cell_type": "code",
   "execution_count": 19,
   "metadata": {},
   "outputs": [
    {
     "data": {
      "text/plain": [
       "[24, 31, 95, 73, 17]"
      ]
     },
     "execution_count": 19,
     "metadata": {},
     "output_type": "execute_result"
    }
   ],
   "source": [
    "# testing\n",
    "diag_sw_ne(element_list, 5, 0, 5)"
   ]
  },
  {
   "cell_type": "markdown",
   "metadata": {},
   "source": [
    "### Greatest vertical product"
   ]
  },
  {
   "cell_type": "code",
   "execution_count": 22,
   "metadata": {},
   "outputs": [
    {
     "name": "stdout",
     "output_type": "stream",
     "text": [
      "Greatest vertical product: 51267216\n"
     ]
    }
   ],
   "source": [
    "gvp = 0\n",
    "\n",
    "for j in range(len(element_list[0])):\n",
    "    \n",
    "    for i in range( len(element_list) + 1 - 4):\n",
    "        \n",
    "        product = 1\n",
    "        \n",
    "        for k in range(4):\n",
    "            product *= element_list[i+k][j]\n",
    "        \n",
    "        if product > gvp: gvp = product\n",
    "        \n",
    "print(f\"Greatest vertical product: {gvp}\")"
   ]
  },
  {
   "cell_type": "markdown",
   "metadata": {},
   "source": [
    "### Greatest horizontal product"
   ]
  },
  {
   "cell_type": "code",
   "execution_count": 23,
   "metadata": {},
   "outputs": [
    {
     "name": "stdout",
     "output_type": "stream",
     "text": [
      "Greatest vertical product: 48477312\n"
     ]
    }
   ],
   "source": [
    "ghp = 0\n",
    "\n",
    "for i in range(len(element_list)):\n",
    "    \n",
    "    for j in range( len(element_list[0]) + 1 - 4):\n",
    "        \n",
    "        product = 1\n",
    "        \n",
    "        for k in range(4):\n",
    "            product *= element_list[i][j+k]\n",
    "        \n",
    "        if product > ghp: ghp = product\n",
    "        \n",
    "print(f\"Greatest vertical product: {ghp}\")"
   ]
  },
  {
   "cell_type": "markdown",
   "metadata": {},
   "source": [
    "### Greatest diagonal (nw to se) product"
   ]
  },
  {
   "cell_type": "code",
   "execution_count": 24,
   "metadata": {},
   "outputs": [
    {
     "name": "stdout",
     "output_type": "stream",
     "text": [
      "Greatest diag (nw to se) product: 40304286\n"
     ]
    }
   ],
   "source": [
    "gdp_nwse = 0\n",
    "\n",
    "for i in range(len(element_list)+1-4):\n",
    "    for j in range(len(element_list)+1-4):\n",
    "        \n",
    "        product = 1\n",
    "        \n",
    "        for k in range(4):\n",
    "            product *= element_list[i+k][j+k]\n",
    "            \n",
    "        if product > gdp_nwse: gdp_nwse = product\n",
    "            \n",
    "print(f\"Greatest diag (nw to se) product: {gdp_nwse}\")"
   ]
  },
  {
   "cell_type": "markdown",
   "metadata": {},
   "source": [
    "### Greatest diagonal (sw to ne) product"
   ]
  },
  {
   "cell_type": "code",
   "execution_count": 28,
   "metadata": {},
   "outputs": [
    {
     "name": "stdout",
     "output_type": "stream",
     "text": [
      "Greatest diag (sw to ne) product: 70600674\n",
      "Index of start: (15, 3)\n"
     ]
    }
   ],
   "source": [
    "gdp_swne = 0\n",
    "\n",
    "start_index = (0,0)\n",
    "\n",
    "for i in range(3, len(element_list)):\n",
    "    \n",
    "#     product = 1\n",
    "    \n",
    "    for j in range(len(element_list)+1-4):\n",
    "        \n",
    "        product = 1\n",
    "        \n",
    "        for k in range(4):\n",
    "            product *= element_list[i-k][j+k]\n",
    "        if product > gdp_swne: \n",
    "            gdp_swne = product\n",
    "            start_index = (i,j)\n",
    "            \n",
    "print(f\"Greatest diag (sw to ne) product: {gdp_swne}\")\n",
    "print(f\"Index of start: {start_index}\")"
   ]
  },
  {
   "cell_type": "markdown",
   "metadata": {},
   "source": [
    "## Solution\n",
    "By manual comparison, the greatest product of four consecutive numbers is 70600674 = 87 x 97 x 94 x 89"
   ]
  },
  {
   "cell_type": "code",
   "execution_count": null,
   "metadata": {},
   "outputs": [],
   "source": []
  }
 ],
 "metadata": {
  "kernelspec": {
   "display_name": "Python 3",
   "language": "python",
   "name": "python3"
  },
  "language_info": {
   "codemirror_mode": {
    "name": "ipython",
    "version": 3
   },
   "file_extension": ".py",
   "mimetype": "text/x-python",
   "name": "python",
   "nbconvert_exporter": "python",
   "pygments_lexer": "ipython3",
   "version": "3.6.5"
  }
 },
 "nbformat": 4,
 "nbformat_minor": 2
}
