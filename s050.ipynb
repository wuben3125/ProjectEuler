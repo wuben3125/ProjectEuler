{
 "cells": [
  {
   "cell_type": "code",
   "execution_count": 1,
   "metadata": {},
   "outputs": [
    {
     "ename": "SyntaxError",
     "evalue": "invalid syntax (<ipython-input-1-dd1d2c6ed3eb>, line 1)",
     "output_type": "error",
     "traceback": [
      "\u001b[1;36m  File \u001b[1;32m\"<ipython-input-1-dd1d2c6ed3eb>\"\u001b[1;36m, line \u001b[1;32m1\u001b[0m\n\u001b[1;33m    Consecutive prime sum\u001b[0m\n\u001b[1;37m                    ^\u001b[0m\n\u001b[1;31mSyntaxError\u001b[0m\u001b[1;31m:\u001b[0m invalid syntax\n"
     ]
    }
   ],
   "source": [
    "# Consecutive prime sum\n",
    "\n",
    "# The prime 41, can be written as the sum of six consecutive primes:\n",
    "\n",
    "# 41 = 2 + 3 + 5 + 7 + 11 + 13\n",
    "# This is the longest sum of consecutive primes that adds to a prime below one-hundred.\n",
    "\n",
    "# The longest sum of consecutive primes below one-thousand that adds to a prime, contains 21 terms, and is equal to 953.\n",
    "\n",
    "# Which prime, below one-million, can be written as the sum of the most consecutive primes?"
   ]
  },
  {
   "cell_type": "code",
   "execution_count": 2,
   "metadata": {},
   "outputs": [],
   "source": [
    "# Planning:\n",
    "\n",
    "# isPrime function\n",
    "\n",
    "# function that returns a list of all primes under n\n",
    "\n",
    "# a function that parses through valid consecutive sums of elements of the prime list, checks if sum is prime, updates the counter of consec primes \n",
    "# - returns prime and number of addends"
   ]
  },
  {
   "cell_type": "code",
   "execution_count": 4,
   "metadata": {},
   "outputs": [],
   "source": [
    "#Code:\n",
    "\n",
    "def isPrime(x):\n",
    "    maxFactor = int(x**(1/2))\n",
    "    \n",
    "    i = 2 # values to be tried, starting at the first non-1 number\n",
    "    \n",
    "    while i <= maxFactor:\n",
    "        if x % i == 0:\n",
    "            return False\n",
    "        i += 1\n",
    "    \n",
    "    return True\n",
    "    "
   ]
  },
  {
   "cell_type": "code",
   "execution_count": 5,
   "metadata": {},
   "outputs": [],
   "source": [
    "def divisibleByListElement(x, intList): # returns false by default if intList is empty or not a list\n",
    "    '''Evaluates whether x is divisible by one of the elements of intList'''\n",
    "    for i in intList:\n",
    "        if x % i == 0:\n",
    "            return True\n",
    "    return False"
   ]
  },
  {
   "cell_type": "code",
   "execution_count": 6,
   "metadata": {},
   "outputs": [],
   "source": [
    "def listPrimesUnderN(n):\n",
    "    primeList = []\n",
    "    \n",
    "    i = 2\n",
    "    \n",
    "    while i < n:\n",
    "        if not divisibleByListElement(i, primeList):\n",
    "            primeList.append(i)\n",
    "        \n",
    "        i += 1\n",
    "    \n",
    "    return primeList"
   ]
  },
  {
   "cell_type": "code",
   "execution_count": 27,
   "metadata": {},
   "outputs": [],
   "source": [
    "def mostConsecPrimesPrimeUnderN(n):\n",
    "    primeList = listPrimesUnderN(n)\n",
    "    \n",
    "    highestCounter = -1 # default value is clearly indicative of NO SUCH VALUE\n",
    "    \n",
    "    mostConsecPrimesPrime = -1\n",
    "    \n",
    "    i = 1\n",
    "    while i <= len(primeList): \n",
    "        j = 2 # no standalone numbers; a sum must have at least two addends\n",
    "        while j <= len(primeList) - i: # j is the number of consec primes to be added\n",
    "            tempCounter = 0\n",
    "            tempSum = 0\n",
    "            k = i\n",
    "            while k < j + i and tempSum < n:  # excludes the case in which 100 is surpassed by a final addend\n",
    "                tempSum += primeList[k - 1] \n",
    "                tempCounter += 1\n",
    "                \n",
    "                k += 1\n",
    "                \n",
    "            \n",
    "            if isPrime(tempSum) and tempCounter > highestCounter and tempSum < n: # latter conditional part accounts for the above case\n",
    "                highestCounter = tempCounter\n",
    "                mostConsecPrimesPrime = tempSum\n",
    "                \n",
    "            j += 1\n",
    "        i += 1\n",
    "    \n",
    "    print(f\"The prime {mostConsecPrimesPrime} is a sum of {highestCounter} primes\")\n",
    "    return mostConsecPrimesPrime\n",
    "    "
   ]
  },
  {
   "cell_type": "code",
   "execution_count": 23,
   "metadata": {},
   "outputs": [
    {
     "name": "stdout",
     "output_type": "stream",
     "text": [
      "The prime 41 is a sum of 6 primes\n"
     ]
    },
    {
     "data": {
      "text/plain": [
       "41"
      ]
     },
     "execution_count": 23,
     "metadata": {},
     "output_type": "execute_result"
    }
   ],
   "source": [
    "mostConsecPrimesPrimeUnderN(100)"
   ]
  },
  {
   "cell_type": "code",
   "execution_count": 26,
   "metadata": {},
   "outputs": [
    {
     "name": "stdout",
     "output_type": "stream",
     "text": [
      "The prime 9521 is a sum of 65 primes\n"
     ]
    },
    {
     "data": {
      "text/plain": [
       "9521"
      ]
     },
     "execution_count": 26,
     "metadata": {},
     "output_type": "execute_result"
    }
   ],
   "source": [
    "mostConsecPrimesPrimeUnderN(10000)\n",
    "# ~ 6 seconds"
   ]
  },
  {
   "cell_type": "code",
   "execution_count": 28,
   "metadata": {},
   "outputs": [
    {
     "name": "stdout",
     "output_type": "stream",
     "text": [
      "The prime 92951 is a sum of 183 primes\n"
     ]
    },
    {
     "data": {
      "text/plain": [
       "92951"
      ]
     },
     "execution_count": 28,
     "metadata": {},
     "output_type": "execute_result"
    }
   ],
   "source": [
    "mostConsecPrimesPrimeUnderN(100000)\n",
    "# ~ 8 minutes...?"
   ]
  },
  {
   "cell_type": "code",
   "execution_count": 32,
   "metadata": {},
   "outputs": [],
   "source": [
    "import time\n"
   ]
  },
  {
   "cell_type": "code",
   "execution_count": 33,
   "metadata": {},
   "outputs": [
    {
     "name": "stdout",
     "output_type": "stream",
     "text": [
      "The prime 997651 is a sum of 543 primes\n",
      "Time elapsed: 94871.03412270546 seconds\n"
     ]
    }
   ],
   "source": [
    "# Solution:\n",
    "\n",
    "start = time.time()\n",
    " \n",
    "mostConsecPrimesPrimeUnderN(1000000)\n",
    "\n",
    "end = time.time()\n",
    "\n",
    "print(f\"Time elapsed: {end - start} seconds\")\n",
    "\n"
   ]
  },
  {
   "cell_type": "code",
   "execution_count": null,
   "metadata": {},
   "outputs": [],
   "source": [
    "# Learning:\n",
    "\n",
    "# Automatic program timing https://stackoverflow.com/questions/7370801/measure-time-elapsed-in-python\n",
    "# time module, time.time() function, time.time() - time.time()\n",
    "\n",
    "# Reflection: THIS WAS a 5% DIFFICULTY QUESTIONnNNN WTFFFFF"
   ]
  },
  {
   "cell_type": "code",
   "execution_count": null,
   "metadata": {},
   "outputs": [],
   "source": []
  }
 ],
 "metadata": {
  "kernelspec": {
   "display_name": "Python 3",
   "language": "python",
   "name": "python3"
  },
  "language_info": {
   "codemirror_mode": {
    "name": "ipython",
    "version": 3
   },
   "file_extension": ".py",
   "mimetype": "text/x-python",
   "name": "python",
   "nbconvert_exporter": "python",
   "pygments_lexer": "ipython3",
   "version": "3.6.5"
  }
 },
 "nbformat": 4,
 "nbformat_minor": 2
}
