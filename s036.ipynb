{
 "cells": [
  {
   "cell_type": "markdown",
   "metadata": {},
   "source": [
    "# Double Base Palindromes\n",
    "Find all the numbers under 1,000,000 that are palindromes, and whose base-2 conversions are also palindromes"
   ]
  },
  {
   "cell_type": "markdown",
   "metadata": {},
   "source": [
    "# Tinkering"
   ]
  },
  {
   "cell_type": "code",
   "execution_count": 1,
   "metadata": {},
   "outputs": [
    {
     "data": {
      "text/plain": [
       "'1000'"
      ]
     },
     "execution_count": 1,
     "metadata": {},
     "output_type": "execute_result"
    }
   ],
   "source": [
    "str(1000)"
   ]
  },
  {
   "cell_type": "code",
   "execution_count": 3,
   "metadata": {},
   "outputs": [
    {
     "data": {
      "text/plain": [
       "'0b1111101000'"
      ]
     },
     "execution_count": 3,
     "metadata": {},
     "output_type": "execute_result"
    }
   ],
   "source": [
    "bin(1000)"
   ]
  },
  {
   "cell_type": "code",
   "execution_count": 4,
   "metadata": {},
   "outputs": [
    {
     "data": {
      "text/plain": [
       "'0b10'"
      ]
     },
     "execution_count": 4,
     "metadata": {},
     "output_type": "execute_result"
    }
   ],
   "source": [
    "bin(2)"
   ]
  },
  {
   "cell_type": "code",
   "execution_count": 5,
   "metadata": {},
   "outputs": [
    {
     "data": {
      "text/plain": [
       "'o'"
      ]
     },
     "execution_count": 5,
     "metadata": {},
     "output_type": "execute_result"
    }
   ],
   "source": [
    "\"bob\"[1:-1]"
   ]
  },
  {
   "cell_type": "code",
   "execution_count": 12,
   "metadata": {},
   "outputs": [],
   "source": [
    "def is_palindrome(string):\n",
    "    if len(string) <= 1:\n",
    "        return True\n",
    "    \n",
    "    else:\n",
    "        if string[0] == string[-1]:\n",
    "            return is_palindrome(string[1:-1])\n",
    "        else:\n",
    "            return False"
   ]
  },
  {
   "cell_type": "code",
   "execution_count": 13,
   "metadata": {},
   "outputs": [
    {
     "data": {
      "text/plain": [
       "True"
      ]
     },
     "execution_count": 13,
     "metadata": {},
     "output_type": "execute_result"
    }
   ],
   "source": [
    "is_palindrome(\"somanydynamos\")"
   ]
  },
  {
   "cell_type": "markdown",
   "metadata": {},
   "source": [
    "# Solution\n",
    "iterate through all integers in base 10, under 1,000,000, in string form\n",
    "    test if each is palindrome or not\n",
    "        if so, test if base-2 conversion is palindrome (use bin() method and strip first two characters)\n",
    "            if so, append to a list"
   ]
  },
  {
   "cell_type": "code",
   "execution_count": 15,
   "metadata": {},
   "outputs": [
    {
     "name": "stdout",
     "output_type": "stream",
     "text": [
      "('0', '0')\n",
      "('1', '1')\n",
      "('3', '11')\n",
      "('5', '101')\n",
      "('7', '111')\n",
      "('9', '1001')\n",
      "('33', '100001')\n",
      "('99', '1100011')\n",
      "('313', '100111001')\n",
      "('585', '1001001001')\n",
      "('717', '1011001101')\n",
      "('7447', '1110100010111')\n",
      "('9009', '10001100110001')\n",
      "('15351', '11101111110111')\n",
      "('32223', '111110111011111')\n",
      "('39993', '1001110000111001')\n",
      "('53235', '1100111111110011')\n",
      "('53835', '1101001001001011')\n",
      "('73737', '10010000000001001')\n",
      "('585585', '10001110111101110001')\n"
     ]
    }
   ],
   "source": [
    "double_palindromes = []\n",
    "\n",
    "for base10_int in range(0, 1000000):\n",
    "    base10_str = str(base10_int)\n",
    "    \n",
    "    if is_palindrome(base10_str):\n",
    "        \n",
    "        base2_str = bin(base10_int)[2:]\n",
    "        \n",
    "        if is_palindrome(base2_str):\n",
    "            print((base10_str, base2_str))\n",
    "            double_palindromes.append(base10_int)"
   ]
  },
  {
   "cell_type": "code",
   "execution_count": 16,
   "metadata": {},
   "outputs": [
    {
     "data": {
      "text/plain": [
       "872187"
      ]
     },
     "execution_count": 16,
     "metadata": {},
     "output_type": "execute_result"
    }
   ],
   "source": [
    "sum(double_palindromes)"
   ]
  },
  {
   "cell_type": "markdown",
   "metadata": {},
   "source": [
    "# Learning\n",
    "* \n",
    "* bin() function returns '0b', followed by the binary integer\n",
    "* "
   ]
  }
 ],
 "metadata": {
  "kernelspec": {
   "display_name": "Python 3",
   "language": "python",
   "name": "python3"
  },
  "language_info": {
   "codemirror_mode": {
    "name": "ipython",
    "version": 3
   },
   "file_extension": ".py",
   "mimetype": "text/x-python",
   "name": "python",
   "nbconvert_exporter": "python",
   "pygments_lexer": "ipython3",
   "version": "3.6.10"
  }
 },
 "nbformat": 4,
 "nbformat_minor": 4
}
