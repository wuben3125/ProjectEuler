{
 "cells": [
  {
   "cell_type": "markdown",
   "metadata": {},
   "source": [
    "# Permuted Multiples\n",
    "Source: https://projecteuler.net/problem=52"
   ]
  },
  {
   "cell_type": "markdown",
   "metadata": {},
   "source": [
    "# Problem Statement\n",
    "It can be seen that the number, 125874, and its double, 251748, contain exactly the same digits, but in a different order.\n",
    "\n",
    "Find the smallest positive integer, x, such that 2x, 3x, 4x, 5x, and 6x, contain the same digits."
   ]
  },
  {
   "cell_type": "markdown",
   "metadata": {},
   "source": [
    "## Planning\n",
    "The number that meets these criteria must setart with the digit '1', otherwise a differentn number of digits will appear for 6x. \n",
    "\n",
    "If all the numbers 100,000 - 200,000 don't yield results, then the numbers 1,000,000 through 2,000,000 need to be tried.\n",
    "\n",
    "I will use a function that tests if two numbers have the same digits."
   ]
  },
  {
   "cell_type": "markdown",
   "metadata": {},
   "source": [
    "## Tinkering"
   ]
  },
  {
   "cell_type": "code",
   "execution_count": 1,
   "metadata": {},
   "outputs": [
    {
     "name": "stdout",
     "output_type": "stream",
     "text": [
      "['b', 'c']\n"
     ]
    }
   ],
   "source": [
    "a_list=['a','b','c']\n",
    "a_list.remove('a')\n",
    "\n",
    "print(a_list)"
   ]
  },
  {
   "cell_type": "code",
   "execution_count": 3,
   "metadata": {},
   "outputs": [],
   "source": [
    "def contains_same_digits(num_1, num_2):\n",
    "    \"\"\"\n",
    "    \n",
    "    \"\"\"\n",
    "    num_1_digits = []\n",
    "    num_2_digits = []\n",
    "    \n",
    "    # get all digits from num_1\n",
    "    if num_1 == 0:\n",
    "        num_1_digits.append(0)\n",
    "    else:\n",
    "        while num_1 > 0:\n",
    "            last_digit = num_1%10\n",
    "            \n",
    "            num_1_digits.append(last_digit)\n",
    "            \n",
    "            num_1 = int(num_1/10)\n",
    "    \n",
    "    # get all digits from num_2\n",
    "    if num_2 == 0:\n",
    "        num_2_digits.append(0)\n",
    "    else:\n",
    "        while num_2 > 0:\n",
    "            last_digit = num_2%10\n",
    "            \n",
    "            num_2_digits.append(last_digit)\n",
    "            \n",
    "            num_2 = int(num_2/10)\n",
    "    \n",
    "    # test if each element of num_2 is in num_1, removing the num_1 digit each time\n",
    "    same_digits = True\n",
    "    \n",
    "    for digit in num_2_digits:\n",
    "        if digit in num_1_digits:\n",
    "            num_1_digits.remove(digit)\n",
    "        else:\n",
    "            same_digits = False\n",
    "            break\n",
    "            \n",
    "    return same_digits"
   ]
  },
  {
   "cell_type": "code",
   "execution_count": 4,
   "metadata": {},
   "outputs": [
    {
     "data": {
      "text/plain": [
       "True"
      ]
     },
     "execution_count": 4,
     "metadata": {},
     "output_type": "execute_result"
    }
   ],
   "source": [
    "## testing\n",
    "contains_same_digits(10234, 32401)"
   ]
  },
  {
   "cell_type": "code",
   "execution_count": 5,
   "metadata": {},
   "outputs": [
    {
     "data": {
      "text/plain": [
       "False"
      ]
     },
     "execution_count": 5,
     "metadata": {},
     "output_type": "execute_result"
    }
   ],
   "source": [
    "## testing\n",
    "contains_same_digits(1, 11)"
   ]
  },
  {
   "cell_type": "code",
   "execution_count": 7,
   "metadata": {
    "scrolled": true
   },
   "outputs": [
    {
     "name": "stdout",
     "output_type": "stream",
     "text": [
      "142857\n",
      "Time elapsed: 0.4749751119014507\n"
     ]
    }
   ],
   "source": [
    "## solution loop\n",
    "import timeit\n",
    "\n",
    "start=timeit.default_timer()\n",
    "###############################\n",
    "\n",
    "for x in range(100000, int(1000000/6) + 1 + 1):\n",
    "    if contains_same_digits(x, 2*x) and contains_same_digits(x, 3*x) \\\n",
    "        and contains_same_digits(x, 4*x) and contains_same_digits(x, 5*x)  \\\n",
    "        and contains_same_digits(x, 6*x):\n",
    "        \n",
    "        print(x)\n",
    "        \n",
    "################################\n",
    "end = timeit.default_timer()\n",
    "print(f\"Time elapsed: {end-start}\")"
   ]
  },
  {
   "cell_type": "code",
   "execution_count": 10,
   "metadata": {},
   "outputs": [
    {
     "name": "stdout",
     "output_type": "stream",
     "text": [
      "[285714, 428571, 571428, 714285, 857142]\n"
     ]
    }
   ],
   "source": [
    "## check\n",
    "print([142857 * mult for mult in [2, 3, 4, 5, 6]])"
   ]
  },
  {
   "cell_type": "markdown",
   "metadata": {},
   "source": [
    "# Solution\n",
    "142857"
   ]
  },
  {
   "cell_type": "markdown",
   "metadata": {},
   "source": [
    "## Post-Solution Tinkering\n",
    "Are there other solutions greater than the one observed? "
   ]
  },
  {
   "cell_type": "code",
   "execution_count": 8,
   "metadata": {},
   "outputs": [
    {
     "name": "stdout",
     "output_type": "stream",
     "text": [
      "1428570\n",
      "1429857\n",
      "Time elapsed: 5.359420240293641\n"
     ]
    }
   ],
   "source": [
    "## solution loop\n",
    "import timeit\n",
    "\n",
    "start=timeit.default_timer()\n",
    "###############################\n",
    "\n",
    "for x in range(1000000, int(10000000/6) + 1 + 1):\n",
    "    if contains_same_digits(x, 2*x) and contains_same_digits(x, 3*x) \\\n",
    "        and contains_same_digits(x, 4*x) and contains_same_digits(x, 5*x)  \\\n",
    "        and contains_same_digits(x, 6*x):\n",
    "        \n",
    "        print(x)\n",
    "        \n",
    "################################\n",
    "end = timeit.default_timer()\n",
    "print(f\"Time elapsed: {end-start}\")"
   ]
  },
  {
   "cell_type": "code",
   "execution_count": 9,
   "metadata": {},
   "outputs": [
    {
     "name": "stdout",
     "output_type": "stream",
     "text": [
      "[2857140, 4285710, 5714280, 7142850, 8571420]\n"
     ]
    }
   ],
   "source": [
    "print([1428570 * mult for mult in [2, 3, 4, 5, 6]])"
   ]
  },
  {
   "cell_type": "code",
   "execution_count": 11,
   "metadata": {},
   "outputs": [
    {
     "name": "stdout",
     "output_type": "stream",
     "text": [
      "[2859714, 4289571, 5719428, 7149285, 8579142]\n"
     ]
    }
   ],
   "source": [
    "print([1429857 * mult for mult in [2, 3, 4, 5, 6]])"
   ]
  },
  {
   "cell_type": "code",
   "execution_count": null,
   "metadata": {},
   "outputs": [],
   "source": []
  }
 ],
 "metadata": {
  "kernelspec": {
   "display_name": "Python 3",
   "language": "python",
   "name": "python3"
  },
  "language_info": {
   "codemirror_mode": {
    "name": "ipython",
    "version": 3
   },
   "file_extension": ".py",
   "mimetype": "text/x-python",
   "name": "python",
   "nbconvert_exporter": "python",
   "pygments_lexer": "ipython3",
   "version": "3.6.10"
  }
 },
 "nbformat": 4,
 "nbformat_minor": 4
}
