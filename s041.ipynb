{
 "cells": [
  {
   "cell_type": "markdown",
   "metadata": {},
   "source": [
    "# Pandigital Primes\n",
    "Source:\n"
   ]
  },
  {
   "cell_type": "markdown",
   "metadata": {},
   "source": [
    "# Problem Statement"
   ]
  },
  {
   "cell_type": "code",
   "execution_count": null,
   "metadata": {},
   "outputs": [],
   "source": []
  },
  {
   "cell_type": "markdown",
   "metadata": {},
   "source": [
    "# Tinkering"
   ]
  },
  {
   "cell_type": "code",
   "execution_count": 1,
   "metadata": {},
   "outputs": [],
   "source": [
    "# getting list of primes under n\n",
    "def primes_under_n(n):\n",
    "    primes = []\n",
    "    \n",
    "    for i in range(2, n+1):\n",
    "        flag = True\n",
    "        for prime in primes:\n",
    "            if i%prime == 0: flag = False\n",
    "        if flag:\n",
    "            primes.append(i)\n",
    "            \n",
    "    return primes"
   ]
  },
  {
   "cell_type": "code",
   "execution_count": 2,
   "metadata": {},
   "outputs": [],
   "source": [
    "import timeit"
   ]
  },
  {
   "cell_type": "code",
   "execution_count": 4,
   "metadata": {},
   "outputs": [
    {
     "ename": "KeyboardInterrupt",
     "evalue": "",
     "output_type": "error",
     "traceback": [
      "\u001b[1;31m---------------------------------------------------------------------------\u001b[0m",
      "\u001b[1;31mKeyboardInterrupt\u001b[0m                         Traceback (most recent call last)",
      "\u001b[1;32m<ipython-input-4-aa839e60276a>\u001b[0m in \u001b[0;36m<module>\u001b[1;34m\u001b[0m\n\u001b[0;32m      3\u001b[0m \u001b[0mn\u001b[0m \u001b[1;33m=\u001b[0m \u001b[1;36m1000000\u001b[0m\u001b[1;33m\u001b[0m\u001b[1;33m\u001b[0m\u001b[0m\n\u001b[0;32m      4\u001b[0m \u001b[1;33m\u001b[0m\u001b[0m\n\u001b[1;32m----> 5\u001b[1;33m \u001b[0mprimes_under_million\u001b[0m \u001b[1;33m=\u001b[0m \u001b[0mprimes_under_n\u001b[0m\u001b[1;33m(\u001b[0m\u001b[0mn\u001b[0m\u001b[1;33m)\u001b[0m\u001b[1;33m\u001b[0m\u001b[1;33m\u001b[0m\u001b[0m\n\u001b[0m\u001b[0;32m      6\u001b[0m \u001b[1;33m\u001b[0m\u001b[0m\n\u001b[0;32m      7\u001b[0m \u001b[0mend\u001b[0m \u001b[1;33m=\u001b[0m \u001b[0mtimeit\u001b[0m\u001b[1;33m.\u001b[0m\u001b[0mdefault_timer\u001b[0m\u001b[1;33m(\u001b[0m\u001b[1;33m)\u001b[0m\u001b[1;33m\u001b[0m\u001b[1;33m\u001b[0m\u001b[0m\n",
      "\u001b[1;32m<ipython-input-1-ff456430b4de>\u001b[0m in \u001b[0;36mprimes_under_n\u001b[1;34m(n)\u001b[0m\n\u001b[0;32m      6\u001b[0m         \u001b[0mflag\u001b[0m \u001b[1;33m=\u001b[0m \u001b[1;32mTrue\u001b[0m\u001b[1;33m\u001b[0m\u001b[1;33m\u001b[0m\u001b[0m\n\u001b[0;32m      7\u001b[0m         \u001b[1;32mfor\u001b[0m \u001b[0mprime\u001b[0m \u001b[1;32min\u001b[0m \u001b[0mprimes\u001b[0m\u001b[1;33m:\u001b[0m\u001b[1;33m\u001b[0m\u001b[1;33m\u001b[0m\u001b[0m\n\u001b[1;32m----> 8\u001b[1;33m             \u001b[1;32mif\u001b[0m \u001b[0mi\u001b[0m\u001b[1;33m%\u001b[0m\u001b[0mprime\u001b[0m \u001b[1;33m==\u001b[0m \u001b[1;36m0\u001b[0m\u001b[1;33m:\u001b[0m \u001b[0mflag\u001b[0m \u001b[1;33m=\u001b[0m \u001b[1;32mFalse\u001b[0m\u001b[1;33m\u001b[0m\u001b[1;33m\u001b[0m\u001b[0m\n\u001b[0m\u001b[0;32m      9\u001b[0m         \u001b[1;32mif\u001b[0m \u001b[0mflag\u001b[0m\u001b[1;33m:\u001b[0m\u001b[1;33m\u001b[0m\u001b[1;33m\u001b[0m\u001b[0m\n\u001b[0;32m     10\u001b[0m             \u001b[0mprimes\u001b[0m\u001b[1;33m.\u001b[0m\u001b[0mappend\u001b[0m\u001b[1;33m(\u001b[0m\u001b[0mi\u001b[0m\u001b[1;33m)\u001b[0m\u001b[1;33m\u001b[0m\u001b[1;33m\u001b[0m\u001b[0m\n",
      "\u001b[1;31mKeyboardInterrupt\u001b[0m: "
     ]
    }
   ],
   "source": [
    "start = timeit.default_timer()\n",
    "\n",
    "n = 1000000\n",
    "\n",
    "primes_under_million = primes_under_n(n)\n",
    "\n",
    "end = timeit.default_timer()\n",
    "# takes way too longg"
   ]
  },
  {
   "cell_type": "code",
   "execution_count": null,
   "metadata": {},
   "outputs": [],
   "source": [
    "start = timeit.default_timer()\n",
    "\n",
    "n = 1000000\n",
    "\n",
    "primes_under_billion = primes_under_n(n)\n",
    "\n",
    "end = timeit.default_timer()"
   ]
  },
  {
   "cell_type": "markdown",
   "metadata": {},
   "source": [
    "# Planning\n",
    "The largest pandigital prime cannot have `n=9` since the sum of 1 through 9 is 45, meaning all possible permutations of the digits 1-9 will result in numbers divisible by 9.\n",
    "\n",
    "This means that the next largest possible n is 8. Permutations of the digits 1-8 that aren't obviously composite (e.g.: any number that ends in an even digit) should be tested, starting from the largest possible. The first result that is prime will be the largest pandigital prime. \n",
    "\n",
    "If there are no returns for `n=8`, the same process will be tried for `n=7.`\n",
    "\n",
    "If it turns out that this solution is too slow to calculate, another one will need to be ideated."
   ]
  },
  {
   "cell_type": "code",
   "execution_count": 8,
   "metadata": {},
   "outputs": [],
   "source": [
    "## Tinkering\n",
    "global perm_list \n",
    "perm_list = []\n",
    "\n",
    "def generate_permutations(list_of_chars, string):\n",
    "    \"\"\"\n",
    "    list_of_chars: list of unique chars\n",
    "    \n",
    "    \"\"\"\n",
    "    global perm_list \n",
    "    \n",
    "    if len(list_of_chars) == 0:\n",
    "        perm_list.append(string)\n",
    "        \n",
    "    else:\n",
    "        for char in list_of_chars:\n",
    "            \n",
    "            copy_list_of_chars = list_of_chars.copy()\n",
    "            copy_list_of_chars.remove(char)\n",
    "            \n",
    "            copy_string = string\n",
    "            copy_string += char\n",
    "            \n",
    "            generate_permutations(copy_list_of_chars, copy_string)\n",
    "        "
   ]
  },
  {
   "cell_type": "code",
   "execution_count": 9,
   "metadata": {},
   "outputs": [],
   "source": [
    "generate_permutations(['8', '7', '6', '5'], \"\")"
   ]
  },
  {
   "cell_type": "code",
   "execution_count": 10,
   "metadata": {},
   "outputs": [
    {
     "data": {
      "text/plain": [
       "['8765',\n",
       " '8756',\n",
       " '8675',\n",
       " '8657',\n",
       " '8576',\n",
       " '8567',\n",
       " '7865',\n",
       " '7856',\n",
       " '7685',\n",
       " '7658',\n",
       " '7586',\n",
       " '7568',\n",
       " '6875',\n",
       " '6857',\n",
       " '6785',\n",
       " '6758',\n",
       " '6587',\n",
       " '6578',\n",
       " '5876',\n",
       " '5867',\n",
       " '5786',\n",
       " '5768',\n",
       " '5687',\n",
       " '5678']"
      ]
     },
     "execution_count": 10,
     "metadata": {},
     "output_type": "execute_result"
    }
   ],
   "source": [
    "perm_list"
   ]
  },
  {
   "cell_type": "code",
   "execution_count": 11,
   "metadata": {},
   "outputs": [
    {
     "data": {
      "text/plain": [
       "123456"
      ]
     },
     "execution_count": 11,
     "metadata": {},
     "output_type": "execute_result"
    }
   ],
   "source": [
    "## str to int\n",
    "int('123456')"
   ]
  },
  {
   "cell_type": "code",
   "execution_count": 17,
   "metadata": {},
   "outputs": [],
   "source": [
    "def test_pandigital_prime(decreasing_pandigital_strings):\n",
    "    \"\"\"\n",
    "    decreasing_pandigitals: sorted list of pandigital int strings\n",
    "    \n",
    "    returns the first pandigital that is prime\n",
    "    \"\"\"\n",
    "    \n",
    "    # generate all primes for testing\n",
    "    greatest_pandigital = int(decreasing_pandigital_strings[0])\n",
    "    \n",
    "    primes = primes_under_n( int(greatest_pandigital**0.5) + 1)\n",
    "    \n",
    "    for pandigital_string in decreasing_pandigital_strings:\n",
    "        \n",
    "        pandigital = int(pandigital_string)\n",
    "        \n",
    "        is_prime = True\n",
    "        \n",
    "        for p in primes:\n",
    "            if pandigital % p == 0:\n",
    "                is_prime = False\n",
    "                \n",
    "        if is_prime:\n",
    "            return pandigital\n",
    "        \n",
    "    return -1"
   ]
  },
  {
   "cell_type": "code",
   "execution_count": 18,
   "metadata": {},
   "outputs": [],
   "source": [
    "## Solution\n",
    "global perm_list \n",
    "perm_list = []\n",
    "\n",
    "generate_permutations(['8', '7', '6', '5', '4', '3', '2', '1'], \"\")\n",
    "\n"
   ]
  },
  {
   "cell_type": "code",
   "execution_count": 19,
   "metadata": {},
   "outputs": [
    {
     "data": {
      "text/plain": [
       "-1"
      ]
     },
     "execution_count": 19,
     "metadata": {},
     "output_type": "execute_result"
    }
   ],
   "source": [
    "test_pandigital_prime(perm_list)"
   ]
  },
  {
   "cell_type": "code",
   "execution_count": 20,
   "metadata": {},
   "outputs": [],
   "source": [
    "## Solution - continued\n",
    "global perm_list \n",
    "perm_list = []\n",
    "\n",
    "generate_permutations(['7', '6', '5', '4', '3', '2', '1'], \"\")\n",
    "\n"
   ]
  },
  {
   "cell_type": "code",
   "execution_count": 21,
   "metadata": {},
   "outputs": [
    {
     "data": {
      "text/plain": [
       "7652413"
      ]
     },
     "execution_count": 21,
     "metadata": {},
     "output_type": "execute_result"
    }
   ],
   "source": [
    "test_pandigital_prime(perm_list)"
   ]
  },
  {
   "cell_type": "markdown",
   "metadata": {},
   "source": [
    "## Reflections\n",
    "My approach was to write some code that did something, and then somehow incorporate it. Admittedly, my approach was a bit haphazard, but it got the job done. What was important was that my solution method was well thought-out and efficient - the coding itself is secondary to the thinking process.\n",
    "\n",
    "Also, I don't consider it cheating that I looked up and reused some code from problem 007. I think the purpose of writing code that works is not just to prove that I can do it, but to lighten the load for future computation as well. "
   ]
  },
  {
   "cell_type": "code",
   "execution_count": null,
   "metadata": {},
   "outputs": [],
   "source": []
  }
 ],
 "metadata": {
  "kernelspec": {
   "display_name": "Python 3",
   "language": "python",
   "name": "python3"
  },
  "language_info": {
   "codemirror_mode": {
    "name": "ipython",
    "version": 3
   },
   "file_extension": ".py",
   "mimetype": "text/x-python",
   "name": "python",
   "nbconvert_exporter": "python",
   "pygments_lexer": "ipython3",
   "version": "3.6.10"
  }
 },
 "nbformat": 4,
 "nbformat_minor": 4
}
