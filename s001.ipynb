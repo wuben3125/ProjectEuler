{
 "cells": [
  {
   "cell_type": "code",
   "execution_count": 1,
   "metadata": {
    "collapsed": true
   },
   "outputs": [
    {
     "data": {
      "text/plain": [
       "'\\nMultiples of 3 and 5:\\n    \\nIf we list all the natural numbers below 10 that are multiples of 3 or 5, we get 3, 5, 6 and 9. The sum of these multiples is 23.\\n\\nFind the sum of all the multiples of 3 or 5 below 1000.\\n'"
      ]
     },
     "execution_count": 1,
     "metadata": {},
     "output_type": "execute_result"
    }
   ],
   "source": [
    "# Multiples of 3 and 5:\n",
    "    \n",
    "# If we list all the natural numbers below 10 that are multiples of 3 or 5, we get 3, 5, 6 and 9. \n",
    "# The sum of these multiples is 23.\n",
    "\n",
    "# Find the sum of all the multiples of 3 or 5 below 1000.\n"
   ]
  },
  {
   "cell_type": "code",
   "execution_count": 2,
   "metadata": {},
   "outputs": [
    {
     "data": {
      "text/plain": [
       "'\\n\\n\\n\\n'"
      ]
     },
     "execution_count": 2,
     "metadata": {},
     "output_type": "execute_result"
    }
   ],
   "source": [
    "# Planning:\n",
    "\n",
    "# Function parses through all integers below an integer parameter n with a for loop,\n",
    "# checks each number along the way and concatenates them to a sum \n",
    "# if they meet a condition (%3 == 0 && %5 == 0). The sum is returned\n"
   ]
  },
  {
   "cell_type": "code",
   "execution_count": 4,
   "metadata": {},
   "outputs": [],
   "source": [
    "# Code:\n",
    "\n",
    "# Input n, the upper bound of the range of numbers to be checked and summed\n",
    "def sumMultiples3and5(upperBound):\n",
    "    sum = 0\n",
    "    for i in range(upperBound):\n",
    "        if i%3 == 0:\n",
    "            sum += i\n",
    "        elif i%5 == 0:\n",
    "            sum += i\n",
    "    return sum\n",
    "            \n",
    "    "
   ]
  },
  {
   "cell_type": "code",
   "execution_count": 5,
   "metadata": {},
   "outputs": [
    {
     "name": "stdout",
     "output_type": "stream",
     "text": [
      "233168\n"
     ]
    }
   ],
   "source": [
    "# Solution:\n",
    "\n",
    "print(sumMultiples3and5(1000))"
   ]
  },
  {
   "cell_type": "code",
   "execution_count": null,
   "metadata": {},
   "outputs": [],
   "source": [
    "# Learning:\n",
    "\n",
    "# https://www.codecademy.com/en/forum_questions/505ba3cfc6addb000200e33c\n",
    "# https://stackoverflow.com/questions/41481661/jupyter-notebook-lines-commented-with-triple-quotes-appear-in-out\n",
    "# Ctrl+/ allows you to comment out multiple selected lines, triple quotes shouldn't be used for comments \n",
    "\n",
    "# https://www.w3schools.com/python/python_for_loops.asp \n",
    "# forgot a python for loop\n",
    "\n",
    "# forgot python was loosely typed language\n",
    "# https://www.python-course.eu/variables.php "
   ]
  }
 ],
 "metadata": {
  "kernelspec": {
   "display_name": "Python 3",
   "language": "python",
   "name": "python3"
  },
  "language_info": {
   "codemirror_mode": {
    "name": "ipython",
    "version": 3
   },
   "file_extension": ".py",
   "mimetype": "text/x-python",
   "name": "python",
   "nbconvert_exporter": "python",
   "pygments_lexer": "ipython3",
   "version": "3.6.5"
  }
 },
 "nbformat": 4,
 "nbformat_minor": 2
}
