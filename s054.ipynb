{
 "cells": [
  {
   "cell_type": "markdown",
   "metadata": {},
   "source": [
    "# Poker hands\n",
    "Source: https://projecteuler.net/problem=54"
   ]
  },
  {
   "cell_type": "markdown",
   "metadata": {},
   "source": [
    "# Problem statement\n",
    "In the card game poker, a hand consists of five cards and are ranked, from lowest to highest, in the following way:\n",
    "\n",
    "High Card: Highest value card.\n",
    "One Pair: Two cards of the same value.\n",
    "Two Pairs: Two different pairs.\n",
    "Three of a Kind: Three cards of the same value.\n",
    "Straight: All cards are consecutive values.\n",
    "Flush: All cards of the same suit.\n",
    "Full House: Three of a kind and a pair.\n",
    "Four of a Kind: Four cards of the same value.\n",
    "Straight Flush: All cards are consecutive values of same suit.\n",
    "Royal Flush: Ten, Jack, Queen, King, Ace, in same suit.\n",
    "The cards are valued in the order:\n",
    "2, 3, 4, 5, 6, 7, 8, 9, 10, Jack, Queen, King, Ace.\n",
    "\n",
    "If two players have the same ranked hands then the rank made up of the highest value wins; for example, a pair of eights beats a pair of fives (see example 1 below). But if two ranks tie, for example, both players have a pair of queens, then highest cards in each hand are compared (see example 4 below); if the highest cards tie then the next highest cards are compared, and so on.\n",
    "\n",
    "Consider the following five hands dealt to two players:\n",
    "\n",
    "Hand\t \tPlayer 1\t \tPlayer 2\t \tWinner\n",
    "\n",
    "1\t \t5H 5C 6S 7S KD\n",
    "Pair of Fives\n",
    " \t2C 3S 8S 8D TD\n",
    "Pair of Eights\n",
    " \tPlayer 2\n",
    "    \n",
    "2\t \t5D 8C 9S JS AC\n",
    "Highest card Ace\n",
    " \t2C 5C 7D 8S QH\n",
    "Highest card Queen\n",
    " \tPlayer 1\n",
    "    \n",
    "3\t \t2D 9C AS AH AC\n",
    "Three Aces\n",
    " \t3D 6D 7D TD QD\n",
    "Flush with Diamonds\n",
    " \tPlayer 2\n",
    "    \n",
    "4\t \t4D 6S 9H QH QC\n",
    "Pair of Queens\n",
    "Highest card Nine\n",
    " \t3D 6D 7H QD QS\n",
    "Pair of Queens\n",
    "Highest card Seven\n",
    " \tPlayer 1\n",
    "    \n",
    "5\t \t2H 2D 4C 4D 4S\n",
    "Full House\n",
    "With Three Fours\n",
    " \t3C 3D 3S 9S 9D\n",
    "Full House\n",
    "with Three Threes\n",
    " \tPlayer 1\n",
    "    \n",
    "The file, poker.txt, contains one-thousand random hands dealt to two players. Each line of the file contains ten cards (separated by a single space): the first five are Player 1's cards and the last five are Player 2's cards. You can assume that all hands are valid (no invalid characters or repeated cards), each player's hand is in no specific order, and in each hand there is a clear winner.\n",
    "\n",
    "How many hands does Player 1 win?"
   ]
  },
  {
   "cell_type": "markdown",
   "metadata": {},
   "source": [
    "# Planning\n",
    "Create a function that reads in the data from the file and returns pairs of tuples/lists\n",
    "\n",
    "Create a function that compares two hands\n",
    "* Create functions that determine the value of each hand according to each different possible ranks\n",
    "* Create a compareto function that compares \n",
    "    * Inspire by the java `compareTo` function\n",
    "* "
   ]
  },
  {
   "cell_type": "code",
   "execution_count": 60,
   "metadata": {},
   "outputs": [],
   "source": [
    "def card_tuple_from_str(card_str):\n",
    "    numeric_val = 0\n",
    "    suite = ''\n",
    "\n",
    "    if card_str[0] == 'T':\n",
    "        numeric_val = 10\n",
    "    elif card_str[0] == 'J':\n",
    "        numeric_val = 11\n",
    "    elif card_str[0] == 'Q':\n",
    "        numeric_val = 12\n",
    "    elif card_str[0] == 'K':\n",
    "        numeric_val = 13\n",
    "    elif card_str[0] == 'A':\n",
    "        numeric_val = 14\n",
    "    else:\n",
    "        numeric_val = int(card_str[0])\n",
    "\n",
    "    suite = card_str[1]\n",
    "\n",
    "    card_tuple = ( numeric_val, suite )\n",
    "\n",
    "    return card_tuple"
   ]
  },
  {
   "cell_type": "code",
   "execution_count": 61,
   "metadata": {},
   "outputs": [
    {
     "data": {
      "text/plain": [
       "(11, 'H')"
      ]
     },
     "execution_count": 61,
     "metadata": {},
     "output_type": "execute_result"
    }
   ],
   "source": [
    "card_tuple_from_str('JH')"
   ]
  },
  {
   "cell_type": "code",
   "execution_count": 4,
   "metadata": {},
   "outputs": [
    {
     "data": {
      "text/plain": [
       "(4, 'H')"
      ]
     },
     "execution_count": 4,
     "metadata": {},
     "output_type": "execute_result"
    }
   ],
   "source": [
    "## testing\n",
    "card_tuple_from_str('4H')"
   ]
  },
  {
   "cell_type": "code",
   "execution_count": 5,
   "metadata": {},
   "outputs": [
    {
     "data": {
      "text/plain": [
       "(14, 'H')"
      ]
     },
     "execution_count": 5,
     "metadata": {},
     "output_type": "execute_result"
    }
   ],
   "source": [
    "## testing\n",
    "card_tuple_from_str('AH')"
   ]
  },
  {
   "cell_type": "code",
   "execution_count": 2,
   "metadata": {},
   "outputs": [],
   "source": [
    "def read_hand_string(line):\n",
    "    \n",
    "    line_divided = line.split()\n",
    "    \n",
    "    hand_1_str = line_divided[0:5]\n",
    "    hand_1_tups = []\n",
    "    for card_str in hand_1_str:\n",
    "        hand_1_tups.append(card_tuple_from_str(card_str))\n",
    "            \n",
    "    \n",
    "    hand_2_str = line_divided[5:10]\n",
    "    hand_2_tups = []\n",
    "    for card_str in hand_2_str:\n",
    "        hand_2_tups.append(card_tuple_from_str(card_str))\n",
    "      \n",
    "    return hand_1_tups, hand_2_tups"
   ]
  },
  {
   "cell_type": "code",
   "execution_count": 6,
   "metadata": {},
   "outputs": [
    {
     "data": {
      "text/plain": [
       "([(5, 'H'), (5, 'C'), (6, 'S'), (7, 'S'), (0, 'D')],\n",
       " [(2, 'C'), (3, 'S'), (8, 'S'), (8, 'D'), (0, 'D')])"
      ]
     },
     "execution_count": 6,
     "metadata": {},
     "output_type": "execute_result"
    }
   ],
   "source": [
    "## testing\n",
    "read_hand_string('5H 5C 6S 7S KD 2C 3S 8S 8D TD')"
   ]
  },
  {
   "cell_type": "code",
   "execution_count": 32,
   "metadata": {},
   "outputs": [],
   "source": [
    "def high_card(hand_tups):\n",
    "    return max([tup[0] for tup in hand_tups])\n",
    "    \n",
    "def one_pair(hand_tups):\n",
    "    numeric_vals = [tup[0] for tup in hand_tups]\n",
    "    \n",
    "    highest_pair = 0\n",
    "    \n",
    "    for val in numeric_vals:\n",
    "        if numeric_vals.count(val) >= 2:\n",
    "            if val > highest_pair:\n",
    "                highest_pair = val\n",
    "    \n",
    "    return highest_pair\n",
    "    \n",
    "def two_pairs(hand_tups):\n",
    "    numeric_vals = [tup[0] for tup in hand_tups]\n",
    "    \n",
    "    pair_count = 0\n",
    "    \n",
    "    for val in numeric_vals:\n",
    "        if numeric_vals.count(val) >= 2:\n",
    "            \n",
    "            while val in numeric_vals: # remove all of same value\n",
    "                numeric_vals.remove(val)\n",
    "                \n",
    "            pair_count += 1\n",
    "    \n",
    "    if pair_count >= 2:\n",
    "        return 1\n",
    "    else:\n",
    "        return 0\n",
    "    \n",
    "def three_of_a_kind(hand_tups):\n",
    "    numeric_vals = [tup[0] for tup in hand_tups]\n",
    "    \n",
    "    for val in numeric_vals:\n",
    "        if numeric_vals.count(val) >= 3:\n",
    "            return val\n",
    "    \n",
    "    return 0"
   ]
  },
  {
   "cell_type": "code",
   "execution_count": 50,
   "metadata": {},
   "outputs": [],
   "source": [
    "#teesting\n",
    "hand_tups = [(5, 'C'), (5, 'D'), (2, 'H'), (2, 'C'), (2, 'D')]"
   ]
  },
  {
   "cell_type": "code",
   "execution_count": 15,
   "metadata": {},
   "outputs": [
    {
     "data": {
      "text/plain": [
       "5"
      ]
     },
     "execution_count": 15,
     "metadata": {},
     "output_type": "execute_result"
    }
   ],
   "source": [
    "##\n",
    "high_card(hand_tups)"
   ]
  },
  {
   "cell_type": "code",
   "execution_count": 16,
   "metadata": {},
   "outputs": [
    {
     "data": {
      "text/plain": [
       "5"
      ]
     },
     "execution_count": 16,
     "metadata": {},
     "output_type": "execute_result"
    }
   ],
   "source": [
    "one_pair(hand_tups)"
   ]
  },
  {
   "cell_type": "code",
   "execution_count": 18,
   "metadata": {},
   "outputs": [
    {
     "data": {
      "text/plain": [
       "1"
      ]
     },
     "execution_count": 18,
     "metadata": {},
     "output_type": "execute_result"
    }
   ],
   "source": [
    "two_pairs(hand_tups)"
   ]
  },
  {
   "cell_type": "code",
   "execution_count": 19,
   "metadata": {},
   "outputs": [
    {
     "data": {
      "text/plain": [
       "2"
      ]
     },
     "execution_count": 19,
     "metadata": {},
     "output_type": "execute_result"
    }
   ],
   "source": [
    "three_of_a_kind(hand_tups)"
   ]
  },
  {
   "cell_type": "code",
   "execution_count": 33,
   "metadata": {},
   "outputs": [],
   "source": [
    "hand_tups_2 = [(5, 'C'), (5, 'D'), (5, 'H'), (3, 'C'), (2, 'D')]"
   ]
  },
  {
   "cell_type": "code",
   "execution_count": 34,
   "metadata": {},
   "outputs": [
    {
     "data": {
      "text/plain": [
       "0"
      ]
     },
     "execution_count": 34,
     "metadata": {},
     "output_type": "execute_result"
    }
   ],
   "source": [
    "two_pairs(hand_tups_2)"
   ]
  },
  {
   "cell_type": "code",
   "execution_count": 21,
   "metadata": {},
   "outputs": [],
   "source": [
    "def straight(hand_tups):\n",
    "    numeric_vals = [tup[0] for tup in hand_tups]\n",
    "    \n",
    "    bottom_val = min(numeric_vals)\n",
    "    \n",
    "    if bottom_val+1 in numeric_vals \\\n",
    "        and bottom_val+2 in numeric_vals \\\n",
    "        and bottom_val+3 in numeric_vals \\\n",
    "        and bottom_val+4 in numeric_vals:\n",
    "    \n",
    "        return bottom_val\n",
    "    \n",
    "    return 0"
   ]
  },
  {
   "cell_type": "code",
   "execution_count": 52,
   "metadata": {},
   "outputs": [
    {
     "data": {
      "text/plain": [
       "0"
      ]
     },
     "execution_count": 52,
     "metadata": {},
     "output_type": "execute_result"
    }
   ],
   "source": [
    "straight(hand_tups)"
   ]
  },
  {
   "cell_type": "code",
   "execution_count": 24,
   "metadata": {},
   "outputs": [],
   "source": [
    "def flush(hand_tups):\n",
    "    \n",
    "    suites = [tup[1] for tup in hand_tups]\n",
    "    \n",
    "    if suites[0] == suites[1] and suites[1] == suites[2] \\\n",
    "        and suites[2] == suites[3] and suites[3] == suites[4]:\n",
    "        \n",
    "        return 1\n",
    "    \n",
    "    return 0"
   ]
  },
  {
   "cell_type": "code",
   "execution_count": 51,
   "metadata": {},
   "outputs": [
    {
     "data": {
      "text/plain": [
       "0"
      ]
     },
     "execution_count": 51,
     "metadata": {},
     "output_type": "execute_result"
    }
   ],
   "source": [
    "## testing\n",
    "flush(hand_tups)"
   ]
  },
  {
   "cell_type": "code",
   "execution_count": 35,
   "metadata": {},
   "outputs": [],
   "source": [
    "def full_house(hand_tups):\n",
    "    \n",
    "    numeric_vals = [tup[0] for tup in hand_tups]\n",
    "    \n",
    "    if three_of_a_kind(hand_tups) > 0:\n",
    "        triple = three_of_a_kind(hand_tups)\n",
    "        \n",
    "        while triple in numeric_vals:\n",
    "            numeric_vals.remove(triple)\n",
    "            \n",
    "        if numeric_vals[0] == numeric_vals[1]:\n",
    "            return 1\n",
    "    \n",
    "    return 0"
   ]
  },
  {
   "cell_type": "code",
   "execution_count": 53,
   "metadata": {},
   "outputs": [
    {
     "data": {
      "text/plain": [
       "1"
      ]
     },
     "execution_count": 53,
     "metadata": {},
     "output_type": "execute_result"
    }
   ],
   "source": [
    "## testing\n",
    "full_house(hand_tups)"
   ]
  },
  {
   "cell_type": "code",
   "execution_count": 25,
   "metadata": {},
   "outputs": [],
   "source": [
    "def four_of_a_kind(hand_tups):\n",
    "    numeric_vals = [tup[0] for tup in hand_tups]\n",
    "    \n",
    "    for val in numeric_vals:\n",
    "        if numeric_vals.count(val) == 4:\n",
    "            return val\n",
    "    \n",
    "    return 0"
   ]
  },
  {
   "cell_type": "code",
   "execution_count": 26,
   "metadata": {},
   "outputs": [],
   "source": [
    "def straight_flush(hand_tups):\n",
    "    if flush(hand_tups) > 0 and straight(hand_tups) > 0:\n",
    "        return flush(hand_tups)\n",
    "    else:\n",
    "        return 0"
   ]
  },
  {
   "cell_type": "code",
   "execution_count": 27,
   "metadata": {},
   "outputs": [],
   "source": [
    "def royal_flush(hand_tups):\n",
    "    if straight_flush(hand_tups) == 10:\n",
    "        return 1\n",
    "    else:\n",
    "        return 0"
   ]
  },
  {
   "cell_type": "code",
   "execution_count": 44,
   "metadata": {},
   "outputs": [],
   "source": [
    "def rank_vals(hand_tups):\n",
    "    \"\"\"\n",
    "    return a list of values for\n",
    "    [royal_flush, straight_flush, four_of_a_kind, full_house,\n",
    "    flush, straight, three_of_a_kind, two_pairs, one_pair, \n",
    "    high_card]\n",
    "\n",
    "    \"\"\"\n",
    "    ranks = []\n",
    "    \n",
    "    for rank in [royal_flush, straight_flush, four_of_a_kind, full_house,\n",
    "        flush, straight, three_of_a_kind, two_pairs, one_pair, \n",
    "        high_card]:\n",
    "        \n",
    "        ranks.append(rank(hand_tups))\n",
    "        \n",
    "    return ranks"
   ]
  },
  {
   "cell_type": "code",
   "execution_count": 45,
   "metadata": {},
   "outputs": [
    {
     "data": {
      "text/plain": [
       "[0, 0, 0, 1, 0, 0, 2, 1, 5, 5]"
      ]
     },
     "execution_count": 45,
     "metadata": {},
     "output_type": "execute_result"
    }
   ],
   "source": [
    "## testing\n",
    "rank_vals(hand_tups)"
   ]
  },
  {
   "cell_type": "code",
   "execution_count": 54,
   "metadata": {},
   "outputs": [],
   "source": [
    "def compare(hand_tups_1, hand_tups_2):\n",
    "    \"\"\"\n",
    "    returns 1 if the first hand wins,\n",
    "        -1 if the second hand wins, \n",
    "        0 if both are tied exactly\n",
    "    \n",
    "    \"\"\"\n",
    "    ranks_1 = rank_vals(hand_tups_1)\n",
    "    ranks_2 = rank_vals(hand_tups_2)\n",
    "    \n",
    "    for i in range(len(ranks_1)):\n",
    "        \n",
    "        if ranks_1[i] > ranks_2[i]:\n",
    "            return 1\n",
    "        elif ranks_1[i] < ranks_2[i]:\n",
    "            return -1\n",
    "        else: # if ranks_1[i] == ranks_2[i]:\n",
    "            continue\n",
    "        \n",
    "    # if all ranks are equal\n",
    "    return 0"
   ]
  },
  {
   "cell_type": "code",
   "execution_count": 55,
   "metadata": {},
   "outputs": [
    {
     "name": "stdout",
     "output_type": "stream",
     "text": [
      "1\n",
      "2\n"
     ]
    }
   ],
   "source": [
    "## tinkering\n",
    "def return_tuple():\n",
    "    return 1, 2\n",
    "\n",
    "a, b = return_tuple()\n",
    "\n",
    "print(a)\n",
    "print(b)"
   ]
  },
  {
   "cell_type": "markdown",
   "metadata": {},
   "source": [
    "# Summary of functions\n",
    "* card_tuple_from_str(card_str)\n",
    "    * outputs a tuple of a numeric value and a suite char\n",
    "* read_hand_string(line)\n",
    "    * returns two lists of card tuples, for player 1 and 2\n",
    "    * \n",
    "* Rank functions\n",
    "    * high_card(hand_tups)\n",
    "    * one_pair(hand_tups)\n",
    "    * ...\n",
    "    * royal_flush(hand_tups)\n",
    "* rank_val(hand_tups)\n",
    "    * returns a list of rank vals from royal_flush to high_card\n",
    "* compare(hand_tups_1, hand_tups_2)\n",
    "    * returns 1 if hand_tups_1 > hand_tups_2, \n",
    "        -1 if hand_tups_1 < hand_tups_2,\n",
    "        0 if equal\n",
    "* "
   ]
  },
  {
   "cell_type": "code",
   "execution_count": 63,
   "metadata": {},
   "outputs": [
    {
     "name": "stdout",
     "output_type": "stream",
     "text": [
      "376\n"
     ]
    }
   ],
   "source": [
    "## solution code\n",
    "player_1_win_count = 0\n",
    "\n",
    "with open('p054_poker.txt') as file:\n",
    "    \n",
    "    for line in file:\n",
    "        hand_tups_1, hand_tups_2 = read_hand_string(line)\n",
    "        \n",
    "#         print(hand_tups_1) # error catching\n",
    "            # found an error in card_tuple_from_str\n",
    "        \n",
    "        if compare(hand_tups_1, hand_tups_2) > 0:\n",
    "            player_1_win_count += 1\n",
    "            \n",
    "print(player_1_win_count)"
   ]
  },
  {
   "cell_type": "markdown",
   "metadata": {},
   "source": [
    "# Final answer\n",
    "Player 1 wins 376 games\n",
    "\n",
    "Time elapsed:\n",
    "~6:30 - 7:42\n",
    "\n",
    "It took me a while just to work up the motivation to start coding. I envisioned that the code wouldn't be difficult, but perhaps just a bit tedious..."
   ]
  },
  {
   "cell_type": "code",
   "execution_count": null,
   "metadata": {},
   "outputs": [],
   "source": []
  }
 ],
 "metadata": {
  "kernelspec": {
   "display_name": "Python 3",
   "language": "python",
   "name": "python3"
  },
  "language_info": {
   "codemirror_mode": {
    "name": "ipython",
    "version": 3
   },
   "file_extension": ".py",
   "mimetype": "text/x-python",
   "name": "python",
   "nbconvert_exporter": "python",
   "pygments_lexer": "ipython3",
   "version": "3.6.10"
  }
 },
 "nbformat": 4,
 "nbformat_minor": 4
}
