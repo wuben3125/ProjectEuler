{
 "cells": [
  {
   "cell_type": "markdown",
   "metadata": {},
   "source": [
    "# Problem 38 - Pandigital multiples\n",
    "\n",
    "Find the largest 9-digit pandigital concatenated product of an integer and a sequence 1, 2, ..., n where n > 1\n",
    "\n",
    "def: a pandigital number is a number that includes all the digits 1-9\n",
    "\n",
    "def: a concatenated product of an integer x and a tuple (a, b, c) is the concatenation x * a + x * b + x * c in string form"
   ]
  },
  {
   "cell_type": "markdown",
   "metadata": {},
   "source": [
    "# Tinkering"
   ]
  },
  {
   "cell_type": "code",
   "execution_count": 4,
   "metadata": {},
   "outputs": [],
   "source": [
    "def is_pandigital(n):\n",
    "    digits = ['1', '2', '3', '4', '5', '6', '7', '8', '9']\n",
    "    \n",
    "    n  = str(n)\n",
    "    \n",
    "    is_pd = True\n",
    "    \n",
    "    for d in digits:\n",
    "        if d not in n:\n",
    "            is_pd = False\n",
    "            break\n",
    "            \n",
    "    return is_pd"
   ]
  },
  {
   "cell_type": "code",
   "execution_count": 5,
   "metadata": {},
   "outputs": [
    {
     "data": {
      "text/plain": [
       "True"
      ]
     },
     "execution_count": 5,
     "metadata": {},
     "output_type": "execute_result"
    }
   ],
   "source": [
    "# testing\n",
    "is_pandigital(123456789)"
   ]
  },
  {
   "cell_type": "code",
   "execution_count": 6,
   "metadata": {},
   "outputs": [
    {
     "data": {
      "text/plain": [
       "False"
      ]
     },
     "execution_count": 6,
     "metadata": {},
     "output_type": "execute_result"
    }
   ],
   "source": [
    "is_pandigital(1)"
   ]
  },
  {
   "cell_type": "code",
   "execution_count": 7,
   "metadata": {},
   "outputs": [],
   "source": [
    "def concat_product(x, tup):\n",
    "    \"\"\"\n",
    "    returns the concatenated product of int x and tuple tup\n",
    "    \"\"\"\n",
    "    \n",
    "    prod_str = ''\n",
    "    \n",
    "    for tup_elem in tup:\n",
    "        part_str = str(x * tup_elem)\n",
    "        prod_str += part_str\n",
    "        \n",
    "    return prod_str"
   ]
  },
  {
   "cell_type": "code",
   "execution_count": 9,
   "metadata": {},
   "outputs": [
    {
     "data": {
      "text/plain": [
       "'918273645'"
      ]
     },
     "execution_count": 9,
     "metadata": {},
     "output_type": "execute_result"
    }
   ],
   "source": [
    "# testing\n",
    "concat_product(9, (1,2,3, 4, 5))"
   ]
  },
  {
   "cell_type": "code",
   "execution_count": 10,
   "metadata": {},
   "outputs": [
    {
     "data": {
      "text/plain": [
       "'99198297'"
      ]
     },
     "execution_count": 10,
     "metadata": {},
     "output_type": "execute_result"
    }
   ],
   "source": [
    "## random guessing\n",
    "concat_product(99, (1,2,3))"
   ]
  },
  {
   "cell_type": "code",
   "execution_count": 11,
   "metadata": {},
   "outputs": [
    {
     "data": {
      "text/plain": [
       "'90180270360'"
      ]
     },
     "execution_count": 11,
     "metadata": {},
     "output_type": "execute_result"
    }
   ],
   "source": [
    "concat_product(90, (1,2,3,4))"
   ]
  },
  {
   "cell_type": "code",
   "execution_count": 12,
   "metadata": {},
   "outputs": [
    {
     "data": {
      "text/plain": [
       "'9991998'"
      ]
     },
     "execution_count": 12,
     "metadata": {},
     "output_type": "execute_result"
    }
   ],
   "source": [
    "concat_product(999, (1, 2))"
   ]
  },
  {
   "cell_type": "code",
   "execution_count": 13,
   "metadata": {},
   "outputs": [
    {
     "data": {
      "text/plain": [
       "'93186279372'"
      ]
     },
     "execution_count": 13,
     "metadata": {},
     "output_type": "execute_result"
    }
   ],
   "source": [
    "concat_product(93, (1,2,3,4))"
   ]
  },
  {
   "cell_type": "code",
   "execution_count": 14,
   "metadata": {},
   "outputs": [
    {
     "data": {
      "text/plain": [
       "'939618792'"
      ]
     },
     "execution_count": 14,
     "metadata": {},
     "output_type": "execute_result"
    }
   ],
   "source": [
    "concat_product(9396, (1,2))"
   ]
  },
  {
   "cell_type": "code",
   "execution_count": 15,
   "metadata": {},
   "outputs": [
    {
     "name": "stdout",
     "output_type": "stream",
     "text": [
      "9267 926718534\n",
      "9273 927318546\n",
      "9327 932718654\n"
     ]
    }
   ],
   "source": [
    "for x in range(9000, 10000):\n",
    "    if is_pandigital(concat_product(x, (1,2))):\n",
    "        print(x, concat_product(x, (1,2)))"
   ]
  },
  {
   "cell_type": "markdown",
   "metadata": {},
   "source": [
    "## Reasoning for solution\n",
    "\n",
    "In the example given, 918273645 is obtained. The highest pandigital concat sum should be larger.\n",
    "\n",
    "This can only be true if the first digit of the integer in the concatenated sum is 9.\n",
    "\n",
    "There is no tuple that gives a 9-digit concatenated sum for a two digit or three digit integer starting with 9\n",
    "\n",
    "Thus the integer must have four digits.\n",
    "\n",
    "This narrows down the number of integers that need to be tested to only a thousand. \n",
    "\n",
    "This is fairly quick."
   ]
  },
  {
   "cell_type": "markdown",
   "metadata": {},
   "source": [
    "# Solution:\n",
    "The concatenated sum of 9327 and (1,2) is 932718654"
   ]
  },
  {
   "cell_type": "code",
   "execution_count": null,
   "metadata": {},
   "outputs": [],
   "source": []
  }
 ],
 "metadata": {
  "kernelspec": {
   "display_name": "Python 3",
   "language": "python",
   "name": "python3"
  },
  "language_info": {
   "codemirror_mode": {
    "name": "ipython",
    "version": 3
   },
   "file_extension": ".py",
   "mimetype": "text/x-python",
   "name": "python",
   "nbconvert_exporter": "python",
   "pygments_lexer": "ipython3",
   "version": "3.6.10"
  }
 },
 "nbformat": 4,
 "nbformat_minor": 4
}
