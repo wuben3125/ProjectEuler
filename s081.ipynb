{
 "cells": [
  {
   "cell_type": "markdown",
   "metadata": {},
   "source": [
    "# Path sum: two ways\n",
    "\n",
    "(https://projecteuler.net/problem=81)\n",
    "\n",
    "In the 5 by 5 matrix below, the minimal path sum from the top left to the bottom right, by only moving to the right and down, is indicated in bold red and is equal to 2427.\n",
    "\n",
    "![An image](081_img.PNG)\n",
    "\n",
    "Find the minimal path sum, in matrix.txt (right click and \"Save Link/Target As...\"), a 31K text file containing a 80 by 80 matrix, from the top left to the bottom right by only moving right and down."
   ]
  },
  {
   "cell_type": "code",
   "execution_count": 4,
   "metadata": {},
   "outputs": [],
   "source": [
    "# S: 12:46\n",
    "# Unfinished: 2:15 "
   ]
  },
  {
   "cell_type": "code",
   "execution_count": 29,
   "metadata": {},
   "outputs": [],
   "source": [
    "# doodling\n",
    "testArray = np.array([[131, 673, 234, 103, 18], [201, 96, 342, 965, 150],[630, 803, 746, 422, 111], [537, 699, 497, 121, 956], [805, 732, 524, 37, 331]])\n"
   ]
  },
  {
   "cell_type": "code",
   "execution_count": 31,
   "metadata": {},
   "outputs": [
    {
     "name": "stdout",
     "output_type": "stream",
     "text": [
      "[1159, 1754, 2712, 2810, 2429]\n"
     ]
    }
   ],
   "source": [
    "# finding row sums\n",
    "rowSums = [sum(row) for row in testArray] \n",
    "print(rowSums)"
   ]
  },
  {
   "cell_type": "code",
   "execution_count": 32,
   "metadata": {},
   "outputs": [
    {
     "name": "stdout",
     "output_type": "stream",
     "text": [
      "[2304, 3003, 2343, 1648, 1566]\n"
     ]
    }
   ],
   "source": [
    "# finding column sums \n",
    "colSums = [sum(row) for row in np.transpose(testArray)]\n",
    "print(colSums)"
   ]
  },
  {
   "cell_type": "code",
   "execution_count": null,
   "metadata": {},
   "outputs": [],
   "source": []
  },
  {
   "cell_type": "code",
   "execution_count": null,
   "metadata": {},
   "outputs": [],
   "source": []
  },
  {
   "cell_type": "code",
   "execution_count": 6,
   "metadata": {},
   "outputs": [
    {
     "name": "stdout",
     "output_type": "stream",
     "text": [
      "[[131 673 234 103  18]\n",
      " [201  96 342 965 150]\n",
      " [630 803 746 422 111]\n",
      " [537 699 497 121 956]\n",
      " [805 732 524  37 331]]\n"
     ]
    }
   ],
   "source": [
    "print(testArray)"
   ]
  },
  {
   "cell_type": "code",
   "execution_count": 7,
   "metadata": {},
   "outputs": [
    {
     "data": {
      "text/plain": [
       "array([[ 369655,  425846,  496007,  774815,  233708],\n",
       "       [ 900042, 1203450,  893203,  379982, 1028170],\n",
       "       [1029882, 1476346, 1246460, 1209766,  654769],\n",
       "       [1358513, 1611967, 1296559,  989593,  601795],\n",
       "       [ 869031, 1300964, 1021451, 1027147,  327387]])"
      ]
     },
     "execution_count": 7,
     "metadata": {},
     "output_type": "execute_result"
    }
   ],
   "source": [
    "(testArray.dot(testArray))"
   ]
  },
  {
   "cell_type": "code",
   "execution_count": 8,
   "metadata": {},
   "outputs": [
    {
     "name": "stdout",
     "output_type": "stream",
     "text": [
      "7.71477180627386\n"
     ]
    }
   ],
   "source": [
    "start = timeit.default_timer()\n",
    "\n",
    "for i in range(int(1e8)):\n",
    "    True == True\n",
    "    \n",
    "end = timeit.default_timer()\n",
    "\n",
    "print(end-start)"
   ]
  },
  {
   "cell_type": "code",
   "execution_count": 9,
   "metadata": {},
   "outputs": [
    {
     "name": "stdout",
     "output_type": "stream",
     "text": [
      "[342, 3, 234, 11]\n"
     ]
    }
   ],
   "source": [
    "# string to int?\n",
    "\n",
    "int('33')\n",
    "\n",
    "strList = ['342', '3', '234', '11']\n",
    "\n",
    "print([int(x) for x in strList])"
   ]
  },
  {
   "cell_type": "code",
   "execution_count": 10,
   "metadata": {},
   "outputs": [
    {
     "data": {
      "text/plain": [
       "['Bob', ' mary', ' dingo', ' 33', '11', '11']"
      ]
     },
     "execution_count": 10,
     "metadata": {},
     "output_type": "execute_result"
    }
   ],
   "source": [
    "'Bob, mary, dingo, 33,11,11'.split(',')"
   ]
  },
  {
   "cell_type": "code",
   "execution_count": 4,
   "metadata": {},
   "outputs": [],
   "source": [
    "import numpy as np\n",
    "import timeit \n"
   ]
  },
  {
   "cell_type": "markdown",
   "metadata": {},
   "source": [
    "### Planning\n",
    "\n",
    "* Figure out how to load .txt file as matrix\n",
    "\n",
    "* Implement a solution for the 5x5 case that isn't brute force\n",
    "    * Does this involve Djikstra's algorithm? \n",
    "    * I want to find the least-heavily weighted path\n",
    "    * compare the two choices at each stage \n",
    "        * write a function that returns a list of index tuples representing a path taken\n",
    "        * start from the top and the bottom and see where they meet - write a function to return matches \n",
    "            * write a function to calculate the sums for each of these matched paths\n",
    "        * \n",
    "\n",
    "Note: I see an easy way to make any given matrix very hard to evalute using a general function, \n",
    "but I don't know if the creators of the problem are that cruel...\n"
   ]
  },
  {
   "cell_type": "markdown",
   "metadata": {},
   "source": [
    "### Implementation"
   ]
  },
  {
   "cell_type": "code",
   "execution_count": 12,
   "metadata": {},
   "outputs": [
    {
     "name": "stdout",
     "output_type": "stream",
     "text": [
      "[[4445. 2697. 5115. ... 2758. 3748. 5870.]\n",
      " [1096.   20. 1318. ... 4187. 9353. 9377.]\n",
      " [9607. 7385.  521. ... 9515. 6385. 9230.]\n",
      " ...\n",
      " [2265. 8192. 1763. ... 7456. 5128. 5294.]\n",
      " [2132. 8992. 8160. ... 5634. 1113. 5789.]\n",
      " [5304. 5499.  564. ... 2751. 3406. 7981.]]\n"
     ]
    }
   ],
   "source": [
    "# get matrix from file\n",
    "\n",
    "file = open('081_matrix.txt')\n",
    "\n",
    "anArray = np.zeros((80, 80))\n",
    "\n",
    "for i in range(80):\n",
    "    aLine = file.readline()\n",
    "    aLine = aLine.split(',') # the file has no spaces, thankfully\n",
    "    tempRow = [int(x) for x in aLine] # convert string ints into ints\n",
    "    anArray[i, :] = tempRow # set row of array\n",
    "    \n",
    "file.close()\n",
    "\n",
    "print(anArray)"
   ]
  },
  {
   "cell_type": "code",
   "execution_count": 13,
   "metadata": {},
   "outputs": [],
   "source": [
    "def pathLeastResistanceDown(matrix):\n",
    "    \"\"\"\n",
    "    returns a list of coordinate tuples \n",
    "    at every coordinate pair, the one with the smallest value (between the right-adjacent and lower-adjacent choices) is chosen next\n",
    "    the path ends when one of the sides of the matrix is reached\n",
    "    starts at the top\n",
    "    \"\"\"\n",
    "    x = 0\n",
    "    y = 0\n",
    "    path = [(x,y)] # instantiation\n",
    "    \n",
    "    while x < len(matrix)-1 and y < len(matrix[0])-1: # ends when a wall is reached\n",
    "        if matrix[x+1, y] < matrix[x, y+1]:\n",
    "            x+=1    \n",
    "        elif matrix[x, y+1] < matrix[x+1, y]:\n",
    "            y+=1      \n",
    "        else:\n",
    "            print(\"Wow, two adjacent choices are exactly the same. That's unexpected\")\n",
    "            break\n",
    "        \n",
    "        path.append( (x,y) ) \n",
    "        \n",
    "    return path\n",
    "    \n",
    "    "
   ]
  },
  {
   "cell_type": "code",
   "execution_count": 14,
   "metadata": {},
   "outputs": [
    {
     "data": {
      "text/plain": [
       "[(0, 0), (1, 0), (1, 1), (1, 2), (2, 2), (2, 3), (2, 4)]"
      ]
     },
     "execution_count": 14,
     "metadata": {},
     "output_type": "execute_result"
    }
   ],
   "source": [
    "# testing\n",
    "pathLeastResistanceDown(testArray)"
   ]
  },
  {
   "cell_type": "code",
   "execution_count": 15,
   "metadata": {},
   "outputs": [],
   "source": [
    "def pathLeastResistanceDownComplete(matrix):\n",
    "    \"\"\"\n",
    "    returns a list of coordinate tuples \n",
    "    at every coordinate pair, the one with the smallest value (between the right-adjacent and lower-adjacent choices) is chosen next\n",
    "    the path ends when the bottom is reached\n",
    "    starts at the top\n",
    "    \"\"\"\n",
    "    x = 0\n",
    "    y = 0\n",
    "    path = [(x,y)] # instantiation\n",
    "    \n",
    "    while not (x== len(matrix)-1 and y == len(matrix[0])-1): # ends the end is reached\n",
    "        if x == len(matrix)-1:\n",
    "            y += 1\n",
    "        elif y == len(matrix[0])-1:    \n",
    "            x += 1\n",
    "        else:\n",
    "            if matrix[x+1, y] < matrix[x, y+1]:\n",
    "                x+=1    \n",
    "            elif matrix[x, y+1] < matrix[x+1, y]:\n",
    "                y+=1      \n",
    "            else:\n",
    "                print(\"Wow, two adjacent choices are exactly the same. That's unexpected\")\n",
    "                break\n",
    "        path.append( (x,y) ) \n",
    "        \n",
    "#     # add final point\n",
    "#     if x == len(matrix) - 1:\n",
    "#         x+=1\n",
    "#     if y == len(matrix[0]) - 1:\n",
    "#         y+=1\n",
    "    \n",
    "    path.append( (x,y) )\n",
    "        \n",
    "    return path\n",
    "    \n",
    "    "
   ]
  },
  {
   "cell_type": "code",
   "execution_count": 16,
   "metadata": {},
   "outputs": [
    {
     "data": {
      "text/plain": [
       "[(0, 0),\n",
       " (1, 0),\n",
       " (1, 1),\n",
       " (1, 2),\n",
       " (2, 2),\n",
       " (2, 3),\n",
       " (2, 4),\n",
       " (3, 4),\n",
       " (4, 4),\n",
       " (4, 4)]"
      ]
     },
     "execution_count": 16,
     "metadata": {},
     "output_type": "execute_result"
    }
   ],
   "source": [
    "pathLeastResistanceDownComplete(testArray)"
   ]
  },
  {
   "cell_type": "code",
   "execution_count": 17,
   "metadata": {},
   "outputs": [],
   "source": [
    "def pathLeastResistanceUp(matrix):\n",
    "    \"\"\"\n",
    "    returns a list of coordinate tuples \n",
    "    at every coordinate pair, the one with the smallest value (between the left-adjacent and upper-adjacent choices) is chosen next\n",
    "    the path ends when one of the sides of the matrix is reached\n",
    "    starts at the bottom\n",
    "    \"\"\"\n",
    "\n",
    "    x = len(matrix)-1\n",
    "    y = len(matrix[0])-1\n",
    "    path = [(x,y)] # instantiation\n",
    "    \n",
    "    while x > 0 and y > 0: # ends when a wall is reached\n",
    "        if matrix[x-1, y] < matrix[x, y-1]:\n",
    "            x-=1    \n",
    "        elif matrix[x, y-1] < matrix[x-1, y]:\n",
    "            y-=1      \n",
    "        else:\n",
    "            print(\"Wow, two adjacent choices are exactly the same. That's unexpected\")\n",
    "            break\n",
    "        \n",
    "        path.append( (x,y) ) \n",
    "        \n",
    "    return path\n",
    "    \n",
    "    "
   ]
  },
  {
   "cell_type": "code",
   "execution_count": 18,
   "metadata": {},
   "outputs": [
    {
     "data": {
      "text/plain": [
       "[(4, 4), (4, 3), (3, 3), (2, 3), (2, 2), (1, 2), (1, 1), (1, 0)]"
      ]
     },
     "execution_count": 18,
     "metadata": {},
     "output_type": "execute_result"
    }
   ],
   "source": [
    "# testing\n",
    "pathLeastResistanceUp(testArray)"
   ]
  },
  {
   "cell_type": "code",
   "execution_count": 19,
   "metadata": {},
   "outputs": [],
   "source": [
    "def pathLeastResistanceUpComplete(matrix):\n",
    "    \"\"\"\n",
    "    returns a list of coordinate tuples \n",
    "    at every coordinate pair, the one with the smallest value (between the left-adjacent and upper-adjacent choices) is chosen next\n",
    "    the path ends when one of the sides of the matrix is reached\n",
    "    starts at the bottom\n",
    "    \"\"\"\n",
    "\n",
    "    x = len(matrix)-1\n",
    "    y = len(matrix[0])-1\n",
    "    path = [(x,y)] # instantiation\n",
    "    \n",
    "    while not (x == 0 and y == 0): # ends when a wall is reached\n",
    "        if x==0:\n",
    "            y-=1\n",
    "        elif y==0:\n",
    "            x-=1\n",
    "        else:       \n",
    "            if matrix[x-1, y] < matrix[x, y-1]:\n",
    "                x-=1    \n",
    "            elif matrix[x, y-1] < matrix[x-1, y]:\n",
    "                y-=1      \n",
    "            else:\n",
    "                print(\"Wow, two adjacent choices are exactly the same. That's unexpected\")\n",
    "                break\n",
    "        \n",
    "        path.append( (x,y) ) \n",
    "        \n",
    "    return path"
   ]
  },
  {
   "cell_type": "code",
   "execution_count": 20,
   "metadata": {},
   "outputs": [
    {
     "data": {
      "text/plain": [
       "[(4, 4), (4, 3), (3, 3), (2, 3), (2, 2), (1, 2), (1, 1), (1, 0), (0, 0)]"
      ]
     },
     "execution_count": 20,
     "metadata": {},
     "output_type": "execute_result"
    }
   ],
   "source": [
    "# testing\n",
    "pathLeastResistanceUpComplete(testArray)"
   ]
  },
  {
   "cell_type": "code",
   "execution_count": 21,
   "metadata": {},
   "outputs": [],
   "source": [
    "def findCommonTuples(downTuples, upTuples):\n",
    "    \"\"\"\n",
    "    takes in a leastResistanceDown and leastResistanceUp return tuple\n",
    "    returns list of shared tuples\n",
    "    \"\"\"\n",
    "    # lazy method that accounts for all lists, assumes no special order\n",
    "    commonTuples = set() # gets rid of duplicates\n",
    "    \n",
    "    for up in upTuples:\n",
    "        for down in downTuples:\n",
    "            if up==down:\n",
    "                commonTuples.add(up) \n",
    "    \n",
    "    return commonTuples"
   ]
  },
  {
   "cell_type": "code",
   "execution_count": 22,
   "metadata": {},
   "outputs": [
    {
     "data": {
      "text/plain": [
       "{(0, 0), (1, 0), (1, 1), (1, 2), (2, 2), (2, 3), (4, 4)}"
      ]
     },
     "execution_count": 22,
     "metadata": {},
     "output_type": "execute_result"
    }
   ],
   "source": [
    "findCommonTuples(pathLeastResistanceDownComplete(testArray), pathLeastResistanceUpComplete(testArray))"
   ]
  },
  {
   "cell_type": "code",
   "execution_count": 23,
   "metadata": {},
   "outputs": [],
   "source": [
    "def findCommonTuplesOrdered(downTuples, upTuples):\n",
    "    \"\"\"\n",
    "    takes in a leastResistanceDown and leastResistanceUp return tuple\n",
    "    returns list of shared tuples, in the order that they encounter each other\n",
    "    \"\"\""
   ]
  },
  {
   "cell_type": "code",
   "execution_count": 33,
   "metadata": {},
   "outputs": [],
   "source": [
    "def pathSum(tuples, matrix):\n",
    "    sum = 0\n",
    "    for tup in tuples:\n",
    "        x,y = tup\n",
    "        sum += matrix[x,y]\n",
    "        \n",
    "    return sum"
   ]
  },
  {
   "cell_type": "code",
   "execution_count": null,
   "metadata": {},
   "outputs": [],
   "source": []
  },
  {
   "cell_type": "markdown",
   "metadata": {},
   "source": [
    "### Results"
   ]
  },
  {
   "cell_type": "code",
   "execution_count": 25,
   "metadata": {},
   "outputs": [
    {
     "name": "stdout",
     "output_type": "stream",
     "text": [
      "[[4445. 2697. 5115. ... 2758. 3748. 5870.]\n",
      " [1096.   20. 1318. ... 4187. 9353. 9377.]\n",
      " [9607. 7385.  521. ... 9515. 6385. 9230.]\n",
      " ...\n",
      " [2265. 8192. 1763. ... 7456. 5128. 5294.]\n",
      " [2132. 8992. 8160. ... 5634. 1113. 5789.]\n",
      " [5304. 5499.  564. ... 2751. 3406. 7981.]]\n"
     ]
    }
   ],
   "source": [
    "# get matrix from file\n",
    "\n",
    "file = open('081_matrix.txt')\n",
    "\n",
    "anArray = np.zeros((80, 80))\n",
    "\n",
    "for i in range(80):\n",
    "    aLine = file.readline()\n",
    "    aLine = aLine.split(',') # the file has no spaces, thankfully\n",
    "    tempRow = [int(x) for x in aLine] # convert string ints into ints\n",
    "    anArray[i, :] = tempRow # set row of array\n",
    "    \n",
    "file.close()\n",
    "\n",
    "print(anArray)"
   ]
  },
  {
   "cell_type": "code",
   "execution_count": 26,
   "metadata": {
    "collapsed": true
   },
   "outputs": [
    {
     "data": {
      "text/plain": [
       "[(79, 79),\n",
       " (79, 78),\n",
       " (78, 78),\n",
       " (77, 78),\n",
       " (76, 78),\n",
       " (76, 77),\n",
       " (76, 76),\n",
       " (76, 75),\n",
       " (76, 74),\n",
       " (76, 73),\n",
       " (76, 72),\n",
       " (75, 72),\n",
       " (75, 71),\n",
       " (74, 71),\n",
       " (74, 70),\n",
       " (73, 70),\n",
       " (73, 69),\n",
       " (73, 68),\n",
       " (73, 67),\n",
       " (73, 66),\n",
       " (73, 65),\n",
       " (72, 65),\n",
       " (72, 64),\n",
       " (71, 64),\n",
       " (70, 64),\n",
       " (70, 63),\n",
       " (69, 63),\n",
       " (68, 63),\n",
       " (68, 62),\n",
       " (68, 61),\n",
       " (68, 60),\n",
       " (68, 59),\n",
       " (68, 58),\n",
       " (68, 57),\n",
       " (68, 56),\n",
       " (67, 56),\n",
       " (67, 55),\n",
       " (67, 54),\n",
       " (66, 54),\n",
       " (66, 53),\n",
       " (65, 53),\n",
       " (65, 52),\n",
       " (64, 52),\n",
       " (64, 51),\n",
       " (64, 50),\n",
       " (63, 50),\n",
       " (63, 49),\n",
       " (62, 49),\n",
       " (61, 49),\n",
       " (60, 49),\n",
       " (59, 49),\n",
       " (58, 49),\n",
       " (57, 49),\n",
       " (56, 49),\n",
       " (56, 48),\n",
       " (56, 47),\n",
       " (55, 47),\n",
       " (55, 46),\n",
       " (54, 46),\n",
       " (54, 45),\n",
       " (53, 45),\n",
       " (53, 44),\n",
       " (53, 43),\n",
       " (52, 43),\n",
       " (51, 43),\n",
       " (51, 42),\n",
       " (51, 41),\n",
       " (51, 40),\n",
       " (51, 39),\n",
       " (50, 39),\n",
       " (50, 38),\n",
       " (50, 37),\n",
       " (50, 36),\n",
       " (49, 36),\n",
       " (49, 35),\n",
       " (49, 34),\n",
       " (48, 34),\n",
       " (47, 34),\n",
       " (46, 34),\n",
       " (45, 34),\n",
       " (44, 34),\n",
       " (43, 34),\n",
       " (43, 33),\n",
       " (43, 32),\n",
       " (42, 32),\n",
       " (41, 32),\n",
       " (41, 31),\n",
       " (41, 30),\n",
       " (40, 30),\n",
       " (40, 29),\n",
       " (40, 28),\n",
       " (39, 28),\n",
       " (39, 27),\n",
       " (39, 26),\n",
       " (39, 25),\n",
       " (38, 25),\n",
       " (38, 24),\n",
       " (38, 23),\n",
       " (37, 23),\n",
       " (36, 23),\n",
       " (35, 23),\n",
       " (34, 23),\n",
       " (34, 22),\n",
       " (33, 22),\n",
       " (33, 21),\n",
       " (33, 20),\n",
       " (33, 19),\n",
       " (32, 19),\n",
       " (31, 19),\n",
       " (31, 18),\n",
       " (30, 18),\n",
       " (29, 18),\n",
       " (29, 17),\n",
       " (28, 17),\n",
       " (27, 17),\n",
       " (27, 16),\n",
       " (27, 15),\n",
       " (26, 15),\n",
       " (26, 14),\n",
       " (26, 13),\n",
       " (26, 12),\n",
       " (26, 11),\n",
       " (25, 11),\n",
       " (25, 10),\n",
       " (25, 9),\n",
       " (25, 8),\n",
       " (24, 8),\n",
       " (24, 7),\n",
       " (23, 7),\n",
       " (22, 7),\n",
       " (22, 6),\n",
       " (21, 6),\n",
       " (20, 6),\n",
       " (20, 5),\n",
       " (19, 5),\n",
       " (18, 5),\n",
       " (17, 5),\n",
       " (17, 4),\n",
       " (16, 4),\n",
       " (16, 3),\n",
       " (16, 2),\n",
       " (16, 1),\n",
       " (16, 0)]"
      ]
     },
     "execution_count": 26,
     "metadata": {},
     "output_type": "execute_result"
    }
   ],
   "source": [
    "pathLeastResistanceUp(anArray)"
   ]
  },
  {
   "cell_type": "code",
   "execution_count": 27,
   "metadata": {
    "collapsed": true
   },
   "outputs": [
    {
     "data": {
      "text/plain": [
       "[(0, 0),\n",
       " (1, 0),\n",
       " (1, 1),\n",
       " (1, 2),\n",
       " (2, 2),\n",
       " (2, 3),\n",
       " (3, 3),\n",
       " (3, 4),\n",
       " (3, 5),\n",
       " (3, 6),\n",
       " (4, 6),\n",
       " (4, 7),\n",
       " (5, 7),\n",
       " (5, 8),\n",
       " (6, 8),\n",
       " (7, 8),\n",
       " (8, 8),\n",
       " (9, 8),\n",
       " (9, 9),\n",
       " (10, 9),\n",
       " (11, 9),\n",
       " (11, 10),\n",
       " (11, 11),\n",
       " (12, 11),\n",
       " (12, 12),\n",
       " (12, 13),\n",
       " (13, 13),\n",
       " (13, 14),\n",
       " (13, 15),\n",
       " (13, 16),\n",
       " (14, 16),\n",
       " (15, 16),\n",
       " (16, 16),\n",
       " (16, 17),\n",
       " (16, 18),\n",
       " (17, 18),\n",
       " (17, 19),\n",
       " (17, 20),\n",
       " (18, 20),\n",
       " (18, 21),\n",
       " (18, 22),\n",
       " (19, 22),\n",
       " (19, 23),\n",
       " (20, 23),\n",
       " (20, 24),\n",
       " (21, 24),\n",
       " (22, 24),\n",
       " (22, 25),\n",
       " (23, 25),\n",
       " (23, 26),\n",
       " (24, 26),\n",
       " (24, 27),\n",
       " (24, 28),\n",
       " (24, 29),\n",
       " (24, 30),\n",
       " (24, 31),\n",
       " (25, 31),\n",
       " (26, 31),\n",
       " (27, 31),\n",
       " (28, 31),\n",
       " (28, 32),\n",
       " (29, 32),\n",
       " (30, 32),\n",
       " (30, 33),\n",
       " (31, 33),\n",
       " (32, 33),\n",
       " (33, 33),\n",
       " (34, 33),\n",
       " (34, 34),\n",
       " (34, 35),\n",
       " (34, 36),\n",
       " (34, 37),\n",
       " (35, 37),\n",
       " (36, 37),\n",
       " (37, 37),\n",
       " (37, 38),\n",
       " (38, 38),\n",
       " (39, 38),\n",
       " (40, 38),\n",
       " (40, 39),\n",
       " (40, 40),\n",
       " (40, 41),\n",
       " (40, 42),\n",
       " (41, 42),\n",
       " (42, 42),\n",
       " (42, 43),\n",
       " (42, 44),\n",
       " (42, 45),\n",
       " (43, 45),\n",
       " (44, 45),\n",
       " (44, 46),\n",
       " (44, 47),\n",
       " (44, 48),\n",
       " (44, 49),\n",
       " (45, 49),\n",
       " (46, 49),\n",
       " (47, 49),\n",
       " (47, 50),\n",
       " (48, 50),\n",
       " (48, 51),\n",
       " (49, 51),\n",
       " (49, 52),\n",
       " (50, 52),\n",
       " (50, 53),\n",
       " (50, 54),\n",
       " (50, 55),\n",
       " (51, 55),\n",
       " (52, 55),\n",
       " (53, 55),\n",
       " (53, 56),\n",
       " (53, 57),\n",
       " (53, 58),\n",
       " (53, 59),\n",
       " (53, 60),\n",
       " (54, 60),\n",
       " (54, 61),\n",
       " (55, 61),\n",
       " (56, 61),\n",
       " (56, 62),\n",
       " (57, 62),\n",
       " (57, 63),\n",
       " (58, 63),\n",
       " (59, 63),\n",
       " (59, 64),\n",
       " (59, 65),\n",
       " (60, 65),\n",
       " (60, 66),\n",
       " (61, 66),\n",
       " (62, 66),\n",
       " (63, 66),\n",
       " (64, 66),\n",
       " (65, 66),\n",
       " (66, 66),\n",
       " (67, 66),\n",
       " (67, 67),\n",
       " (67, 68),\n",
       " (67, 69),\n",
       " (67, 70),\n",
       " (67, 71),\n",
       " (68, 71),\n",
       " (68, 72),\n",
       " (69, 72),\n",
       " (69, 73),\n",
       " (70, 73),\n",
       " (71, 73),\n",
       " (71, 74),\n",
       " (71, 75),\n",
       " (71, 76),\n",
       " (71, 77),\n",
       " (72, 77),\n",
       " (72, 78),\n",
       " (73, 78),\n",
       " (73, 79)]"
      ]
     },
     "execution_count": 27,
     "metadata": {},
     "output_type": "execute_result"
    }
   ],
   "source": [
    "pathLeastResistanceDown(anArray)"
   ]
  },
  {
   "cell_type": "code",
   "execution_count": 28,
   "metadata": {
    "scrolled": true
   },
   "outputs": [
    {
     "ename": "NameError",
     "evalue": "name 'downTuples' is not defined",
     "output_type": "error",
     "traceback": [
      "\u001b[1;31m---------------------------------------------------------------------------\u001b[0m",
      "\u001b[1;31mNameError\u001b[0m                                 Traceback (most recent call last)",
      "\u001b[1;32m<ipython-input-28-d90868c2debc>\u001b[0m in \u001b[0;36m<module>\u001b[1;34m()\u001b[0m\n\u001b[1;32m----> 1\u001b[1;33m \u001b[0mfindCommonTuples\u001b[0m\u001b[1;33m(\u001b[0m\u001b[0mdownTuples\u001b[0m\u001b[1;33m,\u001b[0m \u001b[0mupTuples\u001b[0m\u001b[1;33m)\u001b[0m\u001b[1;33m\u001b[0m\u001b[0m\n\u001b[0m",
      "\u001b[1;31mNameError\u001b[0m: name 'downTuples' is not defined"
     ]
    }
   ],
   "source": [
    "findCommonTuples(downTuples, upTuples)"
   ]
  },
  {
   "cell_type": "code",
   "execution_count": null,
   "metadata": {},
   "outputs": [],
   "source": []
  },
  {
   "cell_type": "code",
   "execution_count": 34,
   "metadata": {},
   "outputs": [
    {
     "data": {
      "text/plain": [
       "556858.0"
      ]
     },
     "execution_count": 34,
     "metadata": {},
     "output_type": "execute_result"
    }
   ],
   "source": [
    "downTuplesComplete = pathLeastResistanceDownComplete(anArray)\n",
    "pathSum(downTuplesComplete, anArray)\n",
    "# wrong answer..."
   ]
  },
  {
   "cell_type": "code",
   "execution_count": 35,
   "metadata": {},
   "outputs": [
    {
     "data": {
      "text/plain": [
       "563261.0"
      ]
     },
     "execution_count": 35,
     "metadata": {},
     "output_type": "execute_result"
    }
   ],
   "source": [
    "upTuplesComplete = pathLeastResistanceUpComplete(anArray)\n",
    "pathSum(upTuplesComplete, anArray)\n",
    "# wrong answer..."
   ]
  },
  {
   "cell_type": "code",
   "execution_count": null,
   "metadata": {},
   "outputs": [],
   "source": []
  },
  {
   "cell_type": "markdown",
   "metadata": {},
   "source": [
    "### IMplementation part 2\n",
    "Nabbed from https://www.mathblog.dk/project-euler-81-find-the-minimal-path-sum-from-the-top-left-to-the-bottom-right-by-moving-right-and-down/ \n",
    "\n",
    "(I got impatient)\n"
   ]
  },
  {
   "cell_type": "code",
   "execution_count": 36,
   "metadata": {},
   "outputs": [],
   "source": [
    "# planning: from bottom corner, work way up by choosing the lesser\n",
    "# of the number to the right and the number to the bottom\n",
    "# then, sum the lesser number to the cell\n",
    "\n",
    "# will work in a diagonal pattern from the bottom up and to the right"
   ]
  },
  {
   "cell_type": "code",
   "execution_count": 1,
   "metadata": {},
   "outputs": [],
   "source": [
    "def genMatrixCoords(matrix):\n",
    "    \"\"\"generates list of coordinates to traverse, in \n",
    "    order\n",
    "    only works for square matrix\"\"\"\n",
    "    \n",
    "    coords = []\n",
    "    length = len(matrix)\n",
    "    \n",
    "    # widerning\n",
    "    for i in range(length):\n",
    "        for j in range(0,i+1):\n",
    "            coords.append( (length-1 - j  , length-1 -i+j ))\n",
    "      \n",
    "    # narrowing\n",
    "    for i in range(length-2,-1,-1):\n",
    "        for j in range(0, i+1):\n",
    "            coords.append( (i-j , j) )\n",
    "        \n",
    "    \n",
    "    return coords"
   ]
  },
  {
   "cell_type": "code",
   "execution_count": 66,
   "metadata": {},
   "outputs": [
    {
     "name": "stdout",
     "output_type": "stream",
     "text": [
      "[(2, 2), (2, 1), (1, 2), (2, 0), (1, 1), (0, 2), (1, 0), (0, 1), (0, 0)]\n"
     ]
    }
   ],
   "source": [
    "# test \n",
    "A = np.eye(3)\n",
    "coords = genMatrixCoords(A)\n",
    "print(coords)"
   ]
  },
  {
   "cell_type": "code",
   "execution_count": 6,
   "metadata": {},
   "outputs": [],
   "source": [
    "def solution(matrix):\n",
    "    \"\"\"\n",
    "    assumes matrix is square\n",
    "    \"\"\"\n",
    "    matCopy = matrix.copy() # prevents alteation of original matrix\n",
    "    coords = genMatrixCoords(matrix)\n",
    "    length = len(matrix)\n",
    "    \n",
    "    for coord in coords[1:]: # ignoring first coordinate, which is the bottom right corner\n",
    "        x, y = coord\n",
    "        \n",
    "        #if hugging bottom wall\n",
    "        if x == length-1:\n",
    "            matCopy[x,y] += matCopy[x,y+1] # automatically choose cell to the right\n",
    "        \n",
    "        #if hugging right wall\n",
    "        elif y == length-1:\n",
    "            matCopy[x,y] += matCopy[x+1,y] # automatically choose cell below it\n",
    "    \n",
    "        else: \n",
    "            matCopy[x,y] += min(matCopy[x+1,y], matCopy[x,y+1]) # made the error of adding to matrix insteaad of matrix[x,y]\n",
    "            \n",
    "#         print(matrix)\n",
    "         \n",
    "    print(matCopy)\n",
    "    \n",
    "    return matCopy[0,0]"
   ]
  },
  {
   "cell_type": "code",
   "execution_count": 83,
   "metadata": {},
   "outputs": [
    {
     "name": "stdout",
     "output_type": "stream",
     "text": [
      "[(4, 4), (4, 3), (3, 4), (4, 2), (3, 3), (2, 4), (4, 1), (3, 2), (2, 3), (1, 4), (4, 0), (3, 1), (2, 2), (1, 3), (0, 4), (3, 0), (2, 1), (1, 2), (0, 3), (2, 0), (1, 1), (0, 2), (1, 0), (0, 1), (0, 0)]\n"
     ]
    }
   ],
   "source": [
    "print(genMatrixCoords(testArray))"
   ]
  },
  {
   "cell_type": "code",
   "execution_count": 84,
   "metadata": {},
   "outputs": [],
   "source": [
    "testArray = np.array([[131, 673, 234, 103, 18], [201, 96, 342, 965, 150],[630, 803, 746, 422, 111], [537, 699, 497, 121, 956], [805, 732, 524, 37, 331]])\n"
   ]
  },
  {
   "cell_type": "code",
   "execution_count": 85,
   "metadata": {},
   "outputs": [
    {
     "name": "stdout",
     "output_type": "stream",
     "text": [
      "[[131 673 234 103  18]\n",
      " [201  96 342 965 150]\n",
      " [630 803 746 422 111]\n",
      " [537 699 497 121 956]\n",
      " [805 732 524 368 331]]\n",
      "[[ 131  673  234  103   18]\n",
      " [ 201   96  342  965  150]\n",
      " [ 630  803  746  422  111]\n",
      " [ 537  699  497  121 1287]\n",
      " [ 805  732  524  368  331]]\n",
      "[[ 131  673  234  103   18]\n",
      " [ 201   96  342  965  150]\n",
      " [ 630  803  746  422  111]\n",
      " [ 537  699  497  121 1287]\n",
      " [ 805  732  892  368  331]]\n",
      "[[ 131  673  234  103   18]\n",
      " [ 201   96  342  965  150]\n",
      " [ 630  803  746  422  111]\n",
      " [ 537  699  497  489 1287]\n",
      " [ 805  732  892  368  331]]\n",
      "[[ 131  673  234  103   18]\n",
      " [ 201   96  342  965  150]\n",
      " [ 630  803  746  422 1398]\n",
      " [ 537  699  497  489 1287]\n",
      " [ 805  732  892  368  331]]\n",
      "[[ 131  673  234  103   18]\n",
      " [ 201   96  342  965  150]\n",
      " [ 630  803  746  422 1398]\n",
      " [ 537  699  497  489 1287]\n",
      " [ 805 1624  892  368  331]]\n",
      "[[ 131  673  234  103   18]\n",
      " [ 201   96  342  965  150]\n",
      " [ 630  803  746  422 1398]\n",
      " [ 537  699  986  489 1287]\n",
      " [ 805 1624  892  368  331]]\n",
      "[[ 131  673  234  103   18]\n",
      " [ 201   96  342  965  150]\n",
      " [ 630  803  746  911 1398]\n",
      " [ 537  699  986  489 1287]\n",
      " [ 805 1624  892  368  331]]\n",
      "[[ 131  673  234  103   18]\n",
      " [ 201   96  342  965 1548]\n",
      " [ 630  803  746  911 1398]\n",
      " [ 537  699  986  489 1287]\n",
      " [ 805 1624  892  368  331]]\n",
      "[[ 131  673  234  103   18]\n",
      " [ 201   96  342  965 1548]\n",
      " [ 630  803  746  911 1398]\n",
      " [ 537  699  986  489 1287]\n",
      " [2429 1624  892  368  331]]\n",
      "[[ 131  673  234  103   18]\n",
      " [ 201   96  342  965 1548]\n",
      " [ 630  803  746  911 1398]\n",
      " [ 537 1685  986  489 1287]\n",
      " [2429 1624  892  368  331]]\n",
      "[[ 131  673  234  103   18]\n",
      " [ 201   96  342  965 1548]\n",
      " [ 630  803 1657  911 1398]\n",
      " [ 537 1685  986  489 1287]\n",
      " [2429 1624  892  368  331]]\n",
      "[[ 131  673  234  103   18]\n",
      " [ 201   96  342 1876 1548]\n",
      " [ 630  803 1657  911 1398]\n",
      " [ 537 1685  986  489 1287]\n",
      " [2429 1624  892  368  331]]\n",
      "[[ 131  673  234  103 1566]\n",
      " [ 201   96  342 1876 1548]\n",
      " [ 630  803 1657  911 1398]\n",
      " [ 537 1685  986  489 1287]\n",
      " [2429 1624  892  368  331]]\n",
      "[[ 131  673  234  103 1566]\n",
      " [ 201   96  342 1876 1548]\n",
      " [ 630  803 1657  911 1398]\n",
      " [2222 1685  986  489 1287]\n",
      " [2429 1624  892  368  331]]\n",
      "[[ 131  673  234  103 1566]\n",
      " [ 201   96  342 1876 1548]\n",
      " [ 630 2460 1657  911 1398]\n",
      " [2222 1685  986  489 1287]\n",
      " [2429 1624  892  368  331]]\n",
      "[[ 131  673  234  103 1566]\n",
      " [ 201   96 1999 1876 1548]\n",
      " [ 630 2460 1657  911 1398]\n",
      " [2222 1685  986  489 1287]\n",
      " [2429 1624  892  368  331]]\n",
      "[[ 131  673  234 1669 1566]\n",
      " [ 201   96 1999 1876 1548]\n",
      " [ 630 2460 1657  911 1398]\n",
      " [2222 1685  986  489 1287]\n",
      " [2429 1624  892  368  331]]\n",
      "[[ 131  673  234 1669 1566]\n",
      " [ 201   96 1999 1876 1548]\n",
      " [2852 2460 1657  911 1398]\n",
      " [2222 1685  986  489 1287]\n",
      " [2429 1624  892  368  331]]\n",
      "[[ 131  673  234 1669 1566]\n",
      " [ 201 2095 1999 1876 1548]\n",
      " [2852 2460 1657  911 1398]\n",
      " [2222 1685  986  489 1287]\n",
      " [2429 1624  892  368  331]]\n",
      "[[ 131  673 1903 1669 1566]\n",
      " [ 201 2095 1999 1876 1548]\n",
      " [2852 2460 1657  911 1398]\n",
      " [2222 1685  986  489 1287]\n",
      " [2429 1624  892  368  331]]\n",
      "[[ 131  673 1903 1669 1566]\n",
      " [2296 2095 1999 1876 1548]\n",
      " [2852 2460 1657  911 1398]\n",
      " [2222 1685  986  489 1287]\n",
      " [2429 1624  892  368  331]]\n",
      "[[ 131 2576 1903 1669 1566]\n",
      " [2296 2095 1999 1876 1548]\n",
      " [2852 2460 1657  911 1398]\n",
      " [2222 1685  986  489 1287]\n",
      " [2429 1624  892  368  331]]\n",
      "[[2427 2576 1903 1669 1566]\n",
      " [2296 2095 1999 1876 1548]\n",
      " [2852 2460 1657  911 1398]\n",
      " [2222 1685  986  489 1287]\n",
      " [2429 1624  892  368  331]]\n",
      "2427\n"
     ]
    }
   ],
   "source": [
    "# test on smaller case\n",
    "minSum = solution(testArray)\n",
    "print(minSum)"
   ]
  },
  {
   "cell_type": "code",
   "execution_count": 7,
   "metadata": {},
   "outputs": [
    {
     "name": "stdout",
     "output_type": "stream",
     "text": [
      "[[10 16 17 14 14]\n",
      " [ 9 13 14 11 11]\n",
      " [ 8 11 11  8  8]\n",
      " [ 7  8  7  5  5]\n",
      " [ 6  5  4  3  2]]\n",
      "10\n"
     ]
    }
   ],
   "source": [
    "# test on special case\n",
    "trickyArray = np.array([[1,3,3,3,3],\n",
    "                       [1,2,3,3,3],\n",
    "                       [1,3,4,3,3],\n",
    "                       [1,3,3,2,3],\n",
    "                       [1,1,1,1,2]])\n",
    "print(solution(trickyArray)) # the answer is 10"
   ]
  },
  {
   "cell_type": "code",
   "execution_count": null,
   "metadata": {},
   "outputs": [],
   "source": []
  },
  {
   "cell_type": "markdown",
   "metadata": {},
   "source": [
    "### Results pt 2\n"
   ]
  },
  {
   "cell_type": "code",
   "execution_count": 93,
   "metadata": {},
   "outputs": [
    {
     "name": "stdout",
     "output_type": "stream",
     "text": [
      "[[4445. 2697. 5115. ... 2758. 3748. 5870.]\n",
      " [1096.   20. 1318. ... 4187. 9353. 9377.]\n",
      " [9607. 7385.  521. ... 9515. 6385. 9230.]\n",
      " ...\n",
      " [2265. 8192. 1763. ... 7456. 5128. 5294.]\n",
      " [2132. 8992. 8160. ... 5634. 1113. 5789.]\n",
      " [5304. 5499.  564. ... 2751. 3406. 7981.]]\n"
     ]
    }
   ],
   "source": [
    "# get matrix from file\n",
    "\n",
    "file = open('081_matrix.txt')\n",
    "\n",
    "anArray = np.zeros((80, 80))\n",
    "\n",
    "for i in range(80):\n",
    "    aLine = file.readline()\n",
    "    aLine = aLine.split(',') # the file has no spaces, thankfully\n",
    "    tempRow = [int(x) for x in aLine] # convert string ints into ints\n",
    "    anArray[i, :] = tempRow # set row of array\n",
    "    \n",
    "file.close()\n",
    "\n",
    "print(anArray)"
   ]
  },
  {
   "cell_type": "code",
   "execution_count": 98,
   "metadata": {},
   "outputs": [
    {
     "name": "stdout",
     "output_type": "stream",
     "text": [
      "Solution is: 427337.0\n"
     ]
    }
   ],
   "source": [
    "minSum = solution(anArray)\n",
    "print(f\"Solution is: {minSum}\")"
   ]
  },
  {
   "cell_type": "markdown",
   "metadata": {},
   "source": [
    "## Reflections"
   ]
  },
  {
   "cell_type": "markdown",
   "metadata": {},
   "source": [
    "This took me over a month since I started it to finish. I only finished after googling\n",
    "a solution. (Finished this 3/11/19, and probably started sometime last year.)\n",
    "\n",
    "I learned the notion of \"dynamic programming,\" and was introduced to a concept that I\n",
    "hadn't seen before. \n",
    "\n",
    "I don't think I would have gotten the answer even if I kept trudging through.\n",
    " \n",
    "Credit to: https://www.mathblog.dk/project-euler-81-find-the-minimal-path-sum-from-the-top-left-to-the-bottom-right-by-moving-right-and-down/"
   ]
  }
 ],
 "metadata": {
  "kernelspec": {
   "display_name": "Python 3",
   "language": "python",
   "name": "python3"
  },
  "language_info": {
   "codemirror_mode": {
    "name": "ipython",
    "version": 3
   },
   "file_extension": ".py",
   "mimetype": "text/x-python",
   "name": "python",
   "nbconvert_exporter": "python",
   "pygments_lexer": "ipython3",
   "version": "3.6.5"
  }
 },
 "nbformat": 4,
 "nbformat_minor": 2
}
