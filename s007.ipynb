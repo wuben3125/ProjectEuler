{
 "cells": [
  {
   "cell_type": "markdown",
   "metadata": {},
   "source": [
    "# 10001st Prime\n",
    "Source: https://projecteuler.net/problem=7\n",
    "(date: 8/20/19)"
   ]
  },
  {
   "cell_type": "code",
   "execution_count": null,
   "metadata": {},
   "outputs": [],
   "source": []
  },
  {
   "cell_type": "markdown",
   "metadata": {},
   "source": [
    "## Problem Statement\n",
    "Find the 10001st prime"
   ]
  },
  {
   "cell_type": "markdown",
   "metadata": {},
   "source": [
    "## Planning\n",
    "(I expect to fail miserably at some point, but I can pick myself back up)\n",
    "\n",
    "* Create function that returns a list of ~~first `n` primes~~ all primes less than `n`\n",
    "   \n",
    "* (I should first work through the pseudocode in my head before typing any code)\n",
    "    * ~~run loops for numbers 2 up to n~~\n",
    "        * ~~set a flag variable to true~~\n",
    "        * ~~parse through all~~ \n",
    "        * \n",
    "    * "
   ]
  },
  {
   "cell_type": "markdown",
   "metadata": {},
   "source": [
    "## [work+solution]"
   ]
  },
  {
   "cell_type": "code",
   "execution_count": 1,
   "metadata": {},
   "outputs": [],
   "source": [
    "# getting list of primes under n\n",
    "def primes_under_n(n):\n",
    "    primes = []\n",
    "    \n",
    "    for i in range(2, n+1):\n",
    "        flag = True\n",
    "        for prime in primes:\n",
    "            if i%prime == 0: flag = False\n",
    "        if flag:\n",
    "            primes.append(i)\n",
    "            \n",
    "    return primes\n"
   ]
  },
  {
   "cell_type": "code",
   "execution_count": 2,
   "metadata": {},
   "outputs": [
    {
     "name": "stdout",
     "output_type": "stream",
     "text": [
      "[2, 3, 5]\n"
     ]
    }
   ],
   "source": [
    "# test\n",
    "print(primes_under_n(5))"
   ]
  },
  {
   "cell_type": "code",
   "execution_count": 10,
   "metadata": {},
   "outputs": [],
   "source": [
    "# getting list of n primes\n",
    "def first_n_primes(n):\n",
    "    primes = []\n",
    "    \n",
    "    # num = 1\n",
    "    num = 2\n",
    "    while len(primes) < n:\n",
    "        \n",
    "        flag = True\n",
    "        \n",
    "        for prime in primes:\n",
    "            if num%prime == 0: flag = False\n",
    "                \n",
    "        if flag: primes.append(num)\n",
    "        \n",
    "        num += 1\n",
    "        \n",
    "#         print('testing')\n",
    "        \n",
    "    return primes"
   ]
  },
  {
   "cell_type": "code",
   "execution_count": 11,
   "metadata": {},
   "outputs": [
    {
     "name": "stdout",
     "output_type": "stream",
     "text": [
      "[2, 3, 5, 7, 11]\n"
     ]
    }
   ],
   "source": [
    "# testing\n",
    "print(first_n_primes(5))"
   ]
  },
  {
   "cell_type": "code",
   "execution_count": 12,
   "metadata": {},
   "outputs": [
    {
     "name": "stdout",
     "output_type": "stream",
     "text": [
      "104743\n"
     ]
    }
   ],
   "source": [
    "# solution \n",
    "lotsa_primes = first_n_primes(10001)\n",
    "\n",
    "print(lotsa_primes[-1])"
   ]
  },
  {
   "cell_type": "code",
   "execution_count": 14,
   "metadata": {},
   "outputs": [
    {
     "name": "stdout",
     "output_type": "stream",
     "text": [
      "Time elapsed: 45.40988371761654 seconds\n",
      "104743\n"
     ]
    }
   ],
   "source": [
    "# solution, with timing\n",
    "import timeit\n",
    "\n",
    "start = timeit.default_timer()\n",
    "\n",
    "lotsa_primes = first_n_primes(10001)\n",
    "\n",
    "end = timeit.default_timer()\n",
    "\n",
    "print(f\"Time elapsed: {end-start} seconds\")\n",
    "print(lotsa_primes[-1])"
   ]
  },
  {
   "cell_type": "code",
   "execution_count": null,
   "metadata": {},
   "outputs": [],
   "source": []
  }
 ],
 "metadata": {
  "kernelspec": {
   "display_name": "Python 3",
   "language": "python",
   "name": "python3"
  },
  "language_info": {
   "codemirror_mode": {
    "name": "ipython",
    "version": 3
   },
   "file_extension": ".py",
   "mimetype": "text/x-python",
   "name": "python",
   "nbconvert_exporter": "python",
   "pygments_lexer": "ipython3",
   "version": "3.6.5"
  }
 },
 "nbformat": 4,
 "nbformat_minor": 2
}
