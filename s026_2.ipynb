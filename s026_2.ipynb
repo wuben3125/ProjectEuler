{
 "cells": [
  {
   "cell_type": "markdown",
   "metadata": {},
   "source": [
    "# Reciprocal cycles\n",
    "https://projecteuler.net/problem=26"
   ]
  },
  {
   "cell_type": "markdown",
   "metadata": {},
   "source": [
    "# Problem statement\n",
    "Find the integer `d`, s.t. `d` < 1000,  whose decimal fraction 1/`d` has the longest repeating sequence of digits. "
   ]
  },
  {
   "cell_type": "markdown",
   "metadata": {},
   "source": [
    "# Planning\n",
    "for each number =`d`= 1-1000, repeat the following process to accumulate a list:\n",
    "* start with running_divisor = 1\n",
    "~~* if running_divisor > d, update it by taking mod d of it~~\n",
    "* if d > running_divisor, multiply running_divisor by 10\n",
    "* if d <= running_divisor, append running_divisor%d to a list and update running_divisor according to mod d\n",
    "* if an element appears twice in the list, end"
   ]
  },
  {
   "cell_type": "markdown",
   "metadata": {},
   "source": [
    "## [work]"
   ]
  },
  {
   "cell_type": "code",
   "execution_count": 27,
   "metadata": {},
   "outputs": [],
   "source": [
    "def sequence_length_imperfect(d):\n",
    "    \"\"\"\n",
    "    returns the length of the repeating decimals of 1/n, including the leading non-repeating decimals\n",
    "    \n",
    "    \"\"\"\n",
    "    \n",
    "    mod_quotient_list = []\n",
    "    \n",
    "    count = 0\n",
    "    \n",
    "    running_divisor = 1\n",
    "    \n",
    "    end_flag = False\n",
    "    \n",
    "    while not end_flag and running_divisor!=0:\n",
    "        while running_divisor < d:\n",
    "            running_divisor *= 10\n",
    "            \n",
    "        if(running_divisor%d in mod_quotient_list):\n",
    "            end_flag = True\n",
    "            break\n",
    "            \n",
    "        else:\n",
    "            mod_quotient_list.append(running_divisor%d)\n",
    "            running_divisor %= d\n",
    "            \n",
    "        count += 1\n",
    "        \n",
    "#         print(mod_quotient_list)\n",
    "        \n",
    "    return count"
   ]
  },
  {
   "cell_type": "code",
   "execution_count": 31,
   "metadata": {},
   "outputs": [
    {
     "name": "stdout",
     "output_type": "stream",
     "text": [
      "1\n"
     ]
    }
   ],
   "source": [
    "# testing\n",
    "print(sequence_length_imperfect(6)) # is this right? "
   ]
  },
  {
   "cell_type": "markdown",
   "metadata": {},
   "source": [
    "## Solution"
   ]
  },
  {
   "cell_type": "code",
   "execution_count": 32,
   "metadata": {},
   "outputs": [
    {
     "name": "stdout",
     "output_type": "stream",
     "text": [
      "983\n",
      "884\n"
     ]
    }
   ],
   "source": [
    "longest_length = 0\n",
    "longest_length_d = 0\n",
    "\n",
    "for i in range (1, 1000+1):\n",
    "    temp = sequence_length_imperfect(i)\n",
    "    \n",
    "    if temp > longest_length:\n",
    "        longest_length = temp\n",
    "        longest_length_d = i\n",
    "        \n",
    "print(longest_length_d)\n",
    "print(longest_length)"
   ]
  },
  {
   "cell_type": "code",
   "execution_count": 23,
   "metadata": {},
   "outputs": [
    {
     "data": {
      "text/plain": [
       "0.02631578947368421"
      ]
     },
     "execution_count": 23,
     "metadata": {},
     "output_type": "execute_result"
    }
   ],
   "source": [
    "1/38"
   ]
  },
  {
   "cell_type": "markdown",
   "metadata": {},
   "source": [
    "## Learning\n",
    "I wrote something down, then forgot about it and implemented it incorrectly\n",
    "\n",
    "I also didn't completely understand what my function was doing"
   ]
  },
  {
   "cell_type": "code",
   "execution_count": null,
   "metadata": {},
   "outputs": [],
   "source": []
  }
 ],
 "metadata": {
  "kernelspec": {
   "display_name": "Python 3",
   "language": "python",
   "name": "python3"
  },
  "language_info": {
   "codemirror_mode": {
    "name": "ipython",
    "version": 3
   },
   "file_extension": ".py",
   "mimetype": "text/x-python",
   "name": "python",
   "nbconvert_exporter": "python",
   "pygments_lexer": "ipython3",
   "version": "3.6.5"
  }
 },
 "nbformat": 4,
 "nbformat_minor": 2
}
