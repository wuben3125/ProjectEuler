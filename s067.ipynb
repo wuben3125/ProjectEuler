{
 "cells": [
  {
   "cell_type": "markdown",
   "metadata": {},
   "source": [
    "# Maximum Path Sum II\n",
    "Source: https://projecteuler.net/problem=67\n"
   ]
  },
  {
   "cell_type": "markdown",
   "metadata": {},
   "source": [
    "# Problem Statement\n",
    "By starting at the top of the triangle below and moving to adjacent numbers on the row below, the maximum total from top to bottom is 23.\n",
    "\n",
    "3\n",
    "\n",
    "7 4\n",
    "\n",
    "2 4 6\n",
    "\n",
    "8 5 9 3 \n",
    "\n",
    "That is, 3 + 7 + 4 + 9 = 23.\n",
    "\n",
    "Find the maximum total from top to bottom in triangle.txt (right click and 'Save Link/Target As...'), a 15K text file containing a triangle with one-hundred rows.\n",
    "\n",
    "NOTE: This is a much more difficult version of Problem 18. It is not possible to try every route to solve this problem, as there are 299 altogether! If you could check one trillion (1012) routes every second it would take over twenty billion years to check them all. There is an efficient algorithm to solve it. ;o)"
   ]
  },
  {
   "cell_type": "markdown",
   "metadata": {},
   "source": [
    "### Tinkering"
   ]
  },
  {
   "cell_type": "code",
   "execution_count": 6,
   "metadata": {},
   "outputs": [],
   "source": [
    "with open('p067_triangle.txt') as file:\n",
    "    \n",
    "    triangle = []\n",
    "    \n",
    "    for idx, line in enumerate(file):\n",
    "        triangle.append([])\n",
    "        \n",
    "        for int_str in line.split():\n",
    "\n",
    "            int_val = int(int_str)\n",
    "            \n",
    "            triangle[idx].append(int_val)"
   ]
  },
  {
   "cell_type": "code",
   "execution_count": 8,
   "metadata": {},
   "outputs": [
    {
     "data": {
      "text/plain": [
       "3"
      ]
     },
     "execution_count": 8,
     "metadata": {},
     "output_type": "execute_result"
    }
   ],
   "source": [
    "## tinkeriing\n",
    "max(2, 3)"
   ]
  },
  {
   "cell_type": "code",
   "execution_count": 11,
   "metadata": {},
   "outputs": [],
   "source": [
    "## solution code - using dynamic programming\n",
    "for row_idx in range(len(triangle) - 1):\n",
    "    \n",
    "    # left\n",
    "    triangle[row_idx + 1][0] += triangle[row_idx][0]\n",
    "    \n",
    "    # middle elements\n",
    "    for second_row_idx in range(1, len(triangle[row_idx + 1]) - 1):\n",
    "        \n",
    "        triangle[row_idx + 1][second_row_idx] += max(triangle[row_idx][second_row_idx-1], triangle[row_idx][second_row_idx])\n",
    "        \n",
    "    # right element\n",
    "    triangle[row_idx + 1][-1] += triangle[row_idx][-1]"
   ]
  },
  {
   "cell_type": "code",
   "execution_count": 12,
   "metadata": {},
   "outputs": [
    {
     "name": "stdout",
     "output_type": "stream",
     "text": [
      "7273\n"
     ]
    }
   ],
   "source": [
    "print(max(triangle[-1]))"
   ]
  },
  {
   "cell_type": "code",
   "execution_count": null,
   "metadata": {},
   "outputs": [],
   "source": []
  }
 ],
 "metadata": {
  "kernelspec": {
   "display_name": "Python 3",
   "language": "python",
   "name": "python3"
  },
  "language_info": {
   "codemirror_mode": {
    "name": "ipython",
    "version": 3
   },
   "file_extension": ".py",
   "mimetype": "text/x-python",
   "name": "python",
   "nbconvert_exporter": "python",
   "pygments_lexer": "ipython3",
   "version": "3.6.10"
  }
 },
 "nbformat": 4,
 "nbformat_minor": 4
}
