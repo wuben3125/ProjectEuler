{
 "cells": [
  {
   "cell_type": "markdown",
   "metadata": {},
   "source": [
    "# Amicable numbers\n",
    "source: https://projecteuler.net/problem=21"
   ]
  },
  {
   "cell_type": "markdown",
   "metadata": {},
   "source": [
    "## Problem statement\n",
    "An amicable pair of numbers has the property that the sum of the proper divisors of one member is the other member.\n",
    "\n",
    "=Also, the numbers cannot be the same.=\n",
    "\n",
    "Find the sum of all the amicable numbers under 10000."
   ]
  },
  {
   "cell_type": "markdown",
   "metadata": {},
   "source": [
    "## Planning\n",
    "Create function that returns a list of proper divisors/factors of a number\n",
    "\n",
    "Parse through all numbers under 10000, recording members of the amicable pairs that are under 10000\n",
    "\n",
    "Sum them up"
   ]
  },
  {
   "cell_type": "markdown",
   "metadata": {},
   "source": [
    "## [work]"
   ]
  },
  {
   "cell_type": "code",
   "execution_count": 22,
   "metadata": {},
   "outputs": [],
   "source": [
    "def proper_divisors(n):\n",
    "    divisors = []\n",
    "    \n",
    "#     for i in range(1, int(sqrt(n)+1)):\n",
    "    for i in range(1, int(n**0.5 + 1)):\n",
    "#         if n%i==0:\n",
    "#             if n//i != i:\n",
    "#                 divisors.append(i)\n",
    "#                 if n//i != n: # proper divisors don't include the number itself\n",
    "#                     divisors.append(n//i)\n",
    "#             else:\n",
    "#                 divisors.append(i) # corner case of exact square root/duplicate factor\n",
    "        if i!=n: # proper divisors don't include the number itself\n",
    "            if n%i==0:\n",
    "                if n//i != i:\n",
    "                    divisors.append(i)\n",
    "                    if n//i != n: # proper divisors don't include the number itself\n",
    "                        divisors.append(n//i)\n",
    "                else:\n",
    "                    divisors.append(i) # corner case of exact square root/duplicate factor\n",
    "                \n",
    "    # sorting is optional\n",
    "    divisors.sort()\n",
    "    \n",
    "    return divisors"
   ]
  },
  {
   "cell_type": "code",
   "execution_count": 23,
   "metadata": {
    "scrolled": true
   },
   "outputs": [
    {
     "name": "stdout",
     "output_type": "stream",
     "text": [
      "[1, 3, 5]\n"
     ]
    }
   ],
   "source": [
    "# testing\n",
    "print(proper_divisors(15))"
   ]
  },
  {
   "cell_type": "code",
   "execution_count": 24,
   "metadata": {},
   "outputs": [
    {
     "name": "stdout",
     "output_type": "stream",
     "text": [
      "[]\n"
     ]
    }
   ],
   "source": [
    "# testing\n",
    "print(proper_divisors(1))"
   ]
  },
  {
   "cell_type": "code",
   "execution_count": 38,
   "metadata": {
    "scrolled": true
   },
   "outputs": [
    {
     "name": "stdout",
     "output_type": "stream",
     "text": [
      "[1, 5]\n"
     ]
    }
   ],
   "source": [
    "# testing\n",
    "print(proper_divisors(25))"
   ]
  },
  {
   "cell_type": "code",
   "execution_count": 39,
   "metadata": {},
   "outputs": [
    {
     "name": "stdout",
     "output_type": "stream",
     "text": [
      "[1, 2, 3, 4, 6, 8, 9, 12, 18, 24, 36]\n"
     ]
    }
   ],
   "source": [
    "print(proper_divisors(72))"
   ]
  },
  {
   "cell_type": "markdown",
   "metadata": {},
   "source": [
    "## Tinkering"
   ]
  },
  {
   "cell_type": "code",
   "execution_count": null,
   "metadata": {},
   "outputs": [],
   "source": []
  },
  {
   "cell_type": "code",
   "execution_count": 2,
   "metadata": {},
   "outputs": [
    {
     "name": "stdout",
     "output_type": "stream",
     "text": [
      "3\n"
     ]
    }
   ],
   "source": [
    "a_set = set()\n",
    "a_set.add(1)\n",
    "a_set.add(2)\n",
    "print(sum(a_set))"
   ]
  },
  {
   "cell_type": "code",
   "execution_count": null,
   "metadata": {},
   "outputs": [],
   "source": []
  },
  {
   "cell_type": "markdown",
   "metadata": {},
   "source": [
    "## Solution \n"
   ]
  },
  {
   "cell_type": "code",
   "execution_count": 45,
   "metadata": {},
   "outputs": [],
   "source": [
    "amicable_numbers = set()\n",
    "\n",
    "for i in range(1, 10000):\n",
    "    a_sum = sum(proper_divisors(i))\n",
    "    if a_sum != i: # numbers cannot be the same #also, error here - used 'sum' instead of 'a_sum'\n",
    "        if sum(proper_divisors(a_sum)) == i:\n",
    "            amicable_numbers.add(a_sum)\n",
    "            amicable_numbers.add(i) # may be redundant, but the set datatype takes care of that\n"
   ]
  },
  {
   "cell_type": "code",
   "execution_count": 46,
   "metadata": {},
   "outputs": [
    {
     "name": "stdout",
     "output_type": "stream",
     "text": [
      "{1184, 6368, 5564, 5020, 2924, 284, 6232, 1210, 220, 2620}\n"
     ]
    }
   ],
   "source": [
    "print(amicable_numbers)\n",
    "# 1 should not be in here"
   ]
  },
  {
   "cell_type": "code",
   "execution_count": 42,
   "metadata": {},
   "outputs": [
    {
     "data": {
      "text/plain": [
       "31626"
      ]
     },
     "execution_count": 42,
     "metadata": {},
     "output_type": "execute_result"
    }
   ],
   "source": [
    "sum(amicable_numbers)"
   ]
  },
  {
   "cell_type": "markdown",
   "metadata": {},
   "source": [
    "# Reflection\n",
    "I went back and changed the code haphazardly; I could've slowed down and got it right in one try\n",
    "\n",
    "Also, my definition/problem statement was not exactly correct"
   ]
  },
  {
   "cell_type": "code",
   "execution_count": null,
   "metadata": {},
   "outputs": [],
   "source": []
  }
 ],
 "metadata": {
  "kernelspec": {
   "display_name": "Python 3",
   "language": "python",
   "name": "python3"
  },
  "language_info": {
   "codemirror_mode": {
    "name": "ipython",
    "version": 3
   },
   "file_extension": ".py",
   "mimetype": "text/x-python",
   "name": "python",
   "nbconvert_exporter": "python",
   "pygments_lexer": "ipython3",
   "version": "3.6.5"
  }
 },
 "nbformat": 4,
 "nbformat_minor": 2
}
