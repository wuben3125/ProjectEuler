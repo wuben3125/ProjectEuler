{
 "cells": [
  {
   "cell_type": "markdown",
   "metadata": {},
   "source": [
    "# Counting Sundays\n",
    "source: https://projecteuler.net/problem=19"
   ]
  },
  {
   "cell_type": "markdown",
   "metadata": {},
   "source": [
    "## Problem statement\n",
    "1 Jan 1900 was a Monday.\n",
    "\n",
    "Thirty days has September,\n",
    "\n",
    "April, June and November.\n",
    "\n",
    "All the rest have thirty-one,\n",
    "\n",
    "Saving February alone,\n",
    "\n",
    "Which has twenty-eight, rain or shine.\n",
    "\n",
    "And on leap years, twenty-nine.\n",
    "\n",
    "A leap year occurs on any year evenly divisible by 4, but not on a century unless it is divisible by 400.\n",
    "\n",
    "How many Sundays fell on the first of the month during the twentieth century (1 Jan 1901 to 31 Dec 2000)?"
   ]
  },
  {
   "cell_type": "markdown",
   "metadata": {},
   "source": [
    "## Planning\n",
    "Keep a running total of days elapsed since 1 Jan 1901, starting at 1\n",
    "\n",
    "Keep track of each year\n",
    "\n",
    "Update the running total one month at a time; if it's divisible by 7 after a month, add 1 to sunday_count\n",
    "\n",
    "Careful for Frebruary\n",
    "\n",
    "Stop after the year hits 2001"
   ]
  },
  {
   "cell_type": "markdown",
   "metadata": {},
   "source": [
    "## Work\n"
   ]
  },
  {
   "cell_type": "code",
   "execution_count": 12,
   "metadata": {},
   "outputs": [],
   "source": [
    "sunday_count = 0\n",
    "day_count = 1\n",
    "year = 1901\n",
    "\n",
    "while year < 2001:\n",
    "    \n",
    "    for month in range(1, 12+1):\n",
    "        if month == 2:\n",
    "            if year%400==0 or (year%100!=0 and year%4==0):\n",
    "                day_count += 29\n",
    "            else:\n",
    "                day_count += 28\n",
    "        \n",
    "        elif month in [9,4,6,11]:\n",
    "            day_count += 30\n",
    "       \n",
    "        else:\n",
    "            day_count += 31\n",
    "        \n",
    "        if (day_count+1)%7==0: \n",
    "            sunday_count += 1\n",
    "\n",
    "    \n",
    "    year += 1\n",
    "    \n",
    "if (day_count+1) % 7 == 0: sunday_count -= 1 # in case the first day of Jan 1 2001 is a Sunday, which is out of bounds"
   ]
  },
  {
   "cell_type": "code",
   "execution_count": 13,
   "metadata": {},
   "outputs": [
    {
     "name": "stdout",
     "output_type": "stream",
     "text": [
      "False\n"
     ]
    }
   ],
   "source": [
    "# testing\n",
    "print(1 in [2,3,4])"
   ]
  },
  {
   "cell_type": "markdown",
   "metadata": {},
   "source": [
    "## Solution"
   ]
  },
  {
   "cell_type": "code",
   "execution_count": 14,
   "metadata": {},
   "outputs": [
    {
     "name": "stdout",
     "output_type": "stream",
     "text": [
      "36526\n"
     ]
    }
   ],
   "source": [
    "print(day_count)"
   ]
  },
  {
   "cell_type": "code",
   "execution_count": 15,
   "metadata": {},
   "outputs": [
    {
     "name": "stdout",
     "output_type": "stream",
     "text": [
      "171\n"
     ]
    }
   ],
   "source": [
    "print(sunday_count)"
   ]
  },
  {
   "cell_type": "markdown",
   "metadata": {},
   "source": [
    "## Learning\n",
    "I could have been more careful with my counting"
   ]
  },
  {
   "cell_type": "code",
   "execution_count": null,
   "metadata": {},
   "outputs": [],
   "source": []
  }
 ],
 "metadata": {
  "kernelspec": {
   "display_name": "Python 3",
   "language": "python",
   "name": "python3"
  },
  "language_info": {
   "codemirror_mode": {
    "name": "ipython",
    "version": 3
   },
   "file_extension": ".py",
   "mimetype": "text/x-python",
   "name": "python",
   "nbconvert_exporter": "python",
   "pygments_lexer": "ipython3",
   "version": "3.6.5"
  }
 },
 "nbformat": 4,
 "nbformat_minor": 2
}
