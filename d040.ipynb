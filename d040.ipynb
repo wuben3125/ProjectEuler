{
 "cells": [
  {
   "cell_type": "markdown",
   "metadata": {},
   "source": [
    "# Champernowne's constant\n",
    "source: https://projecteuler.net/problem=40"
   ]
  },
  {
   "cell_type": "markdown",
   "metadata": {},
   "source": [
    "# Work"
   ]
  },
  {
   "cell_type": "markdown",
   "metadata": {},
   "source": [
    "## Tinkering"
   ]
  },
  {
   "cell_type": "code",
   "execution_count": 1,
   "metadata": {},
   "outputs": [
    {
     "name": "stdout",
     "output_type": "stream",
     "text": [
      "hello world\n"
     ]
    }
   ],
   "source": [
    "## print hello world\n",
    "print('hello world')"
   ]
  },
  {
   "cell_type": "code",
   "execution_count": 4,
   "metadata": {},
   "outputs": [
    {
     "name": "stdout",
     "output_type": "stream",
     "text": [
      "100\n"
     ]
    }
   ],
   "source": [
    "## cast an int to string\n",
    "# print(int(100))\n",
    "print(str(100))"
   ]
  },
  {
   "cell_type": "code",
   "execution_count": 7,
   "metadata": {},
   "outputs": [
    {
     "name": "stdout",
     "output_type": "stream",
     "text": [
      "0\n",
      "0\n"
     ]
    }
   ],
   "source": [
    "## get digit by idnex\n",
    "print(str(100)[1])\n",
    "print(int((str(100)[1])))"
   ]
  },
  {
   "cell_type": "markdown",
   "metadata": {},
   "source": [
    "## Solution work"
   ]
  },
  {
   "cell_type": "code",
   "execution_count": null,
   "metadata": {},
   "outputs": [],
   "source": [
    "# def nth_digit_of_fractional_part(n):\n",
    "#     return nth_digit(n+1)\n",
    "# # added retroactively..."
   ]
  },
  {
   "cell_type": "code",
   "execution_count": 25,
   "metadata": {},
   "outputs": [],
   "source": [
    "def nth_digit(n):\n",
    "    ## get x -- the length of the numbers in the fragment\n",
    "    x = 0\n",
    "    running_count = 0\n",
    "    \n",
    "#     while(n > running_count):\n",
    "#         x += 1\n",
    "#         running_count += 9 * 10**(x-1)\n",
    "            # edit: went one too far\n",
    "#     while(n > running_count + 9 * 10**x):\n",
    "#         running_count += 9* 10**x\n",
    "#         x+=1\n",
    "\n",
    "    # incomplete\n",
    "    while(n > running_count + 9 * 10**x * (x+1)):\n",
    "        running_count += 9* 10**x * (x+1)\n",
    "        x+=1\n",
    "    \n",
    "    # there's a tricky special case here if n <= 0, but this doesn't matter\n",
    "    \n",
    "    ## get x-digit number\n",
    "    n -= running_count\n",
    "    \n",
    "    n -= 1 # fencepost adjustment for [orginal] indexing\n",
    "    \n",
    "    number_index = int(n/x) \n",
    "    digit_index = n%x # remained\n",
    "    \n",
    "    number = mth_int_of_length_x(number_index, x)\n",
    "    \n",
    "    ## get digit of number\n",
    "    return pth_digit_of_int(digit_index, number)\n",
    "    "
   ]
  },
  {
   "cell_type": "code",
   "execution_count": 26,
   "metadata": {},
   "outputs": [
    {
     "data": {
      "text/plain": [
       "3"
      ]
     },
     "execution_count": 26,
     "metadata": {},
     "output_type": "execute_result"
    }
   ],
   "source": [
    "## testing\n",
    "# print(12) # bruh.\n",
    "nth_digit(12)\n"
   ]
  },
  {
   "cell_type": "code",
   "execution_count": null,
   "metadata": {},
   "outputs": [],
   "source": []
  },
  {
   "cell_type": "code",
   "execution_count": 15,
   "metadata": {},
   "outputs": [],
   "source": [
    "def mth_int_of_length_x(m, x):\n",
    "    \"\"\"\n",
    "    m: int - index starting from 0, assumed <= 9 * 10^(x-1)\n",
    "    x: int - length of a positive integer, starting with 1\n",
    "    \"\"\"\n",
    "    base = 10**(x-1)\n",
    "    \n",
    "    return base + m"
   ]
  },
  {
   "cell_type": "code",
   "execution_count": 17,
   "metadata": {},
   "outputs": [
    {
     "name": "stdout",
     "output_type": "stream",
     "text": [
      "14\n"
     ]
    }
   ],
   "source": [
    "## testing \n",
    "print(mth_int_of_length_x(4, 2))\n"
   ]
  },
  {
   "cell_type": "code",
   "execution_count": 18,
   "metadata": {},
   "outputs": [
    {
     "name": "stdout",
     "output_type": "stream",
     "text": [
      "1\n"
     ]
    }
   ],
   "source": [
    "## testing\n",
    "print(mth_int_of_length_x(0, 1))\n",
    "    # I discovered an unexpected corner case\n",
    "        # that happens to play out in my favor...?\n",
    "        # now I'm incorporating it "
   ]
  },
  {
   "cell_type": "code",
   "execution_count": 8,
   "metadata": {},
   "outputs": [],
   "source": [
    "def pth_digit_of_int(p, i):\n",
    "    \"\"\"\n",
    "    p: int - index starting from 0\n",
    "    i: int - a positive integer\n",
    "    \"\"\"\n",
    "    num_digits = len(str(i))\n",
    "    \n",
    "    if p > num_digits-1:\n",
    "        return -1 # error, out of bounds\n",
    "    else:\n",
    "        return int(str(i)[p])"
   ]
  },
  {
   "cell_type": "code",
   "execution_count": 10,
   "metadata": {},
   "outputs": [
    {
     "data": {
      "text/plain": [
       "3"
      ]
     },
     "execution_count": 10,
     "metadata": {},
     "output_type": "execute_result"
    }
   ],
   "source": [
    "## testing\n",
    "pth_digit_of_int(2, 12345)"
   ]
  },
  {
   "cell_type": "code",
   "execution_count": 12,
   "metadata": {},
   "outputs": [
    {
     "data": {
      "text/plain": [
       "-1"
      ]
     },
     "execution_count": 12,
     "metadata": {},
     "output_type": "execute_result"
    }
   ],
   "source": [
    "## testing\n",
    "pth_digit_of_int(2, 12)"
   ]
  },
  {
   "cell_type": "code",
   "execution_count": 14,
   "metadata": {},
   "outputs": [
    {
     "data": {
      "text/plain": [
       "2"
      ]
     },
     "execution_count": 14,
     "metadata": {},
     "output_type": "execute_result"
    }
   ],
   "source": [
    "## testing\n",
    "pth_digit_of_int(-1, 12)\n",
    "# am I alright with negative indices?\n",
    "    # I almost missed this corner case"
   ]
  },
  {
   "cell_type": "markdown",
   "metadata": {},
   "source": [
    "# Learning\n",
    "* \n",
    "* Is using pencil and paper planning good practice?\n",
    "    * Or is it a crutch?\n",
    "*  \n",
    "* I may have lost sight of the central problem while contemplating trivial (yet important) suprficial stuff like syntax, naing conventions, function descriptions, etc.\n",
    "* \n",
    "* Some functions are easy enough to wing - but this is a bad habit\n",
    "    * \n",
    "    * I should have in mind exactly what I want t function to do before aI begin typing\n",
    "    * \n",
    "* \n",
    "* I should be sure that a solution works before putting it through the big test\n",
    "    * \n",
    "    *\n",
    "    * \n",
    "* \n",
    "* This would have went a lot smoother if I had written out my ideas first\n",
    "    * \n",
    "    * things like fencepost errors are \"trivial\" but they're a pain in the butt to track, and it's not worth the wasted time \n",
    "    * \n",
    "    * I didn't define clearly what I wanted each function to do, and now I'm having to set haphazard boundaries that may overlap\n",
    "    * \n",
    "* Some comments typed in unit testing:\n",
    "     * # I discovered an unexpected corner case\n",
    "       * # that happens to play out in my favor...?\n",
    "        * # now I'm incorporating it \n",
    "* \n",
    " "
   ]
  },
  {
   "cell_type": "code",
   "execution_count": null,
   "metadata": {},
   "outputs": [],
   "source": []
  }
 ],
 "metadata": {
  "kernelspec": {
   "display_name": "Python 3",
   "language": "python",
   "name": "python3"
  },
  "language_info": {
   "codemirror_mode": {
    "name": "ipython",
    "version": 3
   },
   "file_extension": ".py",
   "mimetype": "text/x-python",
   "name": "python",
   "nbconvert_exporter": "python",
   "pygments_lexer": "ipython3",
   "version": "3.6.5"
  }
 },
 "nbformat": 4,
 "nbformat_minor": 2
}
