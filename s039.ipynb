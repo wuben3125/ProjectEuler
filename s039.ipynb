{
 "cells": [
  {
   "cell_type": "markdown",
   "metadata": {},
   "source": [
    "# Integer right triangles\n",
    "Source: https://projecteuler.net/problem=39"
   ]
  },
  {
   "cell_type": "markdown",
   "metadata": {},
   "source": [
    "# Problem statement\n",
    "If p is the perimeter of a right angle triangle with integral length sides, {a,b,c}, there are exactly three solutions for p = 120.\n",
    "\n",
    "{20,48,52}, {24,45,51}, {30,40,50}\n",
    "\n",
    "For which value of p ≤ 1000, is the number of solutions maximised?"
   ]
  },
  {
   "cell_type": "markdown",
   "metadata": {},
   "source": [
    "# Planning\n",
    "Use a brute force enumeration technique that tests values of p from 1 to 1000, and iterates over two numbers and their sum's complement with 1000. \n",
    "\n",
    "Use sets so that triplets aren't repeated\n",
    "\n"
   ]
  },
  {
   "cell_type": "markdown",
   "metadata": {},
   "source": [
    "# Tinkering"
   ]
  },
  {
   "cell_type": "code",
   "execution_count": 11,
   "metadata": {},
   "outputs": [
    {
     "name": "stdout",
     "output_type": "stream",
     "text": [
      "3\n",
      "[1, 2]\n"
     ]
    }
   ],
   "source": [
    "a_list = [1,2,3]\n",
    "    \n",
    "max_val = max(a_list)\n",
    "    \n",
    "print(max_val)\n",
    "    \n",
    "a_list.remove(max_val)\n",
    "\n",
    "print(a_list)"
   ]
  },
  {
   "cell_type": "code",
   "execution_count": 12,
   "metadata": {},
   "outputs": [],
   "source": [
    "def is_pythagorean_triple(side1, side2, side3):\n",
    "    \"\"\"\n",
    "    side1: int\n",
    "    side2: int\n",
    "    side3: int\n",
    "    \n",
    "    separates the longest length, then returns true if its square is the sum of the squares of the others\n",
    "    \n",
    "    \"\"\"\n",
    "    side_list = [side1, side2, side3]\n",
    "    \n",
    "    hypotenuse = max(side_list)\n",
    "    \n",
    "    side_list.remove(hypotenuse)\n",
    "    \n",
    "    # remaining side lengths\n",
    "    leg1 = side_list[0]\n",
    "    leg2 = side_list[1]\n",
    "    \n",
    "    return (leg1**2 + leg2**2 == hypotenuse**2)\n",
    "        "
   ]
  },
  {
   "cell_type": "code",
   "execution_count": 34,
   "metadata": {},
   "outputs": [],
   "source": [
    "def is_pythagorean_triple_fixed(hypotenuse, leg1, leg2):\n",
    "    \n",
    "    return (leg1**2 + leg2**2 == hypothenuse**2)"
   ]
  },
  {
   "cell_type": "code",
   "execution_count": 14,
   "metadata": {},
   "outputs": [
    {
     "data": {
      "text/plain": [
       "False"
      ]
     },
     "execution_count": 14,
     "metadata": {},
     "output_type": "execute_result"
    }
   ],
   "source": [
    "is_pythagorean_triple(5, 4, 4)"
   ]
  },
  {
   "cell_type": "code",
   "execution_count": 16,
   "metadata": {},
   "outputs": [
    {
     "ename": "TypeError",
     "evalue": "unhashable type: 'set'",
     "output_type": "error",
     "traceback": [
      "\u001b[1;31m---------------------------------------------------------------------------\u001b[0m",
      "\u001b[1;31mTypeError\u001b[0m                                 Traceback (most recent call last)",
      "\u001b[1;32m<ipython-input-16-e47f4ca66bd1>\u001b[0m in \u001b[0;36m<module>\u001b[1;34m\u001b[0m\n\u001b[0;32m      2\u001b[0m \u001b[0mset_of_sets\u001b[0m \u001b[1;33m=\u001b[0m \u001b[0mset\u001b[0m\u001b[1;33m(\u001b[0m\u001b[1;33m)\u001b[0m\u001b[1;33m\u001b[0m\u001b[1;33m\u001b[0m\u001b[0m\n\u001b[0;32m      3\u001b[0m \u001b[1;33m\u001b[0m\u001b[0m\n\u001b[1;32m----> 4\u001b[1;33m \u001b[0mset_of_sets\u001b[0m\u001b[1;33m.\u001b[0m\u001b[0madd\u001b[0m\u001b[1;33m(\u001b[0m\u001b[0mset\u001b[0m\u001b[1;33m(\u001b[0m\u001b[1;33m[\u001b[0m\u001b[1;36m1\u001b[0m\u001b[1;33m,\u001b[0m\u001b[1;36m2\u001b[0m\u001b[1;33m,\u001b[0m\u001b[1;36m3\u001b[0m\u001b[1;33m]\u001b[0m\u001b[1;33m)\u001b[0m\u001b[1;33m)\u001b[0m\u001b[1;33m\u001b[0m\u001b[1;33m\u001b[0m\u001b[0m\n\u001b[0m\u001b[0;32m      5\u001b[0m \u001b[1;33m\u001b[0m\u001b[0m\n\u001b[0;32m      6\u001b[0m \u001b[0mset_of_sets\u001b[0m\u001b[1;33m.\u001b[0m\u001b[0madd\u001b[0m\u001b[1;33m(\u001b[0m\u001b[0mset\u001b[0m\u001b[1;33m(\u001b[0m\u001b[1;33m[\u001b[0m\u001b[1;36m2\u001b[0m\u001b[1;33m,\u001b[0m\u001b[1;36m3\u001b[0m\u001b[1;33m,\u001b[0m\u001b[1;36m1\u001b[0m\u001b[1;33m]\u001b[0m\u001b[1;33m)\u001b[0m\u001b[1;33m)\u001b[0m\u001b[1;33m\u001b[0m\u001b[1;33m\u001b[0m\u001b[0m\n",
      "\u001b[1;31mTypeError\u001b[0m: unhashable type: 'set'"
     ]
    }
   ],
   "source": [
    "## testing sets of sets\n",
    "set_of_sets = set()\n",
    "\n",
    "set_of_sets.add(set([1,2,3]))\n",
    "\n",
    "set_of_sets.add(set([2,3,1]))\n",
    "\n",
    "print(set_of_sets)"
   ]
  },
  {
   "cell_type": "code",
   "execution_count": 19,
   "metadata": {},
   "outputs": [
    {
     "name": "stdout",
     "output_type": "stream",
     "text": [
      "[{1, 2, 3}]\n"
     ]
    }
   ],
   "source": [
    "## testing lists of sets\n",
    "list_of_sets = []\n",
    "\n",
    "list_of_sets.append(set([1,2,3]))\n",
    "\n",
    "if set([2,3,1]) not in list_of_sets:\n",
    "    list_of_sets.append(set([2,3,1]))\n",
    "\n",
    "print(list_of_sets)"
   ]
  },
  {
   "cell_type": "code",
   "execution_count": null,
   "metadata": {},
   "outputs": [],
   "source": []
  },
  {
   "cell_type": "code",
   "execution_count": 30,
   "metadata": {},
   "outputs": [],
   "source": [
    "def enumerate_pythagorean_triples(p):\n",
    "    \"\"\"\n",
    "    p: int\n",
    "    \n",
    "    returns a list of all pythagorean triples whose perimeter is p\n",
    "    \n",
    "    \"\"\"\n",
    "    \n",
    "    pythagorean_triples = []\n",
    "    \n",
    "    for first_num in range(1, int(p/2)):\n",
    "        for second_num in range(1, int(p/2)):\n",
    "            \n",
    "            third_num = p - (first_num + second_num)\n",
    "            \n",
    "            if is_pythagorean_triple(first_num, second_num, third_num):\n",
    "                \n",
    "                triple = set([first_num, second_num, third_num])\n",
    "                \n",
    "                if triple not in pythagorean_triples:\n",
    "                    pythagorean_triples.append(triple)\n",
    "                    \n",
    "    return pythagorean_triples"
   ]
  },
  {
   "cell_type": "code",
   "execution_count": 31,
   "metadata": {},
   "outputs": [
    {
     "data": {
      "text/plain": [
       "[{3, 4, 5}]"
      ]
     },
     "execution_count": 31,
     "metadata": {},
     "output_type": "execute_result"
    }
   ],
   "source": [
    "## testing\n",
    "enumerate_pythagorean_triples(12)"
   ]
  },
  {
   "cell_type": "markdown",
   "metadata": {},
   "source": [
    "# Brute Force Solution"
   ]
  },
  {
   "cell_type": "code",
   "execution_count": 28,
   "metadata": {},
   "outputs": [],
   "source": [
    "import timeit"
   ]
  },
  {
   "cell_type": "code",
   "execution_count": 32,
   "metadata": {},
   "outputs": [
    {
     "name": "stdout",
     "output_type": "stream",
     "text": [
      "p = 420 has the most triples; # triples = 5\n",
      "Time elapsed: 24.04051516464142\n"
     ]
    }
   ],
   "source": [
    "# for a smaller problem\n",
    "max_triple_count = 0\n",
    "max_triple_p = 0\n",
    "max_triple_list = []\n",
    "\n",
    "start = timeit.default_timer()\n",
    "\n",
    "for p in range(1, 500+1):\n",
    "    \n",
    "    current_triple_list = enumerate_pythagorean_triples(p)\n",
    "    \n",
    "    if len(current_triple_list) > max_triple_count:\n",
    "        max_triple_count = len(current_triple_list)\n",
    "        \n",
    "        max_triple_p = p\n",
    "        \n",
    "        max_triple_list = current_triple_list\n",
    "        \n",
    "print(f\"p = {max_triple_p} has the most triples; # triples = {max_triple_count}\")\n",
    "\n",
    "# print(max_triple_list)\n",
    "\n",
    "end = timeit.default_timer()\n",
    "\n",
    "print(f\"Time elapsed: {end-start}\")"
   ]
  },
  {
   "cell_type": "code",
   "execution_count": null,
   "metadata": {},
   "outputs": [],
   "source": []
  },
  {
   "cell_type": "markdown",
   "metadata": {},
   "source": [
    "# Slightly faster brute force solution"
   ]
  },
  {
   "cell_type": "code",
   "execution_count": 38,
   "metadata": {},
   "outputs": [],
   "source": [
    "def is_pythagorean_triple_fixed(hypotenuse, leg1, leg2):\n",
    "    \n",
    "    return (leg1**2 + leg2**2 == hypotenuse**2)"
   ]
  },
  {
   "cell_type": "code",
   "execution_count": 39,
   "metadata": {},
   "outputs": [],
   "source": [
    "def enumerate_pythagorean_triples_fixed(p):\n",
    "    \"\"\"\n",
    "    p: int\n",
    "    \n",
    "    returns a list of all pythagorean triples whose perimeter is p\n",
    "    \n",
    "    \"\"\"\n",
    "    \n",
    "    pythagorean_triples = []\n",
    "    \n",
    "    for first_num in range(1, int(p/2)+1 ):\n",
    "        for second_num in range(1, int(p/2)+1 ):\n",
    "            \n",
    "            third_num = p - (first_num + second_num)\n",
    "            \n",
    "            if is_pythagorean_triple_fixed(third_num, first_num, second_num):\n",
    "                \n",
    "                triple = set([first_num, second_num, third_num])\n",
    "                \n",
    "                if triple not in pythagorean_triples:\n",
    "                    pythagorean_triples.append(triple)\n",
    "                    \n",
    "    return pythagorean_triples"
   ]
  },
  {
   "cell_type": "code",
   "execution_count": 40,
   "metadata": {},
   "outputs": [],
   "source": [
    "import timeit"
   ]
  },
  {
   "cell_type": "code",
   "execution_count": 41,
   "metadata": {},
   "outputs": [
    {
     "name": "stdout",
     "output_type": "stream",
     "text": [
      "p = 420 has the most triples; # triples = 5\n",
      "Time elapsed: 18.03579972490104\n"
     ]
    }
   ],
   "source": [
    "# for a smaller problem\n",
    "max_triple_count = 0\n",
    "max_triple_p = 0\n",
    "max_triple_list = []\n",
    "\n",
    "start = timeit.default_timer()\n",
    "\n",
    "for p in range(1, 500+1):\n",
    "    \n",
    "    current_triple_list = enumerate_pythagorean_triples_fixed(p)\n",
    "    \n",
    "    if len(current_triple_list) > max_triple_count:\n",
    "        max_triple_count = len(current_triple_list)\n",
    "        \n",
    "        max_triple_p = p\n",
    "        \n",
    "        max_triple_list = current_triple_list\n",
    "        \n",
    "print(f\"p = {max_triple_p} has the most triples; # triples = {max_triple_count}\")\n",
    "\n",
    "# print(max_triple_list)\n",
    "\n",
    "end = timeit.default_timer()\n",
    "\n",
    "print(f\"Time elapsed: {end-start}\")"
   ]
  },
  {
   "cell_type": "code",
   "execution_count": 42,
   "metadata": {},
   "outputs": [
    {
     "name": "stdout",
     "output_type": "stream",
     "text": [
      "p = 840 has the most triples; # triples = 8\n",
      "Time elapsed: 152.76973455228023\n"
     ]
    }
   ],
   "source": [
    "# for full problem\n",
    "max_triple_count = 0\n",
    "max_triple_p = 0\n",
    "max_triple_list = []\n",
    "\n",
    "start = timeit.default_timer()\n",
    "\n",
    "for p in range(1, 1000+1):\n",
    "    \n",
    "    current_triple_list = enumerate_pythagorean_triples_fixed(p)\n",
    "    \n",
    "    if len(current_triple_list) > max_triple_count:\n",
    "        max_triple_count = len(current_triple_list)\n",
    "        \n",
    "        max_triple_p = p\n",
    "        \n",
    "        max_triple_list = current_triple_list\n",
    "        \n",
    "print(f\"p = {max_triple_p} has the most triples; # triples = {max_triple_count}\")\n",
    "\n",
    "# print(max_triple_list)\n",
    "\n",
    "end = timeit.default_timer()\n",
    "\n",
    "print(f\"Time elapsed: {end-start}\")"
   ]
  },
  {
   "cell_type": "code",
   "execution_count": null,
   "metadata": {},
   "outputs": [],
   "source": []
  },
  {
   "cell_type": "markdown",
   "metadata": {},
   "source": [
    "# Faster solution\n",
    "Instead of calculating for each `p` which triples form a right triangle,\n",
    "\n",
    "find all the right triangles with integer lengths whose perimeter is less than `p`, and then categorize them into different dictionary keys according to their sums\n",
    "\n",
    "This reduces the amount of brute force permutation-testing required"
   ]
  },
  {
   "cell_type": "markdown",
   "metadata": {},
   "source": [
    "## Tinkering"
   ]
  },
  {
   "cell_type": "code",
   "execution_count": 45,
   "metadata": {},
   "outputs": [],
   "source": [
    "def pythagorean_triples_under_p(p):\n",
    "    \n",
    "    \"\"\"\n",
    "    p: int\n",
    "    \n",
    "    returns a list of sets of triples\n",
    "    \"\"\"\n",
    "    \n",
    "    triples_list = []\n",
    "    \n",
    "    \n",
    "    for hypotenuse in range(1, int(p*2**0.5/(2**0.5 + 2))+1):\n",
    "        for leg1 in range(1, int(p/(2**0.5 + 2)) + 1):\n",
    "            for leg2 in range(1, int(p/(2**0.5 + 2)) + 1):\n",
    "                \n",
    "                if leg1**2 + leg2**2 == hypotenuse**2:\n",
    "                    \n",
    "                    triple = set([leg1, leg2, hypotenuse])\n",
    "                    \n",
    "                    if triple not in triples_list:\n",
    "                        triples_list.append( triple )\n",
    "                    \n",
    "    return triples_list\n",
    "            "
   ]
  },
  {
   "cell_type": "code",
   "execution_count": 47,
   "metadata": {
    "scrolled": true
   },
   "outputs": [
    {
     "data": {
      "text/plain": [
       "[{3, 4, 5},\n",
       " {6, 8, 10},\n",
       " {5, 12, 13},\n",
       " {9, 12, 15},\n",
       " {8, 15, 17},\n",
       " {12, 16, 20},\n",
       " {7, 24, 25},\n",
       " {15, 20, 25},\n",
       " {10, 24, 26},\n",
       " {20, 21, 29},\n",
       " {18, 24, 30},\n",
       " {21, 28, 35}]"
      ]
     },
     "execution_count": 47,
     "metadata": {},
     "output_type": "execute_result"
    }
   ],
   "source": [
    "## testing\n",
    "pythagorean_triples_under_p(100)"
   ]
  },
  {
   "cell_type": "code",
   "execution_count": 50,
   "metadata": {},
   "outputs": [],
   "source": [
    "def classify_triples(triples_list):\n",
    "    \"\"\"\n",
    "    triples_list: list of sets\n",
    "    \n",
    "    returns a dictionary whose keys are ints (sums of triples_list elements) and whose values are sets\n",
    "    \n",
    "    \"\"\"\n",
    "    classified_triples = {}\n",
    "    \n",
    "    for triple in triples_list:\n",
    "        \n",
    "        if sum(triple) not in classified_triples.keys():\n",
    "            classified_triples[sum(triple)] = []\n",
    "            classified_triples[sum(triple)].append(triple)\n",
    "        else:\n",
    "            classified_triples[sum(triple)].append(triple)\n",
    "            \n",
    "    return classified_triples\n",
    "            "
   ]
  },
  {
   "cell_type": "code",
   "execution_count": 51,
   "metadata": {},
   "outputs": [
    {
     "data": {
      "text/plain": [
       "{12: [{3, 4, 5}],\n",
       " 24: [{6, 8, 10}],\n",
       " 30: [{5, 12, 13}],\n",
       " 36: [{9, 12, 15}],\n",
       " 40: [{8, 15, 17}],\n",
       " 48: [{12, 16, 20}],\n",
       " 56: [{7, 24, 25}],\n",
       " 60: [{15, 20, 25}, {10, 24, 26}],\n",
       " 70: [{20, 21, 29}],\n",
       " 72: [{18, 24, 30}],\n",
       " 84: [{21, 28, 35}]}"
      ]
     },
     "execution_count": 51,
     "metadata": {},
     "output_type": "execute_result"
    }
   ],
   "source": [
    "classify_triples(pythagorean_triples_under_p(100))"
   ]
  },
  {
   "cell_type": "markdown",
   "metadata": {},
   "source": [
    "## Solution"
   ]
  },
  {
   "cell_type": "code",
   "execution_count": 56,
   "metadata": {},
   "outputs": [
    {
     "name": "stdout",
     "output_type": "stream",
     "text": [
      "Time elapsed for number crunching: 59.61070682199875\n"
     ]
    }
   ],
   "source": [
    "start = timeit.default_timer()\n",
    "\n",
    "triples_under_1000 = pythagorean_triples_under_p(1000+1)\n",
    "\n",
    "triples_under_1000_dict = classify_triples(triples_under_1000)\n",
    "\n",
    "end = timeit.default_timer()\n",
    "\n",
    "print(f\"Time elapsed for number crunching: {end-start}\")\n"
   ]
  },
  {
   "cell_type": "code",
   "execution_count": 57,
   "metadata": {
    "scrolled": true
   },
   "outputs": [
    {
     "name": "stdout",
     "output_type": "stream",
     "text": [
      "420\n",
      "5\n"
     ]
    }
   ],
   "source": [
    "## extracting solution\n",
    "max_p = 0\n",
    "max_triple_count = 0\n",
    "\n",
    "for triple_sum in triples_under_1000_dict.keys():\n",
    "    \n",
    "    if len(triples_under_1000_dict[triple_sum]) > max_triple_count:\n",
    "        \n",
    "        max_p = triple_sum \n",
    "        max_triple_count = len(triples_under_1000_dict[triple_sum])\n",
    "        \n",
    "print(max_p)\n",
    "print(max_triple_count)"
   ]
  },
  {
   "cell_type": "code",
   "execution_count": 58,
   "metadata": {
    "scrolled": true
   },
   "outputs": [
    {
     "data": {
      "text/plain": [
       "[{240, 252, 348}, {210, 280, 350}]"
      ]
     },
     "execution_count": 58,
     "metadata": {},
     "output_type": "execute_result"
    }
   ],
   "source": [
    "triples_under_1000_dict[840]"
   ]
  },
  {
   "cell_type": "code",
   "execution_count": null,
   "metadata": {},
   "outputs": [],
   "source": [
    "## note: the regular brute force method gave the correct answer, this one didn't"
   ]
  },
  {
   "cell_type": "markdown",
   "metadata": {},
   "source": [
    "## A retry of the 'faster' solution"
   ]
  },
  {
   "cell_type": "code",
   "execution_count": 79,
   "metadata": {},
   "outputs": [],
   "source": [
    "def pythagorean_triples_under_p(p):\n",
    "    \n",
    "    \"\"\"\n",
    "    p: int\n",
    "    \n",
    "    returns a list of sets of triples\n",
    "    \"\"\"\n",
    "    \n",
    "    triples_list = []\n",
    "    \n",
    "    for hypotenuse in range(1, int(p/2)+1 ):\n",
    "        for leg1 in range(1, hypotenuse ):\n",
    "            \n",
    "            for leg2 in range(hypotenuse - leg1, hypotenuse):\n",
    "            \n",
    "                if hypotenuse**2 == leg1**2 + leg2**2:\n",
    "\n",
    "                    triple = set([hypotenuse, leg1, leg2])\n",
    "\n",
    "                    if triple not in triples_list:\n",
    "                        triples_list.append(triple)\n",
    "                    \n",
    "    return triples_list\n",
    "            "
   ]
  },
  {
   "cell_type": "code",
   "execution_count": 80,
   "metadata": {},
   "outputs": [],
   "source": [
    "def classify_triples(triples_list):\n",
    "    \"\"\"\n",
    "    triples_list: list of sets\n",
    "    \n",
    "    returns a dictionary whose keys are ints (sums of triples_list elements) and whose values are sets\n",
    "    \n",
    "    \"\"\"\n",
    "    classified_triples = {}\n",
    "    \n",
    "    for triple in triples_list:\n",
    "        \n",
    "        if sum(triple) not in classified_triples.keys():\n",
    "            classified_triples[sum(triple)] = []\n",
    "            classified_triples[sum(triple)].append(triple)\n",
    "        else:\n",
    "            classified_triples[sum(triple)].append(triple)\n",
    "            \n",
    "    return classified_triples\n",
    "            "
   ]
  },
  {
   "cell_type": "code",
   "execution_count": 81,
   "metadata": {},
   "outputs": [
    {
     "name": "stdout",
     "output_type": "stream",
     "text": [
      "Time elapsed for number crunching: 31.73615841749688\n"
     ]
    }
   ],
   "source": [
    "start = timeit.default_timer()\n",
    "\n",
    "triples_under_1000 = pythagorean_triples_under_p(1000+1)\n",
    "\n",
    "triples_under_1000_dict = classify_triples(triples_under_1000)\n",
    "\n",
    "end = timeit.default_timer()\n",
    "\n",
    "print(f\"Time elapsed for number crunching: {end-start}\")\n"
   ]
  },
  {
   "cell_type": "code",
   "execution_count": 82,
   "metadata": {
    "collapsed": true
   },
   "outputs": [
    {
     "name": "stdout",
     "output_type": "stream",
     "text": [
      "[{3, 4, 5}, {8, 10, 6}, {5, 12, 13}, {9, 12, 15}, {8, 17, 15}, {16, 20, 12}, {24, 25, 7}, {25, 20, 15}, {24, 26, 10}, {21, 20, 29}, {24, 18, 30}, {16, 34, 30}, {35, 28, 21}, {35, 12, 37}, {15, 36, 39}, {40, 24, 32}, {40, 41, 9}, {27, 36, 45}, {48, 50, 14}, {40, 50, 30}, {24, 51, 45}, {48, 52, 20}, {45, 28, 53}, {33, 44, 55}, {40, 58, 42}, {48, 60, 36}, {11, 60, 61}, {16, 65, 63}, {65, 60, 25}, {56, 65, 33}, {65, 52, 39}, {32, 68, 60}, {56, 42, 70}, {48, 73, 55}, {24, 74, 70}, {72, 75, 21}, {75, 60, 45}, {72, 78, 30}, {80, 48, 64}, {80, 82, 18}, {13, 84, 85}, {77, 36, 85}, {40, 75, 85}, {51, 68, 85}, {60, 63, 87}, {80, 89, 39}, {72, 90, 54}, {35, 91, 84}, {57, 76, 95}, {65, 97, 72}, {96, 100, 28}, {80, 100, 60}, {99, 20, 101}, {48, 90, 102}, {104, 40, 96}, {105, 84, 63}, {56, 106, 90}, {91, 60, 109}, {88, 66, 110}, {105, 36, 111}, {112, 113, 15}, {115, 92, 69}, {80, 116, 84}, {45, 108, 117}, {56, 105, 119}, {120, 72, 96}, {120, 122, 22}, {27, 123, 120}, {120, 35, 125}, {117, 44, 125}, {75, 100, 125}, {32, 130, 126}, {120, 130, 50}, {112, 130, 66}, {104, 130, 78}, {81, 108, 135}, {136, 64, 120}, {88, 137, 105}, {112, 140, 84}, {132, 55, 143}, {144, 145, 17}, {24, 145, 143}, {145, 116, 87}, {145, 100, 105}, {96, 146, 110}, {48, 140, 148}, {51, 140, 149}, {144, 42, 150}, {120, 90, 150}, {72, 153, 135}, {155, 124, 93}, {144, 156, 60}, {132, 85, 157}, {135, 84, 159}, {160, 96, 128}, {160, 164, 36}, {99, 132, 165}, {65, 169, 156}, {120, 169, 119}, {168, 170, 26}, {72, 170, 154}, {80, 170, 150}, {136, 170, 102}, {52, 173, 165}, {120, 126, 174}, {168, 49, 175}, {105, 140, 175}, {160, 178, 78}, {108, 180, 144}, {19, 180, 181}, {168, 70, 182}, {33, 180, 183}, {176, 185, 57}, {185, 60, 175}, {104, 185, 153}, {185, 148, 111}, {88, 187, 165}, {152, 114, 190}, {168, 193, 95}, {144, 194, 130}, {48, 195, 189}, {75, 195, 180}, {99, 195, 168}, {195, 156, 117}, {195, 28, 197}, {200, 56, 192}, {200, 120, 160}, {40, 202, 198}, {203, 140, 147}, {96, 180, 204}, {200, 45, 205}, {187, 84, 205}, {123, 164, 205}, {156, 205, 133}, {208, 80, 192}, {168, 210, 126}, {112, 180, 212}, {129, 172, 215}, {120, 218, 182}, {144, 219, 165}, {176, 132, 220}, {21, 220, 221}, {204, 85, 221}, {104, 195, 221}, {171, 140, 221}, {72, 210, 222}, {216, 225, 63}, {225, 180, 135}, {224, 226, 30}, {221, 60, 229}, {184, 138, 230}, {232, 160, 168}, {208, 233, 105}, {216, 234, 90}, {235, 188, 141}, {112, 210, 238}, {240, 144, 192}, {120, 241, 209}, {240, 244, 44}, {147, 196, 245}, {54, 240, 246}, {228, 95, 247}, {240, 250, 70}, {88, 250, 234}, {200, 250, 150}, {252, 39, 255}, {231, 108, 255}, {120, 225, 255}, {153, 204, 255}, {32, 257, 255}, {259, 84, 245}, {64, 260, 252}, {100, 240, 260}, {224, 132, 260}, {208, 156, 260}, {180, 261, 189}, {264, 265, 23}, {96, 265, 247}, {265, 140, 225}, {265, 212, 159}, {240, 267, 117}, {260, 69, 269}, {216, 162, 270}, {272, 240, 128}, {273, 252, 105}, {176, 210, 274}, {264, 275, 77}, {275, 220, 165}, {115, 252, 277}, {280, 224, 168}, {160, 281, 231}, {171, 228, 285}, {264, 110, 286}, {280, 63, 287}, {136, 289, 255}, {240, 289, 161}, {288, 290, 34}, {48, 290, 286}, {232, 290, 174}, {200, 210, 290}, {216, 291, 195}, {192, 220, 292}, {285, 68, 293}, {177, 236, 295}, {296, 280, 96}, {280, 298, 102}, {115, 299, 276}, {288, 300, 84}, {240, 180, 300}, {297, 60, 303}, {305, 300, 55}, {136, 305, 273}, {305, 244, 183}, {224, 305, 207}, {144, 306, 270}, {248, 186, 310}, {312, 288, 120}, {312, 313, 25}, {170, 264, 314}, {315, 252, 189}, {75, 308, 317}, {168, 318, 270}, {231, 220, 319}, {320, 256, 192}, {152, 323, 285}, {323, 36, 325}, {80, 315, 325}, {312, 91, 325}, {125, 300, 325}, {280, 325, 165}, {195, 260, 325}, {253, 204, 325}, {273, 180, 327}, {328, 320, 72}, {264, 330, 198}, {315, 108, 333}, {201, 268, 335}, {288, 337, 175}, {312, 338, 130}, {240, 338, 238}, {336, 339, 45}, {336, 340, 52}, {144, 340, 308}, {160, 340, 300}, {272, 204, 340}, {345, 276, 207}, {104, 346, 330}, {240, 348, 252}, {299, 180, 349}, {336, 98, 350}, {280, 210, 350}, {135, 324, 351}, {272, 353, 225}, {355, 284, 213}, {320, 156, 356}, {168, 315, 357}, {360, 288, 216}, {360, 362, 38}, {336, 140, 364}, {27, 364, 365}, {357, 76, 365}, {219, 292, 365}, {240, 275, 365}, {360, 66, 366}, {81, 369, 360}, {352, 370, 114}, {120, 370, 350}, {208, 370, 306}, {296, 370, 222}, {315, 371, 196}, {275, 252, 373}, {176, 330, 374}, {360, 105, 375}, {132, 351, 375}, {225, 300, 375}, {352, 377, 135}, {377, 145, 348}, {152, 377, 345}, {377, 260, 273}, {304, 380, 228}, {385, 308, 231}, {336, 386, 190}, {288, 388, 260}, {340, 389, 189}, {96, 378, 390}, {360, 150, 390}, {336, 198, 390}, {312, 234, 390}, {184, 345, 391}, {56, 394, 390}, {395, 316, 237}, {325, 228, 397}, {400, 112, 384}, {400, 240, 320}, {40, 401, 399}, {372, 403, 155}, {80, 396, 404}, {243, 324, 405}, {280, 294, 406}, {385, 132, 407}, {408, 360, 192}, {120, 409, 391}, {400, 410, 90}, {168, 410, 374}, {328, 410, 246}, {312, 410, 266}, {264, 315, 411}, {249, 332, 415}, {416, 384, 160}, {336, 420, 252}, {29, 420, 421}, {424, 224, 360}, {65, 425, 420}, {416, 425, 87}, {408, 425, 119}, {425, 385, 180}, {200, 425, 375}, {425, 340, 255}, {304, 425, 297}, {427, 420, 77}, {396, 429, 165}, {344, 258, 430}, {408, 433, 145}, {432, 51, 435}, {72, 435, 429}, {435, 348, 261}, {315, 435, 300}, {240, 364, 436}, {288, 330, 438}, {440, 264, 352}, {440, 442, 42}, {170, 442, 408}, {208, 442, 390}, {280, 442, 342}, {144, 420, 444}, {84, 445, 437}, {400, 195, 445}, {203, 396, 445}, {267, 356, 445}, {153, 420, 447}, {280, 449, 351}, {432, 450, 126}, {360, 450, 270}, {99, 451, 440}, {448, 452, 60}, {112, 441, 455}, {175, 420, 455}, {392, 231, 455}, {273, 364, 455}, {168, 457, 425}, {120, 442, 458}, {216, 459, 405}, {368, 460, 276}, {261, 380, 461}, {464, 336, 320}, {465, 372, 279}, {416, 210, 466}, {432, 180, 468}, {376, 282, 470}, {255, 396, 471}, {456, 475, 133}, {475, 380, 285}, {224, 420, 476}, {252, 477, 405}, {480, 288, 384}, {480, 481, 31}, {481, 156, 455}, {481, 185, 444}, {360, 481, 319}, {240, 418, 482}, {483, 44, 485}, {476, 93, 485}, {291, 388, 485}, {360, 325, 485}, {488, 480, 88}, {392, 490, 294}, {108, 480, 492}, {475, 132, 493}, {155, 468, 493}, {232, 435, 493}, {357, 340, 493}, {456, 190, 494}, {297, 396, 495}, {480, 140, 500}, {176, 468, 500}, {400, 500, 300}]\n"
     ]
    }
   ],
   "source": [
    "print(triples_under_1000)"
   ]
  },
  {
   "cell_type": "code",
   "execution_count": 83,
   "metadata": {
    "scrolled": true
   },
   "outputs": [
    {
     "name": "stdout",
     "output_type": "stream",
     "text": [
      "840\n",
      "8\n"
     ]
    }
   ],
   "source": [
    "## extracting solution\n",
    "max_p = 0\n",
    "max_triple_count = 0\n",
    "\n",
    "for triple_sum in triples_under_1000_dict.keys():\n",
    "    \n",
    "    if len(triples_under_1000_dict[triple_sum]) > max_triple_count:\n",
    "        \n",
    "        max_p = triple_sum \n",
    "        max_triple_count = len(triples_under_1000_dict[triple_sum])\n",
    "        \n",
    "print(max_p)\n",
    "print(max_triple_count)"
   ]
  },
  {
   "cell_type": "markdown",
   "metadata": {},
   "source": [
    "### Result: \n",
    "The faster brute force method that used less permutation-testing was faster by around one order of magnitude"
   ]
  },
  {
   "cell_type": "code",
   "execution_count": null,
   "metadata": {},
   "outputs": [],
   "source": []
  }
 ],
 "metadata": {
  "kernelspec": {
   "display_name": "Python 3",
   "language": "python",
   "name": "python3"
  },
  "language_info": {
   "codemirror_mode": {
    "name": "ipython",
    "version": 3
   },
   "file_extension": ".py",
   "mimetype": "text/x-python",
   "name": "python",
   "nbconvert_exporter": "python",
   "pygments_lexer": "ipython3",
   "version": "3.6.10"
  }
 },
 "nbformat": 4,
 "nbformat_minor": 4
}
