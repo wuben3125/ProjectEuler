{
 "cells": [
  {
   "cell_type": "markdown",
   "metadata": {},
   "source": [
    "# Digit fifth powers\n",
    "https://projecteuler.net/problem=30"
   ]
  },
  {
   "cell_type": "code",
   "execution_count": null,
   "metadata": {},
   "outputs": [],
   "source": []
  },
  {
   "cell_type": "markdown",
   "metadata": {},
   "source": [
    "# Planning"
   ]
  },
  {
   "cell_type": "markdown",
   "metadata": {},
   "source": [
    "## disorganized thoughts\n",
    "* \n",
    "* I should try to write as little as needed\n",
    "* \n",
    "* things like fencepost errors and redundnat calculations can be noted, but they aren'timportant\n",
    "* "
   ]
  },
  {
   "cell_type": "code",
   "execution_count": null,
   "metadata": {},
   "outputs": [],
   "source": []
  },
  {
   "cell_type": "markdown",
   "metadata": {},
   "source": [
    "# Work"
   ]
  },
  {
   "cell_type": "markdown",
   "metadata": {},
   "source": [
    "### Tinkering\n",
    "(note: the header sizes are inconsistent)"
   ]
  },
  {
   "cell_type": "code",
   "execution_count": 4,
   "metadata": {},
   "outputs": [
    {
     "data": {
      "text/plain": [
       "0"
      ]
     },
     "execution_count": 4,
     "metadata": {},
     "output_type": "execute_result"
    }
   ],
   "source": [
    "## casting float to int\n",
    "int(1/10)"
   ]
  },
  {
   "cell_type": "markdown",
   "metadata": {},
   "source": [
    "## [Implementation]"
   ]
  },
  {
   "cell_type": "code",
   "execution_count": 1,
   "metadata": {},
   "outputs": [
    {
     "name": "stdout",
     "output_type": "stream",
     "text": [
      "6\n"
     ]
    }
   ],
   "source": [
    "## find upper bound\n",
    "length = 1\n",
    "\n",
    "while 10**length < 9**5 * length:\n",
    "    length += 1\n",
    "    \n",
    "# upper bound is 10**length\n",
    "print(length)"
   ]
  },
  {
   "cell_type": "code",
   "execution_count": 5,
   "metadata": {},
   "outputs": [],
   "source": [
    "## function for digit power sum\n",
    "def digit_power_sum(x, power):\n",
    "#     sum = 0\n",
    "        #error found - used a keyword\n",
    "    power_sum = 0\n",
    "    \n",
    "    while x > 0:\n",
    "        power_sum += (x%10)**power #  last digit\n",
    "        x = int(x/10) ## shift down one digit\n",
    "        \n",
    "    return power_sum"
   ]
  },
  {
   "cell_type": "code",
   "execution_count": 6,
   "metadata": {},
   "outputs": [
    {
     "data": {
      "text/plain": [
       "1634"
      ]
     },
     "execution_count": 6,
     "metadata": {},
     "output_type": "execute_result"
    }
   ],
   "source": [
    "# testing\n",
    "digit_power_sum(1634, 4)\n",
    "    # I could read the error statement below, \n",
    "        # but I'm going to try to figure it out on my own"
   ]
  },
  {
   "cell_type": "markdown",
   "metadata": {},
   "source": [
    "### [final stretch of work]"
   ]
  },
  {
   "cell_type": "code",
   "execution_count": 7,
   "metadata": {},
   "outputs": [],
   "source": [
    "fifth_power_sums = []\n",
    "\n",
    "for x in range(2, 10**6): # 10**6 is upper bound\n",
    "    if x == digit_power_sum(x, 5):\n",
    "        fifth_power_sums.append(x)"
   ]
  },
  {
   "cell_type": "code",
   "execution_count": 9,
   "metadata": {},
   "outputs": [
    {
     "name": "stdout",
     "output_type": "stream",
     "text": [
      "[4150, 4151, 54748, 92727, 93084, 194979]\n"
     ]
    }
   ],
   "source": [
    "print(fifth_power_sums)"
   ]
  },
  {
   "cell_type": "markdown",
   "metadata": {},
   "source": [
    "# Solution"
   ]
  },
  {
   "cell_type": "code",
   "execution_count": 8,
   "metadata": {},
   "outputs": [
    {
     "name": "stdout",
     "output_type": "stream",
     "text": [
      "443839\n"
     ]
    }
   ],
   "source": [
    "print(sum(fifth_power_sums))"
   ]
  },
  {
   "cell_type": "markdown",
   "metadata": {},
   "source": [
    "# Learning\n",
    "* \n",
    "* (this isn't mandatory, is it?)\n",
    "    * even if it isn't there's still at least something I can write\n",
    "* \n",
    "* I don't have to adhere to previous conventions\n",
    "    * this might trip me up, but not in a big way\n",
    "    * stuff like file names should stay, though\n",
    "        * also, the basic stuff isn't hard to maintain\n",
    "            * file name\n",
    "            * problem header\n",
    "            * solution display\n",
    "            * (the rest is variable/aesthetic)\n",
    "            * \n",
    "* \n",
    "* "
   ]
  },
  {
   "cell_type": "code",
   "execution_count": null,
   "metadata": {},
   "outputs": [],
   "source": []
  }
 ],
 "metadata": {
  "kernelspec": {
   "display_name": "Python 3",
   "language": "python",
   "name": "python3"
  },
  "language_info": {
   "codemirror_mode": {
    "name": "ipython",
    "version": 3
   },
   "file_extension": ".py",
   "mimetype": "text/x-python",
   "name": "python",
   "nbconvert_exporter": "python",
   "pygments_lexer": "ipython3",
   "version": "3.6.5"
  }
 },
 "nbformat": 4,
 "nbformat_minor": 2
}
