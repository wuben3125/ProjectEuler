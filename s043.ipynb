{
 "cells": [
  {
   "cell_type": "markdown",
   "metadata": {},
   "source": [
    "# Substring divisibility\n",
    "Source:\n"
   ]
  },
  {
   "cell_type": "markdown",
   "metadata": {},
   "source": [
    "# Problem Statement\n",
    "The number, 1406357289, is a 0 to 9 pandigital number because it is made up of each of the digits 0 to 9 in some order, but it also has a rather interesting sub-string divisibility property.\n",
    "\n",
    "Let d1 be the 1st digit, d2 be the 2nd digit, and so on. In this way, we note the following:\n",
    "\n",
    "* d2d3d4=406 is divisible by 2\n",
    "* d3d4d5=063 is divisible by 3\n",
    "* d4d5d6=635 is divisible by 5\n",
    "* d5d6d7=357 is divisible by 7\n",
    "* d6d7d8=572 is divisible by 11\n",
    "* d7d8d9=728 is divisible by 13\n",
    "* d8d9d10=289 is divisible by 17\n",
    "\n",
    "Find the sum of all 0 to 9 pandigital numbers with this property."
   ]
  },
  {
   "cell_type": "markdown",
   "metadata": {},
   "source": [
    "# Planning\n",
    "Implement some kind of intelligent permutation process. The 6th digit is always 0 or 5, and the fourth digit is even. That reduces the number of possible values by an order of magnitude. Then, cancel the permutation generation if d_3,d_4,d_5 isn't a multiple of 3. "
   ]
  },
  {
   "cell_type": "code",
   "execution_count": null,
   "metadata": {},
   "outputs": [],
   "source": [
    "## tinkering\n",
    "five_digit_num = [-1, -1, -1, -1, -1]\n",
    "\n",
    "digits = [0, 1, 2, 3, 4]\n",
    "\n",
    "num_list = []\n",
    "\n",
    "# generate all possible combinations with a for loop\n",
    "for i in range(5):\n",
    "    digits_copy = digits.copy()\n",
    "    current_num = five_digit_num.copy()\n",
    "    \n",
    "    current_num[0] = digits_copy[i]\n",
    "    digits_copy.remove()\n",
    "    \n",
    "    for j in range(4):\n",
    "        \n",
    "        for k in range(3):\n",
    "            \n",
    "            for l in range(2):\n",
    "                \n",
    "                for m in range(1):"
   ]
  },
  {
   "cell_type": "code",
   "execution_count": 1,
   "metadata": {},
   "outputs": [],
   "source": [
    "## \n",
    "def factorial(n):\n",
    "    if n == 1:\n",
    "        return 1\n",
    "    else:\n",
    "        return n * factorial(n-1)"
   ]
  },
  {
   "cell_type": "code",
   "execution_count": 2,
   "metadata": {},
   "outputs": [],
   "source": [
    "for i in range(factorial(10)):\n",
    "    2 + 2"
   ]
  },
  {
   "cell_type": "code",
   "execution_count": 3,
   "metadata": {},
   "outputs": [
    {
     "name": "stdout",
     "output_type": "stream",
     "text": [
      "3628800\n"
     ]
    }
   ],
   "source": [
    "print(factorial(10))"
   ]
  },
  {
   "cell_type": "code",
   "execution_count": 4,
   "metadata": {},
   "outputs": [],
   "source": [
    "## note: the number is small enough to iterate over all permutations"
   ]
  },
  {
   "cell_type": "code",
   "execution_count": 16,
   "metadata": {},
   "outputs": [],
   "source": [
    "global permutation_list\n",
    "permutation_list = []\n",
    "\n",
    "def generate_permutations(digits, current_permutation):\n",
    "    \"\"\"\n",
    "    digits: list of ints\n",
    "    \n",
    "    current_permutation: list of ints\n",
    "    \n",
    "    generates and stores permutations in an external list\n",
    "    \"\"\"\n",
    "    \n",
    "    if len(digits) == 0:\n",
    "        permutation_list.append(current_permutation)\n",
    "    \n",
    "    else:\n",
    "        for digit in digits:\n",
    "            digits_copy = digits.copy()\n",
    "            current_perm_copy = current_permutation.copy()\n",
    "\n",
    "            digits_copy.remove(digit)\n",
    "            current_perm_copy.append(digit)\n",
    "\n",
    "            generate_permutations(digits_copy, current_perm_copy)"
   ]
  },
  {
   "cell_type": "code",
   "execution_count": 17,
   "metadata": {},
   "outputs": [],
   "source": [
    "import timeit"
   ]
  },
  {
   "cell_type": "code",
   "execution_count": 18,
   "metadata": {},
   "outputs": [
    {
     "name": "stdout",
     "output_type": "stream",
     "text": [
      "time elapsed: 15.268845420209896\n"
     ]
    }
   ],
   "source": [
    "start = timeit.default_timer()\n",
    "\n",
    "generate_permutations([9, 8, 7, 6, 5, 4, 3, 2, 1, 0], [])\n",
    "\n",
    "end = timeit.default_timer()\n",
    "\n",
    "print(f\"time elapsed: {end-start}\")"
   ]
  },
  {
   "cell_type": "code",
   "execution_count": 12,
   "metadata": {},
   "outputs": [],
   "source": [
    "def check_substring_divisibility(digit_list):\n",
    "    \"\"\"\n",
    "    digit_list: list of ints\n",
    "    \n",
    "    returns true if the following criteria are met:\n",
    "        d2d3d4 is divisible by 2\n",
    "        d3d4d5 is divisible by 3\n",
    "        d4d5d6 is divisible by 5\n",
    "        d5d6d7 is divisible by 7\n",
    "        d6d7d8 is divisible by 11\n",
    "        d7d8d9 is divisible by 13\n",
    "        d8d9d10 is divisible by 17\n",
    "        \n",
    "        (note: the above notation starts with idx 1, while below we start with 0)\n",
    "    \"\"\"\n",
    "    if digit_list[3] % 2 != 0: \n",
    "        return False\n",
    "    else:   \n",
    "        \n",
    "        if digit_list[5] % 5 != 0:\n",
    "            return False   \n",
    "        else:\n",
    "            \n",
    "            if (digit_list[2] + digit_list[3] + digit_list[4]) % 3 != 0:\n",
    "                return False \n",
    "            else:\n",
    "                \n",
    "                if (100*digit_list[4] + 10*digit_list[5] + digit_list[6]) % 7 != 0:\n",
    "                    return False\n",
    "                else:\n",
    "                    \n",
    "                    if (100*digit_list[5] + 10*digit_list[6] + digit_list[7]) % 11 != 0:\n",
    "                        return False\n",
    "                    else:\n",
    "                        \n",
    "                        if (100*digit_list[6] + 10*digit_list[7] + digit_list[8]) % 13 != 0:\n",
    "                            return False\n",
    "                        else:\n",
    "                            \n",
    "                            if (100*digit_list[7] + 10*digit_list[8] + digit_list[9]) % 17 != 0:\n",
    "                                return False\n",
    "               \n",
    "    # if all criteria are met\n",
    "    return True            "
   ]
  },
  {
   "cell_type": "code",
   "execution_count": 13,
   "metadata": {},
   "outputs": [
    {
     "name": "stdout",
     "output_type": "stream",
     "text": [
      "True\n"
     ]
    }
   ],
   "source": [
    "## test\n",
    "pandigital = 1406357289\n",
    "pandigital_list = [1, 4, 0, 6, 3, 5, 7, 2, 8, 9]\n",
    "\n",
    "print(check_substring_divisibility(pandigital_list))"
   ]
  },
  {
   "cell_type": "markdown",
   "metadata": {},
   "source": [
    "# Solution"
   ]
  },
  {
   "cell_type": "code",
   "execution_count": 19,
   "metadata": {},
   "outputs": [
    {
     "name": "stdout",
     "output_type": "stream",
     "text": [
      "Time elapsed: 1.2398912523083254\n"
     ]
    }
   ],
   "source": [
    "satisfied_pandigitals = []\n",
    "\n",
    "start = timeit.default_timer()\n",
    "\n",
    "for digit_permutation in permutation_list:\n",
    "    if check_substring_divisibility(digit_permutation):\n",
    "        satisfied_pandigitals.append(digit_permutation)\n",
    "        \n",
    "end = timeit.default_timer()\n",
    "\n",
    "print(f\"Time elapsed: {end-start}\")"
   ]
  },
  {
   "cell_type": "code",
   "execution_count": 20,
   "metadata": {},
   "outputs": [
    {
     "name": "stdout",
     "output_type": "stream",
     "text": [
      "[[4, 1, 6, 0, 3, 5, 7, 2, 8, 9], [4, 1, 3, 0, 9, 5, 2, 8, 6, 7], [4, 1, 0, 6, 3, 5, 7, 2, 8, 9], [1, 4, 6, 0, 3, 5, 7, 2, 8, 9], [1, 4, 3, 0, 9, 5, 2, 8, 6, 7], [1, 4, 0, 6, 3, 5, 7, 2, 8, 9]]\n"
     ]
    }
   ],
   "source": [
    "print(satisfied_pandigitals)"
   ]
  },
  {
   "cell_type": "code",
   "execution_count": 21,
   "metadata": {},
   "outputs": [],
   "source": [
    "def digits_to_int(digit_list):\n",
    "    \"\"\"\n",
    "    \n",
    "    returns an int\n",
    "    \"\"\"\n",
    "    \n",
    "    sum = 0\n",
    "    ten_power = 1\n",
    "    \n",
    "    for digit in digit_list[-1::-1]:\n",
    "        sum += ten_power * digit\n",
    "        \n",
    "        ten_power *= 10\n",
    "        \n",
    "    return sum"
   ]
  },
  {
   "cell_type": "code",
   "execution_count": 22,
   "metadata": {},
   "outputs": [
    {
     "data": {
      "text/plain": [
       "12345"
      ]
     },
     "execution_count": 22,
     "metadata": {},
     "output_type": "execute_result"
    }
   ],
   "source": [
    "# test \n",
    "digits_to_int([1,2,3,4,5])"
   ]
  },
  {
   "cell_type": "code",
   "execution_count": 23,
   "metadata": {},
   "outputs": [],
   "source": [
    "# convert list of digit lists to list of ints\n",
    "satisfied_pandigital_ints = [digits_to_int(pandigital) for pandigital in satisfied_pandigitals]"
   ]
  },
  {
   "cell_type": "code",
   "execution_count": 24,
   "metadata": {},
   "outputs": [
    {
     "name": "stdout",
     "output_type": "stream",
     "text": [
      "[4160357289, 4130952867, 4106357289, 1460357289, 1430952867, 1406357289]\n"
     ]
    }
   ],
   "source": [
    "print(satisfied_pandigital_ints)"
   ]
  },
  {
   "cell_type": "code",
   "execution_count": 25,
   "metadata": {
    "scrolled": true
   },
   "outputs": [
    {
     "data": {
      "text/plain": [
       "16695334890"
      ]
     },
     "execution_count": 25,
     "metadata": {},
     "output_type": "execute_result"
    }
   ],
   "source": [
    "# get sum for final answer\n",
    "sum(satisfied_pandigital_ints)"
   ]
  },
  {
   "cell_type": "markdown",
   "metadata": {},
   "source": []
  }
 ],
 "metadata": {
  "kernelspec": {
   "display_name": "Python 3",
   "language": "python",
   "name": "python3"
  },
  "language_info": {
   "codemirror_mode": {
    "name": "ipython",
    "version": 3
   },
   "file_extension": ".py",
   "mimetype": "text/x-python",
   "name": "python",
   "nbconvert_exporter": "python",
   "pygments_lexer": "ipython3",
   "version": "3.6.10"
  }
 },
 "nbformat": 4,
 "nbformat_minor": 4
}
