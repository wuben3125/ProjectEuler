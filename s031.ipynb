{
 "cells": [
  {
   "cell_type": "markdown",
   "metadata": {},
   "source": [
    "# Coin sums\n",
    "https://projecteuler.net/problem=31"
   ]
  },
  {
   "cell_type": "code",
   "execution_count": null,
   "metadata": {},
   "outputs": [],
   "source": []
  },
  {
   "cell_type": "markdown",
   "metadata": {},
   "source": [
    "# [Planning]\n",
    "## Disorganized thoughts\n",
    "* \n",
    "* I could use backtracking, or a less general solution\n",
    "*  \n",
    "* I don't want to lay out the markdown headers that are required in the readme, but should I?\n",
    "    * do I need to? \n",
    "    * \n",
    "* \n",
    "* I'm currently switching beteen this and another task\n",
    "    * I'm going to stop this (@9:42AM) and just focus on finishing this task for now \n",
    "*\n",
    "* When did I start looking ath this problem?\n",
    "    * ~9:27 AM\n",
    "        * is this something I should keep track of?\n",
    "            * is this data that'd benice to have in retrospect?\n",
    "    * \n",
    "    * \n",
    "    * \n",
    "* What are my goals ?\n",
    "    * \n",
    "    * (note: I didn't define thm before opening this, and now I'm scrambling to dfine them retroactively while I am still free to do so)\n",
    "    * \n",
    "    * to warm up for CSE 260\n",
    "    * \n",
    "    * (aded 10:--AM - ~~to just get a solution)~~ =)= to just get a solution\n",
    "    * \n",
    "*   \n",
    "* my fingers on the keyboard are sticky... \n",
    "* \n",
    "* (note: I should be able to pause and reconsider at any time (?))\n",
    "* \n",
    "* I firs=t created the blocks for Work and Soltion before starting to write anyting in the [Planning regarding problem] block=\n",
    "* \n",
    "* I'll give myself 5 minutes to just thinka bout this\n",
    "    * possibly to take a step back, since I might be missing a lot of things \n",
    "*\n",
    "* is it possible to use my mind as scratch paper \n",
    "* \n",
    "* I could go straight into trying to brute force th algorithm, but I might reconsider:\n",
    "    * \n",
    "    * It's not like there 's a real time contraint on me  - at least, I didn't have on in mind when I began\n",
    "    * \n",
    "    * Starting to swrite something isn't something that I can undo\n",
    "    * Would it hurt to try to write outmy idea in words?\n",
    "        * \n",
    "        * Would this be too \"time consuming\"?\n",
    "        * Would this be too \"bothersome\"?\n",
    "        * What if this was helpful to me now, and in the long run?\n",
    "        * \n",
    "        * Do I want to?\n",
    "        * \n",
    "    * \n",
    "* \n",
    "* Is it okay if I olook at other PE problem notebooks?\n",
    "    * \n",
    "    * Do I need to? \n",
    "    * \n",
    "* Between this and the other task that I was juggling earlier, which is more important?\n",
    "    * \n",
    "* \n",
    "* I am now going to set an arbitrary deadline for thsi, AND for the other task I was juggling, fo r 10:30AM\n",
    "    * yikes.\n",
    "    * \n",
    "    * In light of this specific goal, I've given up as of 10:19 AM\n",
    "        * I haven't given up on finishing the problem though\n",
    "    * \n",
    "*\n",
    "* Things done:\n",
    "    * Should I move this to learninig?\n",
    "    * \n",
    "* \n",
    "* note: seeing as I didn't prescribe for myself any tasks to copmlete after finishing, I'm going to close this file right now\n",
    "    * \n",
    "    * actually, it'snot like I need to\n",
    "    *  \n",
    "    * Maybe I'll come back here and reflect a bit...?\n",
    "    * \n",
    "    * There's nothing that I think I want to add, and probablynothing that a future version of myself would want to look back at anyways. Thus I close the file (11:41AM)\n",
    "    * \n",
    "* \n",
    "\n"
   ]
  },
  {
   "cell_type": "markdown",
   "metadata": {},
   "source": [
    "## [Planning regardigg problem]\n",
    "* \n",
    "* Honestly, I can just go with the brute force solution\n",
    "    * If I have time, I can go back and do the pretty one - the former might even help me out\n",
    "* \n",
    "\n"
   ]
  },
  {
   "cell_type": "markdown",
   "metadata": {},
   "source": [
    "### An outline in words:\n",
    "* (note: mayebe I don't need this  - maybe this might even pose an unecessary hindrance)\n",
    "    * no, but I imagine it'd help ~~(even if it doesn't seem like it)~~\n",
    "        * or at least, maybe I don't have to physically, but I should be able to (this is hard to test unless I actually do it physically) \n",
    "* \n",
    "\n",
    "#### The actual outlien:\n",
    "* intake a sorted ascending [lsit of currenci denoinatoins], and an [amount]\n",
    "* \n",
    "* == \n",
    "* use a list [running_amounts] to keep trck of things\n",
    "* \n",
    "* try out, starting with the buiggest ~~amount~~ entry in [list of currency denominations], the number of possible times it fits into the ~~[running_amount]~~ current entry in [running_amounts]\n",
    "    * keep going down until the smalest currency denomination, then check if the final [running_amounts][element number] is divisible - if so, increment a [counter] by 1\n",
    "* \n",
    "* return [counter]\n",
    "* \n",
    "* edit: maybe I shoudl do this recursively?\n",
    "    * I didn't fully think this through earlier... to expect myself to wing this coherently in a time window is probalby unrealistic...\n",
    "\n",
    "#### functions used:\n",
    "    * all in one big function\n",
    "* "
   ]
  },
  {
   "cell_type": "markdown",
   "metadata": {},
   "source": [
    "### A second try\n",
    "* \n",
    "* Note: I didn't outline here, I just coded \n",
    "*\n",
    "* I don't expect it to work on the first try, so I'llleave room in the rwork section for more revisions\n",
    "* "
   ]
  },
  {
   "cell_type": "markdown",
   "metadata": {},
   "source": [
    "# Work"
   ]
  },
  {
   "cell_type": "markdown",
   "metadata": {},
   "source": [
    "## tinkering"
   ]
  },
  {
   "cell_type": "code",
   "execution_count": 1,
   "metadata": {},
   "outputs": [
    {
     "name": "stdout",
     "output_type": "stream",
     "text": [
      "0\n",
      "1\n",
      "2\n"
     ]
    }
   ],
   "source": [
    "## using a for loop\n",
    "for i in range(3):\n",
    "    print(i)"
   ]
  },
  {
   "cell_type": "code",
   "execution_count": 4,
   "metadata": {},
   "outputs": [
    {
     "name": "stdout",
     "output_type": "stream",
     "text": [
      "200\n",
      "170\n",
      "140\n",
      "110\n",
      "80\n",
      "50\n",
      "20\n"
     ]
    }
   ],
   "source": [
    "## subtracting multiples of a number under another hnumber\n",
    "a = 200\n",
    "b = 30\n",
    "\n",
    "# for i in range( int(a/b) ):\n",
    "#     print( a - i*b )\n",
    "\n",
    "# edit: fencepost error\n",
    "\n",
    "for i in range( int(a/b) + 1):\n",
    "    print( a - i*b )\n",
    "    \n"
   ]
  },
  {
   "cell_type": "code",
   "execution_count": 7,
   "metadata": {},
   "outputs": [
    {
     "name": "stdout",
     "output_type": "stream",
     "text": [
      "sanity check here\n"
     ]
    }
   ],
   "source": [
    "## making a function\n",
    "def a_func(a_list, amount):\n",
    "#     # this might mimic something in the problem\n",
    "#     b_list = [0 for i in a_list]\n",
    "    \n",
    "#     for i in range(len(a_list)):\n",
    "#         print\n",
    "    print('sanity check here')\n",
    "\n",
    "# print(a_func)\n",
    "# a_func\n",
    "# a_func([1}, ])\n",
    "\n",
    "a_func([1], 1)\n",
    "\n"
   ]
  },
  {
   "cell_type": "markdown",
   "metadata": {},
   "source": [
    "## [problem work]"
   ]
  },
  {
   "cell_type": "code",
   "execution_count": null,
   "metadata": {},
   "outputs": [],
   "source": [
    "def count_makeups(coin_amounts_increasing, amount):\n",
    "    "
   ]
  },
  {
   "cell_type": "markdown",
   "metadata": {},
   "source": [
    "#### Another try (post-planning)"
   ]
  },
  {
   "cell_type": "code",
   "execution_count": null,
   "metadata": {},
   "outputs": [],
   "source": [
    "def count_makeups(denominations_increasing, amount):\n",
    "    counter = 0\n",
    "    running_amounts = [0 for i in len(denominations_increasing)]\n",
    "    \n",
    "    # instantiate\n",
    "    running_amounts[0] = amount\n",
    "    \n",
    "    ## another part I didn't fully plan out\n",
    "    for i in len(running_amounts):\n",
    "        \n",
    "        # number of possible \"fits\"\n",
    "        for j in range( int(running_amounts[i] / denominations_increasing[i]) + 1 ):\n",
    "            running_amounts[i+1] = running_amounts[i] - j*denominations_increasing[i]\n",
    "            \n",
    "            "
   ]
  },
  {
   "cell_type": "markdown",
   "metadata": {},
   "source": [
    "#### Using recurions"
   ]
  },
  {
   "cell_type": "code",
   "execution_count": 8,
   "metadata": {},
   "outputs": [],
   "source": [
    "def count_makeups(denominations_increasing, amount):\n",
    "    \n",
    "    ## variable names\n",
    "    running_amounts = [0 for i in len(denominations_increasing)]\n",
    "    counter = 0\n",
    "    \n",
    "    def can_make(denom_list, amount, index):\n",
    "        \n",
    "        #= =\n",
    "        counter = 0\n",
    "        \n",
    "        ## base case\n",
    "        if index==0:\n",
    "            if amount%denom_list[index] == 0:\n",
    "#                 return 1\n",
    "                counter += 1\n",
    "            else:\n",
    "#                 return 0\n",
    "                counter += 0\n",
    "        \n",
    "        ## inductive ~~step~~ case\n",
    "        else:\n",
    "            denom = denom_list[index]\n",
    "            \n",
    "            for multiple in range( int(amount/denom) + 1 ):\n",
    "                new_amount = amount - multiple*denom\n",
    "                \n",
    "#                 return can_make(denom_list, new_amount, index-1)\n",
    "                counter += can_make(denom_list, new_amount, index-1)\n",
    "        \n",
    "        return counter\n",
    "    \n",
    "    return can_make(denominations_increasing, amount, len(denominations_increasing)-1)"
   ]
  },
  {
   "cell_type": "code",
   "execution_count": 10,
   "metadata": {},
   "outputs": [
    {
     "ename": "TypeError",
     "evalue": "'int' object is not iterable",
     "output_type": "error",
     "traceback": [
      "\u001b[1;31m---------------------------------------------------------------------------\u001b[0m",
      "\u001b[1;31mTypeError\u001b[0m                                 Traceback (most recent call last)",
      "\u001b[1;32m<ipython-input-10-324e76ce5c0c>\u001b[0m in \u001b[0;36m<module>\u001b[1;34m()\u001b[0m\n\u001b[0;32m      4\u001b[0m \u001b[1;33m\u001b[0m\u001b[0m\n\u001b[0;32m      5\u001b[0m \u001b[1;31m# print(can_make(denominations_increasing, amount))\u001b[0m\u001b[1;33m\u001b[0m\u001b[1;33m\u001b[0m\u001b[0m\n\u001b[1;32m----> 6\u001b[1;33m \u001b[0mprint\u001b[0m\u001b[1;33m(\u001b[0m\u001b[0mcount_makeups\u001b[0m\u001b[1;33m(\u001b[0m\u001b[0mdenominations_increasing\u001b[0m\u001b[1;33m,\u001b[0m \u001b[0mamount\u001b[0m\u001b[1;33m)\u001b[0m\u001b[1;33m)\u001b[0m\u001b[1;33m\u001b[0m\u001b[0m\n\u001b[0m",
      "\u001b[1;32m<ipython-input-8-8bccc332b152>\u001b[0m in \u001b[0;36mcount_makeups\u001b[1;34m(denominations_increasing, amount)\u001b[0m\n\u001b[0;32m      2\u001b[0m \u001b[1;33m\u001b[0m\u001b[0m\n\u001b[0;32m      3\u001b[0m     \u001b[1;31m## variable names\u001b[0m\u001b[1;33m\u001b[0m\u001b[1;33m\u001b[0m\u001b[0m\n\u001b[1;32m----> 4\u001b[1;33m     \u001b[0mrunning_amounts\u001b[0m \u001b[1;33m=\u001b[0m \u001b[1;33m[\u001b[0m\u001b[1;36m0\u001b[0m \u001b[1;32mfor\u001b[0m \u001b[0mi\u001b[0m \u001b[1;32min\u001b[0m \u001b[0mlen\u001b[0m\u001b[1;33m(\u001b[0m\u001b[0mdenominations_increasing\u001b[0m\u001b[1;33m)\u001b[0m\u001b[1;33m]\u001b[0m\u001b[1;33m\u001b[0m\u001b[0m\n\u001b[0m\u001b[0;32m      5\u001b[0m     \u001b[0mcounter\u001b[0m \u001b[1;33m=\u001b[0m \u001b[1;36m0\u001b[0m\u001b[1;33m\u001b[0m\u001b[0m\n\u001b[0;32m      6\u001b[0m \u001b[1;33m\u001b[0m\u001b[0m\n",
      "\u001b[1;31mTypeError\u001b[0m: 'int' object is not iterable"
     ]
    }
   ],
   "source": [
    "### blind test\n",
    "denominations_increasing = [1, 2, 5, 10, 20, 50, 100,  200]\n",
    "amount = 200\n",
    "\n",
    "# print(can_make(denominations_increasing, amount))\n",
    "print(count_makeups(denominations_increasing, amount))"
   ]
  },
  {
   "cell_type": "markdown",
   "metadata": {},
   "source": [
    "### Revision 1"
   ]
  },
  {
   "cell_type": "code",
   "execution_count": 11,
   "metadata": {},
   "outputs": [],
   "source": [
    "def count_makeups(denominations_increasing, amount):\n",
    "    \n",
    "    ## variable names\n",
    "    running_amounts = [0 for i in range(len(denominations_increasing))]\n",
    "    counter = 0\n",
    "    \n",
    "    def can_make(denom_list, amount, index):\n",
    "        ## inner function\n",
    "        counter = 0\n",
    "        \n",
    "        ## base case\n",
    "        if index==0:\n",
    "            if amount%denom_list[index] == 0:\n",
    "                counter = 1\n",
    "            else:\n",
    "                counter = 0\n",
    "        \n",
    "        ## inductive case\n",
    "        else:\n",
    "            denom = denom_list[index]\n",
    "            \n",
    "            for multiple in range( int(amount/denom) + 1 ):\n",
    "                new_amount = amount - multiple*denom\n",
    "                counter += can_make(denom_list, new_amount, index-1)\n",
    "        \n",
    "        return counter\n",
    "    \n",
    "    return can_make(denominations_increasing, amount, len(denominations_increasing)-1)"
   ]
  },
  {
   "cell_type": "code",
   "execution_count": 12,
   "metadata": {},
   "outputs": [
    {
     "name": "stdout",
     "output_type": "stream",
     "text": [
      "73682\n"
     ]
    }
   ],
   "source": [
    "### blind test\n",
    "denominations_increasing = [1, 2, 5, 10, 20, 50, 100,  200]\n",
    "amount = 200\n",
    "\n",
    "# print(can_make(denominations_increasing, amount))\n",
    "print(count_makeups(denominations_increasing, amount))"
   ]
  },
  {
   "cell_type": "code",
   "execution_count": null,
   "metadata": {},
   "outputs": [],
   "source": []
  },
  {
   "cell_type": "markdown",
   "metadata": {},
   "source": [
    "# Solution"
   ]
  },
  {
   "cell_type": "code",
   "execution_count": 13,
   "metadata": {},
   "outputs": [
    {
     "name": "stdout",
     "output_type": "stream",
     "text": [
      "73682\n"
     ]
    }
   ],
   "source": [
    "denominations_increasing = [1, 2, 5, 10, 20, 50, 100,  200]\n",
    "amount = 200\n",
    "print(count_makeups(denominations_increasing, amount))"
   ]
  },
  {
   "cell_type": "markdown",
   "metadata": {},
   "source": [
    "# Learning\n",
    "* \n",
    "~~* (meta: perhaps it's possible for this to serve its function even if I create it later - not that!! ~~\n",
    "* \n",
    "* ## note: if I'm to get tripped up on basic stuff, I should get it out othe way rearlier\n",
    "    * extracted from another block\n",
    "* \n"
   ]
  }
 ],
 "metadata": {
  "kernelspec": {
   "display_name": "Python 3",
   "language": "python",
   "name": "python3"
  },
  "language_info": {
   "codemirror_mode": {
    "name": "ipython",
    "version": 3
   },
   "file_extension": ".py",
   "mimetype": "text/x-python",
   "name": "python",
   "nbconvert_exporter": "python",
   "pygments_lexer": "ipython3",
   "version": "3.6.5"
  }
 },
 "nbformat": 4,
 "nbformat_minor": 2
}
