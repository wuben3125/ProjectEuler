{
 "cells": [
  {
   "cell_type": "markdown",
   "metadata": {},
   "source": [
    "# Circular primes\n",
    "source: https://projecteuler.net/problem=35\n",
    "    (I almost forgot to include the source)"
   ]
  },
  {
   "cell_type": "markdown",
   "metadata": {},
   "source": [
    "# [Planning]\n",
    "* \n",
    "* Note: I forgot to write things out before implementing them (?)\n",
    "* \n",
    "* Post-tinkering outline:\n",
    "    * \n",
    "    * Generate all primes under 1000000 with []\n",
    "    * ~~instantiate an empty set []~~\n",
    "        * too specific?\n",
    "    * \n",
    "    * (note: I should have this fully formed in mind without the need to write it down)\n",
    "    * \n",
    "    * brute force check of each prime's circular numbers\n",
    "        * add to a set\n",
    "    * \n",
    "    * return size of set\n",
    "    * \n",
    "* \n",
    "\n",
    "#### Post-failing outline\n",
    "* \n",
    "* (I should take this more seriously)\n",
    "* \n",
    "* generate all primes under a million\n",
    "* check each prime for primality of all of its circles\n",
    "    * \n",
    "    * if satisfied, add all of the primes to a set\n",
    "    * \n",
    "* \n",
    "* return the set of primes\n",
    "* "
   ]
  },
  {
   "cell_type": "markdown",
   "metadata": {},
   "source": [
    "# Work"
   ]
  },
  {
   "cell_type": "markdown",
   "metadata": {},
   "source": [
    "## Tinkering"
   ]
  },
  {
   "cell_type": "code",
   "execution_count": 1,
   "metadata": {},
   "outputs": [],
   "source": [
    "### generate circular numbers\n",
    "def circular_numbers(num):\n",
    "    length = len(str(num))\n",
    "    \n",
    "    circles = [] # list to be returned\n",
    "    \n",
    "    for i in range(length):\n",
    "        last_digit = num%10\n",
    "        num = int(num/10) + 10**(length-1) * last_digit\n",
    "        circles.append(num)\n",
    "        \n",
    "    return circles"
   ]
  },
  {
   "cell_type": "code",
   "execution_count": 2,
   "metadata": {},
   "outputs": [
    {
     "data": {
      "text/plain": [
       "[15, 501, 150]"
      ]
     },
     "execution_count": 2,
     "metadata": {},
     "output_type": "execute_result"
    }
   ],
   "source": [
    "## testing - generic case\n",
    "circular_numbers(150)"
   ]
  },
  {
   "cell_type": "code",
   "execution_count": 4,
   "metadata": {},
   "outputs": [
    {
     "name": "stdout",
     "output_type": "stream",
     "text": [
      "[11111, 11111, 11111, 11111, 11111]\n",
      "[498766, 649876, 664987, 766498, 876649, 987664]\n"
     ]
    }
   ],
   "source": [
    "## testing - special cases\n",
    "# print(circular_numbers(010))\n",
    "print(circular_numbers(11111)) # I winged this\n",
    "print(circular_numbers(-12345))"
   ]
  },
  {
   "cell_type": "code",
   "execution_count": 9,
   "metadata": {
    "scrolled": false
   },
   "outputs": [
    {
     "name": "stdout",
     "output_type": "stream",
     "text": [
      "{123}\n",
      "123 in a_set: True\n",
      "234 in a_set: False\n"
     ]
    }
   ],
   "source": [
    "### using a set\n",
    "a_set = set()\n",
    "a_set.add(123)\n",
    "# print(set) # whoops\n",
    "print(a_set)\n",
    "\n",
    "### checking element in set\n",
    "# print('123 is in a_set:', 123 is in a_set)\n",
    "# print('123 in a_set:', (123 is in a_set))\n",
    "print('123 in a_set:', (123 in a_set))\n",
    "print(f'234 in a_set: {234 in a_set}')"
   ]
  },
  {
   "cell_type": "code",
   "execution_count": 10,
   "metadata": {},
   "outputs": [
    {
     "name": "stdout",
     "output_type": "stream",
     "text": [
      "true\n"
     ]
    }
   ],
   "source": [
    "### 0 and 1 as boolean values\n",
    "if 0:\n",
    "    print('false')\n",
    "\n",
    "if 1:\n",
    "    print('true')"
   ]
  },
  {
   "cell_type": "code",
   "execution_count": 19,
   "metadata": {},
   "outputs": [],
   "source": [
    "### generating primes\n",
    "def sieve_up_to_n(n):\n",
    "    prime_check_list = [1 for i in range(n + 1)]\n",
    "    primes = []\n",
    "        # index corresponds to potential prime\n",
    "        \n",
    "    # 0 and 1 are not prime\n",
    "    prime_check_list[0] = 0\n",
    "    prime_check_list[1] = 0\n",
    "        \n",
    "    for potential_prime in range(2, int(n**0.5) + 1):\n",
    "        \n",
    "        if prime_check_list[potential_prime]:\n",
    "            for number in range(potential_prime + 1, n+1):\n",
    "                if prime_check_list[potential_prime]: # == 1\n",
    "#                     if number%potential_prime:\n",
    "                    if number%potential_prime == 0:\n",
    "                    \n",
    "#                         prime_check_list[potential_prime] = 0 # uncheck\n",
    "                        prime_check_list[number] = 0\n",
    "    \n",
    "    for i in range(len(prime_check_list)):\n",
    "        if prime_check_list[i]:\n",
    "#             primes.append(prime_check_list[i])\n",
    "            primes.append(i) # index corresponds to prime\n",
    "            \n",
    "    return primes"
   ]
  },
  {
   "cell_type": "code",
   "execution_count": 12,
   "metadata": {
    "collapsed": true
   },
   "outputs": [
    {
     "data": {
      "text/plain": [
       "[1,\n",
       " 1,\n",
       " 1,\n",
       " 1,\n",
       " 1,\n",
       " 1,\n",
       " 1,\n",
       " 1,\n",
       " 1,\n",
       " 1,\n",
       " 1,\n",
       " 1,\n",
       " 1,\n",
       " 1,\n",
       " 1,\n",
       " 1,\n",
       " 1,\n",
       " 1,\n",
       " 1,\n",
       " 1,\n",
       " 1,\n",
       " 1,\n",
       " 1,\n",
       " 1,\n",
       " 1,\n",
       " 1,\n",
       " 1,\n",
       " 1,\n",
       " 1,\n",
       " 1,\n",
       " 1,\n",
       " 1,\n",
       " 1,\n",
       " 1,\n",
       " 1,\n",
       " 1,\n",
       " 1,\n",
       " 1,\n",
       " 1,\n",
       " 1,\n",
       " 1,\n",
       " 1,\n",
       " 1,\n",
       " 1,\n",
       " 1,\n",
       " 1,\n",
       " 1,\n",
       " 1,\n",
       " 1,\n",
       " 1,\n",
       " 1,\n",
       " 1,\n",
       " 1,\n",
       " 1,\n",
       " 1,\n",
       " 1,\n",
       " 1,\n",
       " 1,\n",
       " 1,\n",
       " 1,\n",
       " 1,\n",
       " 1,\n",
       " 1,\n",
       " 1,\n",
       " 1,\n",
       " 1,\n",
       " 1,\n",
       " 1,\n",
       " 1,\n",
       " 1,\n",
       " 1,\n",
       " 1,\n",
       " 1,\n",
       " 1,\n",
       " 1,\n",
       " 1,\n",
       " 1,\n",
       " 1,\n",
       " 1,\n",
       " 1,\n",
       " 1,\n",
       " 1,\n",
       " 1,\n",
       " 1,\n",
       " 1,\n",
       " 1,\n",
       " 1,\n",
       " 1,\n",
       " 1,\n",
       " 1]"
      ]
     },
     "execution_count": 12,
     "metadata": {},
     "output_type": "execute_result"
    }
   ],
   "source": [
    "## testing - general case\n",
    "sieve_up_to_n(100) # erorr discoevered"
   ]
  },
  {
   "cell_type": "code",
   "execution_count": 15,
   "metadata": {
    "collapsed": true
   },
   "outputs": [
    {
     "data": {
      "text/plain": [
       "[11,\n",
       " 12,\n",
       " 13,\n",
       " 14,\n",
       " 15,\n",
       " 16,\n",
       " 17,\n",
       " 18,\n",
       " 19,\n",
       " 20,\n",
       " 21,\n",
       " 22,\n",
       " 23,\n",
       " 24,\n",
       " 25,\n",
       " 26,\n",
       " 27,\n",
       " 28,\n",
       " 29,\n",
       " 30,\n",
       " 31,\n",
       " 32,\n",
       " 33,\n",
       " 34,\n",
       " 35,\n",
       " 36,\n",
       " 37,\n",
       " 38,\n",
       " 39,\n",
       " 40,\n",
       " 41,\n",
       " 42,\n",
       " 43,\n",
       " 44,\n",
       " 45,\n",
       " 46,\n",
       " 47,\n",
       " 48,\n",
       " 49,\n",
       " 50,\n",
       " 51,\n",
       " 52,\n",
       " 53,\n",
       " 54,\n",
       " 55,\n",
       " 56,\n",
       " 57,\n",
       " 58,\n",
       " 59,\n",
       " 60,\n",
       " 61,\n",
       " 62,\n",
       " 63,\n",
       " 64,\n",
       " 65,\n",
       " 66,\n",
       " 67,\n",
       " 68,\n",
       " 69,\n",
       " 70,\n",
       " 71,\n",
       " 72,\n",
       " 73,\n",
       " 74,\n",
       " 75,\n",
       " 76,\n",
       " 77,\n",
       " 78,\n",
       " 79,\n",
       " 80,\n",
       " 81,\n",
       " 82,\n",
       " 83,\n",
       " 84,\n",
       " 85,\n",
       " 86,\n",
       " 87,\n",
       " 88,\n",
       " 89,\n",
       " 90,\n",
       " 91,\n",
       " 92,\n",
       " 93,\n",
       " 94,\n",
       " 95,\n",
       " 96,\n",
       " 97,\n",
       " 98,\n",
       " 99,\n",
       " 100]"
      ]
     },
     "execution_count": 15,
     "metadata": {},
     "output_type": "execute_result"
    }
   ],
   "source": [
    "## testing - general case\n",
    "sieve_up_to_n(100) # error"
   ]
  },
  {
   "cell_type": "code",
   "execution_count": 18,
   "metadata": {
    "collapsed": true
   },
   "outputs": [
    {
     "data": {
      "text/plain": [
       "[8,\n",
       " 9,\n",
       " 10,\n",
       " 11,\n",
       " 12,\n",
       " 13,\n",
       " 14,\n",
       " 15,\n",
       " 16,\n",
       " 17,\n",
       " 18,\n",
       " 19,\n",
       " 20,\n",
       " 21,\n",
       " 22,\n",
       " 23,\n",
       " 24,\n",
       " 25,\n",
       " 26,\n",
       " 27,\n",
       " 28,\n",
       " 29,\n",
       " 30,\n",
       " 31,\n",
       " 32,\n",
       " 33,\n",
       " 34,\n",
       " 35,\n",
       " 36,\n",
       " 37,\n",
       " 38,\n",
       " 39,\n",
       " 40,\n",
       " 41,\n",
       " 42,\n",
       " 43,\n",
       " 44,\n",
       " 45,\n",
       " 46,\n",
       " 47,\n",
       " 48,\n",
       " 49,\n",
       " 50]"
      ]
     },
     "execution_count": 18,
     "metadata": {},
     "output_type": "execute_result"
    }
   ],
   "source": [
    "## testing - general case\n",
    "sieve_up_to_n(50) # error"
   ]
  },
  {
   "cell_type": "code",
   "execution_count": 20,
   "metadata": {},
   "outputs": [
    {
     "data": {
      "text/plain": [
       "[2, 3, 5, 7, 11, 13, 17, 19, 23, 29, 31, 37, 41, 43, 47]"
      ]
     },
     "execution_count": 20,
     "metadata": {},
     "output_type": "execute_result"
    }
   ],
   "source": [
    "## testing - general case\n",
    "sieve_up_to_n(50)"
   ]
  },
  {
   "cell_type": "code",
   "execution_count": 28,
   "metadata": {},
   "outputs": [
    {
     "data": {
      "text/plain": [
       "[2, 3, 5, 7, 11, 13]"
      ]
     },
     "execution_count": 28,
     "metadata": {},
     "output_type": "execute_result"
    }
   ],
   "source": [
    "## testing - corner case\n",
    "sieve_up_to_n(13)"
   ]
  },
  {
   "cell_type": "code",
   "execution_count": 16,
   "metadata": {},
   "outputs": [],
   "source": [
    "### conditional on modulus with no equality\n",
    "if 5%5:\n",
    "    print('true')"
   ]
  },
  {
   "cell_type": "code",
   "execution_count": 21,
   "metadata": {},
   "outputs": [],
   "source": [
    "### binary serach\n",
    "def binary_search(ascending_list, target):\n",
    "    low = 0\n",
    "    high = len(ascending_list) - 1\n",
    "    \n",
    "    while low < high:\n",
    "        mid = int((low+high)/2)\n",
    "        \n",
    "        if ascending_list[mid] == target:\n",
    "            return True\n",
    "        elif ascending_list[mid] < target: # too low\n",
    "            low = mid + 1\n",
    "        else: # too high\n",
    "            high = mid\n",
    "            \n",
    "    ## element not contained\n",
    "    return False"
   ]
  },
  {
   "cell_type": "code",
   "execution_count": 22,
   "metadata": {},
   "outputs": [
    {
     "data": {
      "text/plain": [
       "True"
      ]
     },
     "execution_count": 22,
     "metadata": {},
     "output_type": "execute_result"
    }
   ],
   "source": [
    "## testing: general case\n",
    "binary_search([1,2,3,4,5], 3)"
   ]
  },
  {
   "cell_type": "code",
   "execution_count": 23,
   "metadata": {},
   "outputs": [
    {
     "data": {
      "text/plain": [
       "False"
      ]
     },
     "execution_count": 23,
     "metadata": {},
     "output_type": "execute_result"
    }
   ],
   "source": [
    "## testing: negative case\n",
    "binary_search([1,2,3,4,5], 0)"
   ]
  },
  {
   "cell_type": "code",
   "execution_count": 24,
   "metadata": {},
   "outputs": [
    {
     "data": {
      "text/plain": [
       "False"
      ]
     },
     "execution_count": 24,
     "metadata": {},
     "output_type": "execute_result"
    }
   ],
   "source": [
    "## testing - corner case\n",
    "binary_search([], 7)"
   ]
  },
  {
   "cell_type": "code",
   "execution_count": 33,
   "metadata": {},
   "outputs": [],
   "source": [
    "# ### check primalirty of all circles\n",
    "# def all_circles_prime(p)\n",
    "\n",
    "# actually, no need"
   ]
  },
  {
   "cell_type": "markdown",
   "metadata": {},
   "source": [
    "## Solving"
   ]
  },
  {
   "cell_type": "markdown",
   "metadata": {},
   "source": [
    "#### [Disparate]"
   ]
  },
  {
   "cell_type": "code",
   "execution_count": 26,
   "metadata": {},
   "outputs": [],
   "source": [
    "## using binary search\n",
    "# primes_under_million = sieve_under_n(1000000)\n",
    "primes_under_million = sieve_up_to_n(1000000)\n",
    "circular_primes = set()\n",
    "\n",
    "for prime in primes_under_million:\n",
    "    circle_list = circular_numbers(prime)\n",
    "    for circle in circle_list:\n",
    "#         if circle in primes_under_million: # note: \n",
    "        if binary_search(primes_under_million, circle):\n",
    "            circular_primes.add(circle)"
   ]
  },
  {
   "cell_type": "code",
   "execution_count": 27,
   "metadata": {},
   "outputs": [
    {
     "name": "stdout",
     "output_type": "stream",
     "text": [
      "78497\n"
     ]
    }
   ],
   "source": [
    "print(len(circular_primes))\n",
    "## note: solution incorrect\n",
    "    # I was about to check again, but..."
   ]
  },
  {
   "cell_type": "markdown",
   "metadata": {},
   "source": [
    "#### [Functionized]"
   ]
  },
  {
   "cell_type": "code",
   "execution_count": 31,
   "metadata": {},
   "outputs": [],
   "source": [
    "def count_circular_primes_under_n(n):\n",
    "#     primes_under_million = sieve_up_to_n(1000000)\n",
    "    primes_under_n = sieve_up_to_n(n)\n",
    "    circular_primes = set()\n",
    "\n",
    "    for prime in primes_under_n:\n",
    "        circle_list = circular_numbers(prime)\n",
    "        for circle in circle_list:\n",
    "            if binary_search(primes_under_n, circle):\n",
    "                circular_primes.add(circle)\n",
    "            \n",
    "    return len(circular_primes)"
   ]
  },
  {
   "cell_type": "code",
   "execution_count": 32,
   "metadata": {},
   "outputs": [
    {
     "data": {
      "text/plain": [
       "24"
      ]
     },
     "execution_count": 32,
     "metadata": {},
     "output_type": "execute_result"
    }
   ],
   "source": [
    "### testing on example\n",
    "count_circular_primes_under_n(100)\n",
    "    # aha! I was missing a crux here..."
   ]
  },
  {
   "cell_type": "markdown",
   "metadata": {},
   "source": [
    "#### Edited"
   ]
  },
  {
   "cell_type": "code",
   "execution_count": 34,
   "metadata": {},
   "outputs": [],
   "source": [
    "def count_circular_primes_under_n(n):\n",
    "#     primes_under_million = sieve_up_to_n(1000000)\n",
    "    primes_under_n = sieve_up_to_n(n)\n",
    "    circular_primes = set()\n",
    "\n",
    "    for prime in primes_under_n:\n",
    "        circle_list = circular_numbers(prime)\n",
    "        \n",
    "        all_circles_prime = True # check flag\n",
    "        \n",
    "        for circle in circle_list:\n",
    "            \n",
    "#             all_circles_prime = True\n",
    "            \n",
    "            if not binary_search(primes_under_n, circle):\n",
    "                all_circles_prime = False\n",
    "                break\n",
    "                \n",
    "#             if all_circles_prime:\n",
    "#                 for prime in \n",
    "        if all_circles_prime:\n",
    "            for circle in circle_list:\n",
    "                circular_primes.add(circle)\n",
    "                \n",
    "            \n",
    "    return len(circular_primes)"
   ]
  },
  {
   "cell_type": "markdown",
   "metadata": {},
   "source": [
    "# Solution"
   ]
  },
  {
   "cell_type": "code",
   "execution_count": 35,
   "metadata": {},
   "outputs": [
    {
     "name": "stdout",
     "output_type": "stream",
     "text": [
      "primes under 1000000: 55\n",
      "Time elapsed: 20.84424691872158\n"
     ]
    }
   ],
   "source": [
    "import timeit\n",
    "\n",
    "start = timeit.default_timer()\n",
    "\n",
    "print(f\"primes under {1000000}:\", end=' ') \n",
    "print(count_circular_primes_under_n(1000000))\n",
    "\n",
    "end = timeit.default_timer()\n",
    "\n",
    "print(f\"Time elapsed: {end-start}\")"
   ]
  },
  {
   "cell_type": "markdown",
   "metadata": {},
   "source": [
    "# Learning\n",
    "* \n",
    "* I assumed I knew the sieve of Eratosthenes well, but I didn't\n",
    "* \n",
    "* My variable names are a bit ambiguous\n",
    "* \n",
    "* It's good to take pauses to confirm understanding\n",
    "    * \n",
    "    * \n",
    "* \n",
    "* This time I implicitly assumed that I'd be correct...\n",
    "    * I should really take the planning step more seriously\n",
    "        * \n",
    "        * For a more serious problem, the kind of damage done by failing stupidly the first time may be...\n",
    "        * \n",
    "* \n",
    "* "
   ]
  },
  {
   "cell_type": "code",
   "execution_count": null,
   "metadata": {},
   "outputs": [],
   "source": []
  }
 ],
 "metadata": {
  "kernelspec": {
   "display_name": "Python 3",
   "language": "python",
   "name": "python3"
  },
  "language_info": {
   "codemirror_mode": {
    "name": "ipython",
    "version": 3
   },
   "file_extension": ".py",
   "mimetype": "text/x-python",
   "name": "python",
   "nbconvert_exporter": "python",
   "pygments_lexer": "ipython3",
   "version": "3.6.5"
  }
 },
 "nbformat": 4,
 "nbformat_minor": 2
}
