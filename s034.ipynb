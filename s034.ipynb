{
 "cells": [
  {
   "cell_type": "markdown",
   "metadata": {},
   "source": [
    "# Digit factorials\n",
    "Source: https://projecteuler.net/problem=34"
   ]
  },
  {
   "cell_type": "markdown",
   "metadata": {},
   "source": [
    "# [Planning]"
   ]
  },
  {
   "cell_type": "markdown",
   "metadata": {},
   "source": [
    "## Outline\n",
    "* \n",
    "* Find [upper bound] for numbers to test\n",
    "    * \n",
    "    * This is where even the greatest possible factorial sum (9! repeated) is smaller than the power of 10 \n",
    "    * \n",
    "* \n",
    "* For each number from 3 to [upper bound], find the digit_factorial_sum()\n",
    "    * If equal, add to [a list]\n",
    "* \n",
    "* sum entries in [a list], return\n",
    "* "
   ]
  },
  {
   "cell_type": "markdown",
   "metadata": {},
   "source": [
    "## Functions needed\n",
    "(note: is this good practice? Or just aesthetic?)\n",
    "* \n",
    "* factorial(n)\n",
    "* digit_factorial_sum(n)\n",
    "* \n",
    "* \n",
    "* "
   ]
  },
  {
   "cell_type": "markdown",
   "metadata": {},
   "source": [
    "# [Work]"
   ]
  },
  {
   "cell_type": "markdown",
   "metadata": {},
   "source": [
    "## Tinkering\n",
    "(Note: this is to warm up basic Python that I might take for granted)"
   ]
  },
  {
   "cell_type": "code",
   "execution_count": 1,
   "metadata": {},
   "outputs": [
    {
     "name": "stdout",
     "output_type": "stream",
     "text": [
      "hello world\n"
     ]
    }
   ],
   "source": [
    "## print 'hello world'\n",
    "print('hello world')"
   ]
  },
  {
   "cell_type": "code",
   "execution_count": 2,
   "metadata": {},
   "outputs": [
    {
     "data": {
      "text/plain": [
       "6"
      ]
     },
     "execution_count": 2,
     "metadata": {},
     "output_type": "execute_result"
    }
   ],
   "source": [
    "## sum entries in a lsit\n",
    "sum([1,2,3])"
   ]
  },
  {
   "cell_type": "code",
   "execution_count": null,
   "metadata": {},
   "outputs": [],
   "source": []
  },
  {
   "cell_type": "markdown",
   "metadata": {},
   "source": [
    "## [solution work]"
   ]
  },
  {
   "cell_type": "markdown",
   "metadata": {},
   "source": [
    "### Functions"
   ]
  },
  {
   "cell_type": "code",
   "execution_count": 9,
   "metadata": {},
   "outputs": [],
   "source": [
    "def factorial(n):\n",
    "    # room for extraneous type checking\n",
    "    \n",
    "    if n<= 1: return 1\n",
    "    \n",
    "    else:\n",
    "        fac = 1\n",
    "#         while(n > 2):\n",
    "        while(n > 1):\n",
    "            fac *= n\n",
    "            n -= 1\n",
    "        \n",
    "        return fac"
   ]
  },
  {
   "cell_type": "code",
   "execution_count": 10,
   "metadata": {},
   "outputs": [
    {
     "data": {
      "text/plain": [
       "362880"
      ]
     },
     "execution_count": 10,
     "metadata": {},
     "output_type": "execute_result"
    }
   ],
   "source": [
    "## testing\n",
    "factorial(9)"
   ]
  },
  {
   "cell_type": "code",
   "execution_count": 11,
   "metadata": {},
   "outputs": [
    {
     "data": {
      "text/plain": [
       "120"
      ]
     },
     "execution_count": 11,
     "metadata": {},
     "output_type": "execute_result"
    }
   ],
   "source": [
    "## easier testing\n",
    "factorial(5)"
   ]
  },
  {
   "cell_type": "code",
   "execution_count": 6,
   "metadata": {},
   "outputs": [],
   "source": [
    "def digit_factorial_sum(n):\n",
    "    ## assumes n is a positive int\n",
    "#     sum =  # yikes, keyword\n",
    "    \n",
    "    d_f_sum = 0\n",
    "    \n",
    "    while(n > 0):\n",
    "        digit = n%10\n",
    "        d_f_sum += factorial(digit)\n",
    "        \n",
    "        n = int(n/10)\n",
    "        \n",
    "    return d_f_sum"
   ]
  },
  {
   "cell_type": "code",
   "execution_count": 7,
   "metadata": {},
   "outputs": [
    {
     "data": {
      "text/plain": [
       "73"
      ]
     },
     "execution_count": 7,
     "metadata": {},
     "output_type": "execute_result"
    }
   ],
   "source": [
    "## testing\n",
    "digit_factorial_sum(145)\n",
    "# hmmm, error"
   ]
  },
  {
   "cell_type": "code",
   "execution_count": 12,
   "metadata": {},
   "outputs": [
    {
     "data": {
      "text/plain": [
       "145"
      ]
     },
     "execution_count": 12,
     "metadata": {},
     "output_type": "execute_result"
    }
   ],
   "source": [
    "## testing\n",
    "digit_factorial_sum(145)"
   ]
  },
  {
   "cell_type": "markdown",
   "metadata": {},
   "source": [
    "### Finding upper bound"
   ]
  },
  {
   "cell_type": "code",
   "execution_count": 5,
   "metadata": {},
   "outputs": [
    {
     "name": "stdout",
     "output_type": "stream",
     "text": [
      "7\n"
     ]
    }
   ],
   "source": [
    "ten_power = 1\n",
    "\n",
    "while(10**ten_power < ten_power*factorial(9)):\n",
    "    ten_power += 1\n",
    "    \n",
    "print(ten_power)"
   ]
  },
  {
   "cell_type": "code",
   "execution_count": 13,
   "metadata": {},
   "outputs": [
    {
     "name": "stdout",
     "output_type": "stream",
     "text": [
      "Upper bound is 10000000\n"
     ]
    }
   ],
   "source": [
    "## after corrected fencepost error\n",
    "ten_power = 1\n",
    "\n",
    "while(10**ten_power < ten_power*factorial(9)):\n",
    "    ten_power += 1\n",
    "    \n",
    "print('Upper bound is', 10**ten_power)"
   ]
  },
  {
   "cell_type": "markdown",
   "metadata": {},
   "source": [
    "### [pipeline]"
   ]
  },
  {
   "cell_type": "code",
   "execution_count": 14,
   "metadata": {},
   "outputs": [],
   "source": [
    "equal_list = [] # bad name, not preplanned\n",
    "for i in range(3, 10000000):\n",
    "    if i == digit_factorial_sum(i):\n",
    "        equal_list.append(i)\n",
    "        \n"
   ]
  },
  {
   "cell_type": "code",
   "execution_count": 15,
   "metadata": {},
   "outputs": [
    {
     "name": "stdout",
     "output_type": "stream",
     "text": [
      "[145, 40585]\n"
     ]
    }
   ],
   "source": [
    "print(equal_list)"
   ]
  },
  {
   "cell_type": "markdown",
   "metadata": {},
   "source": [
    "# Solution"
   ]
  },
  {
   "cell_type": "code",
   "execution_count": 16,
   "metadata": {},
   "outputs": [
    {
     "data": {
      "text/plain": [
       "40730"
      ]
     },
     "execution_count": 16,
     "metadata": {},
     "output_type": "execute_result"
    }
   ],
   "source": [
    "sum(equal_list)"
   ]
  },
  {
   "cell_type": "markdown",
   "metadata": {},
   "source": [
    "# Learning\n",
    "* \n",
    "* If I stored this all in my head, I could've finished the problem in under 5 minutes, probably\n",
    "* \n",
    "* The errors that I made were totally trivial\n",
    "    * \n",
    "    * I shouldn't have needed to look back and my written planning, and go back to edit my functions\n",
    "        * \n",
    "        * - or perhaps this is something I should expect?\n",
    "        * \n",
    "    * \n",
    "* \n",
    "* I could've done this faster, but I didn't have that in mind\n",
    "    * \n",
    "    * \n",
    "    *\n",
    "* \n",
    "* Tips for next time:\n",
    "    * \n",
    "    * Actually, maybe I have none. We'll see if the habits I'm cultivating turn out to be detrimental later on...\n",
    "    * \n",
    "* \n",
    "* Time taken:\n",
    "    * S: ~9AM\n",
    "    * E: 9:22 AM\n",
    "    * \n",
    "* "
   ]
  },
  {
   "cell_type": "code",
   "execution_count": null,
   "metadata": {},
   "outputs": [],
   "source": []
  }
 ],
 "metadata": {
  "kernelspec": {
   "display_name": "Python 3",
   "language": "python",
   "name": "python3"
  },
  "language_info": {
   "codemirror_mode": {
    "name": "ipython",
    "version": 3
   },
   "file_extension": ".py",
   "mimetype": "text/x-python",
   "name": "python",
   "nbconvert_exporter": "python",
   "pygments_lexer": "ipython3",
   "version": "3.6.5"
  }
 },
 "nbformat": 4,
 "nbformat_minor": 2
}
