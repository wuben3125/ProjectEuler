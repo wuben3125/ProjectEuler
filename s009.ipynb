{
 "cells": [
  {
   "cell_type": "markdown",
   "metadata": {},
   "source": [
    "# Special Pythagorean Triplet\n",
    "source: https://projecteuler.net/problem=9"
   ]
  },
  {
   "cell_type": "markdown",
   "metadata": {},
   "source": [
    "## Problem Statement\n",
    "there is exactly one triplet of a, b, c s.t. \n",
    "\n",
    "$ a^2 + b^2 = c^2 $\n",
    "and \n",
    "$ a+b+c = 1000 $  \n",
    "\n",
    "Find it, and then find their product"
   ]
  },
  {
   "cell_type": "markdown",
   "metadata": {},
   "source": [
    "## Planning\n",
    "Use brute-force enumeration, but make it slightly smarter.\n",
    "\n",
    "Use the sum constraint to limit computation for guesses.\n",
    "\n",
    "Use the triangle inequality to limit computation further.\n",
    "\n",
    "Reduce computation by half again by avoiding swaps of a and b.\n",
    "\n",
    "Stop the program as soon as the pythagorean theorem is satisfied"
   ]
  },
  {
   "cell_type": "markdown",
   "metadata": {},
   "source": [
    "## [work]\n"
   ]
  },
  {
   "cell_type": "code",
   "execution_count": 5,
   "metadata": {},
   "outputs": [
    {
     "name": "stdout",
     "output_type": "stream",
     "text": [
      "Triplet:  (200, 375, 425)\n",
      "Triplet:  (375, 200, 425)\n",
      "Triplet:  (0, 500, 500)\n"
     ]
    }
   ],
   "source": [
    "# c can't be larger than 500\n",
    "\n",
    "# a will be less than (500-c)/2, b will be more than (500-c)/2\n",
    "\n",
    "for c in range(1000):\n",
    "    for a in range(1000 - c):\n",
    "        b = 1000 - a -c \n",
    "        \n",
    "        if a**2 + b**2 == c**2:\n",
    "            print(\"Triplet: \", (a,b,c))"
   ]
  },
  {
   "cell_type": "markdown",
   "metadata": {},
   "source": [
    "## Solution\n",
    "~~200 * 375 * 425~~"
   ]
  },
  {
   "cell_type": "code",
   "execution_count": 6,
   "metadata": {},
   "outputs": [
    {
     "data": {
      "text/plain": [
       "31875000"
      ]
     },
     "execution_count": 6,
     "metadata": {},
     "output_type": "execute_result"
    }
   ],
   "source": [
    "200 * 375 * 425"
   ]
  },
  {
   "cell_type": "markdown",
   "metadata": {},
   "source": [
    "## Learning\n",
    "I should spend more time on this if I want to work smoother"
   ]
  },
  {
   "cell_type": "code",
   "execution_count": null,
   "metadata": {},
   "outputs": [],
   "source": []
  }
 ],
 "metadata": {
  "kernelspec": {
   "display_name": "Python 3",
   "language": "python",
   "name": "python3"
  },
  "language_info": {
   "codemirror_mode": {
    "name": "ipython",
    "version": 3
   },
   "file_extension": ".py",
   "mimetype": "text/x-python",
   "name": "python",
   "nbconvert_exporter": "python",
   "pygments_lexer": "ipython3",
   "version": "3.6.5"
  }
 },
 "nbformat": 4,
 "nbformat_minor": 2
}
