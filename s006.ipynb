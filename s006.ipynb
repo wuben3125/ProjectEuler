{
 "cells": [
  {
   "cell_type": "code",
   "execution_count": null,
   "metadata": {},
   "outputs": [],
   "source": [
    "# note: seeing as I'm rusty, I think the completion\n",
    "    # of the problem is more important than any fancy organization\n",
    "# date: 8/20/19"
   ]
  },
  {
   "cell_type": "markdown",
   "metadata": {},
   "source": [
    "# Sum Square Difference\n",
    "Source: https://projecteuler.net/problem=6"
   ]
  },
  {
   "cell_type": "markdown",
   "metadata": {},
   "source": [
    "## Problem Statement\n",
    "Find the difference of the squares of the sum of the first one hundred natural numbers and the sum of their squares"
   ]
  },
  {
   "cell_type": "code",
   "execution_count": null,
   "metadata": {},
   "outputs": [],
   "source": []
  },
  {
   "cell_type": "markdown",
   "metadata": {},
   "source": [
    "## Planning\n",
    "Just wing it - it's okay if it turns out nasty"
   ]
  },
  {
   "cell_type": "markdown",
   "metadata": {},
   "source": [
    "## [work+solution]"
   ]
  },
  {
   "cell_type": "code",
   "execution_count": 1,
   "metadata": {},
   "outputs": [
    {
     "name": "stdout",
     "output_type": "stream",
     "text": [
      "Difference = 25164150\n"
     ]
    }
   ],
   "source": [
    "sum_of_squares = 0\n",
    "square_of_sum = 0\n",
    "\n",
    "for i in range(1, 101):\n",
    "    sum_of_squares += i**2\n",
    "    square_of_sum += i\n",
    "    \n",
    "square_of_sum **= 2\n",
    "\n",
    "print(f\"Difference = {square_of_sum-sum_of_squares}\")"
   ]
  }
 ],
 "metadata": {
  "kernelspec": {
   "display_name": "Python 3",
   "language": "python",
   "name": "python3"
  },
  "language_info": {
   "codemirror_mode": {
    "name": "ipython",
    "version": 3
   },
   "file_extension": ".py",
   "mimetype": "text/x-python",
   "name": "python",
   "nbconvert_exporter": "python",
   "pygments_lexer": "ipython3",
   "version": "3.6.5"
  }
 },
 "nbformat": 4,
 "nbformat_minor": 2
}
