{
 "cells": [
  {
   "cell_type": "markdown",
   "metadata": {},
   "source": [
    "# Power Digit Sum\n",
    "source: https://projecteuler.net/problem=16"
   ]
  },
  {
   "cell_type": "markdown",
   "metadata": {},
   "source": [
    "## Problem Statement\n",
    "Find the sum of the digits of $ 2^{1000} $"
   ]
  },
  {
   "cell_type": "markdown",
   "metadata": {},
   "source": [
    "## Planning\n",
    "* Naive method:\n",
    "    * Calculate the number, sum by iterating and using modulus\n",
    "    * \n",
    "    * Maybe do this for a sense of scale?\n",
    "* Strategic method:\n",
    "    *  \n",
    "    * \n",
    "    *"
   ]
  },
  {
   "cell_type": "markdown",
   "metadata": {},
   "source": [
    "## Tinkering"
   ]
  },
  {
   "cell_type": "code",
   "execution_count": 1,
   "metadata": {},
   "outputs": [
    {
     "name": "stdout",
     "output_type": "stream",
     "text": [
      "Sum of digits: 1366\n",
      "Time elapsed: 0.0007698208931518238\n"
     ]
    }
   ],
   "source": [
    "# naive method\n",
    "\n",
    "import timeit\n",
    "\n",
    "start = timeit.default_timer()\n",
    "\n",
    "huge_number = 2**1000\n",
    "\n",
    "digit_sum = 0\n",
    "\n",
    "while huge_number > 0:\n",
    "    digit_sum += huge_number%10\n",
    "    huge_number //= 10\n",
    "    \n",
    "print(f\"Sum of digits: {digit_sum}\")\n",
    "\n",
    "end = timeit.default_timer()\n",
    "\n",
    "print(f\"Time elapsed: {end-start}\")\n"
   ]
  },
  {
   "cell_type": "code",
   "execution_count": null,
   "metadata": {},
   "outputs": [],
   "source": []
  },
  {
   "cell_type": "markdown",
   "metadata": {},
   "source": [
    "## Learning\n",
    "Well, that was unexpected\n",
    "\n",
    "In any case, does it really matter that I organize each file with the same blocks (ex: \"[work]\", \"solution\", \"learning\")?"
   ]
  },
  {
   "cell_type": "code",
   "execution_count": null,
   "metadata": {},
   "outputs": [],
   "source": []
  }
 ],
 "metadata": {
  "kernelspec": {
   "display_name": "Python 3",
   "language": "python",
   "name": "python3"
  },
  "language_info": {
   "codemirror_mode": {
    "name": "ipython",
    "version": 3
   },
   "file_extension": ".py",
   "mimetype": "text/x-python",
   "name": "python",
   "nbconvert_exporter": "python",
   "pygments_lexer": "ipython3",
   "version": "3.6.5"
  }
 },
 "nbformat": 4,
 "nbformat_minor": 2
}
