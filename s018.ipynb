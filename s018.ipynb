{
 "cells": [
  {
   "cell_type": "markdown",
   "metadata": {},
   "source": [
    "# Maximum path sum\n",
    "Source: https://projecteuler.net/problem=18"
   ]
  },
  {
   "cell_type": "markdown",
   "metadata": {},
   "source": [
    "## Problem statement\n",
    "(note: formatting the whitspace was too annoying, so I posted a screenshot)\n",
    "\n",
    "![Image](018_img.PNG)"
   ]
  },
  {
   "cell_type": "markdown",
   "metadata": {},
   "source": [
    "## Planning\n",
    "Load the text triangle into a string, then break it down into a list of row lists\n",
    "\n",
    "Starting from the first (top) row, process each row according to the following rules:\n",
    "* Update each element by adding the number above that is greater (if there is only one, add it by default)\n",
    "\n",
    "After the final row is processed, search for the largest sum\n",
    "\n"
   ]
  },
  {
   "cell_type": "markdown",
   "metadata": {},
   "source": [
    "## [Work]\n"
   ]
  },
  {
   "cell_type": "code",
   "execution_count": 17,
   "metadata": {},
   "outputs": [],
   "source": [
    "data_str = \"\"\"75\n",
    "95 64\n",
    "17 47 82\n",
    "18 35 87 10\n",
    "20 04 82 47 65\n",
    "19 01 23 75 03 34\n",
    "88 02 77 73 07 63 67\n",
    "99 65 04 28 06 16 70 92\n",
    "41 41 26 56 83 40 80 70 33\n",
    "41 48 72 33 47 32 37 16 94 29\n",
    "53 71 44 65 25 43 91 52 97 51 14\n",
    "70 11 33 28 77 73 17 78 39 68 17 57\n",
    "91 71 52 38 17 14 91 43 58 50 27 29 48\n",
    "63 66 04 68 89 53 67 30 73 16 69 87 40 31\n",
    "04 62 98 27 23 09 70 98 73 93 38 53 60 04 23\"\"\""
   ]
  },
  {
   "cell_type": "code",
   "execution_count": 18,
   "metadata": {},
   "outputs": [
    {
     "name": "stdout",
     "output_type": "stream",
     "text": [
      "['75', '95 64', '17 47 82', '18 35 87 10', '20 04 82 47 65', '19 01 23 75 03 34', '88 02 77 73 07 63 67', '99 65 04 28 06 16 70 92', '41 41 26 56 83 40 80 70 33', '41 48 72 33 47 32 37 16 94 29', '53 71 44 65 25 43 91 52 97 51 14', '70 11 33 28 77 73 17 78 39 68 17 57', '91 71 52 38 17 14 91 43 58 50 27 29 48', '63 66 04 68 89 53 67 30 73 16 69 87 40 31', '04 62 98 27 23 09 70 98 73 93 38 53 60 04 23']\n"
     ]
    }
   ],
   "source": [
    "row_strings = data_str.split('\\n')\n",
    "print(row_strings)"
   ]
  },
  {
   "cell_type": "code",
   "execution_count": 19,
   "metadata": {},
   "outputs": [
    {
     "name": "stdout",
     "output_type": "stream",
     "text": [
      "[['75'], ['95', '64'], ['17', '47', '82'], ['18', '35', '87', '10'], ['20', '04', '82', '47', '65'], ['19', '01', '23', '75', '03', '34'], ['88', '02', '77', '73', '07', '63', '67'], ['99', '65', '04', '28', '06', '16', '70', '92'], ['41', '41', '26', '56', '83', '40', '80', '70', '33'], ['41', '48', '72', '33', '47', '32', '37', '16', '94', '29'], ['53', '71', '44', '65', '25', '43', '91', '52', '97', '51', '14'], ['70', '11', '33', '28', '77', '73', '17', '78', '39', '68', '17', '57'], ['91', '71', '52', '38', '17', '14', '91', '43', '58', '50', '27', '29', '48'], ['63', '66', '04', '68', '89', '53', '67', '30', '73', '16', '69', '87', '40', '31'], ['04', '62', '98', '27', '23', '09', '70', '98', '73', '93', '38', '53', '60', '04', '23']]\n"
     ]
    }
   ],
   "source": [
    "triangle_list = []\n",
    "for row in row_strings:\n",
    "    triangle_list.append(row.split(' '))\n",
    "print(triangle_list)"
   ]
  },
  {
   "cell_type": "code",
   "execution_count": 22,
   "metadata": {},
   "outputs": [],
   "source": [
    "def update_row(triangle_list, row_index):\n",
    "    \"\"\"\n",
    "    triangle_list: list of lists of integers with lengths 1, 2, ..., len(triangle_list)\n",
    "    row_index: integer starting from 0\n",
    "    \n",
    "    \"\"\"\n",
    "    \n",
    "    row_length = len(triangle_list[row_index])\n",
    "    \n",
    "#     for i in range(row_length):\n",
    "#         possible_values = []\n",
    "        \n",
    "#         if i == 0: possible_values.append(triangle_list[])\n",
    "\n",
    "    # check if row is the top row\n",
    "    \n",
    "    if row_index == 0:\n",
    "        pass\n",
    "    \n",
    "    else:\n",
    "        \n",
    "        for i in range(row_length):\n",
    "            \n",
    "            if i == 0: triangle_list[row_index][i] += triangle_list[row_index-1][i]\n",
    "            elif i == row_length-1: triangle_list[row_index][i] += triangle_list[row_index-1][i-1]\n",
    "            else:\n",
    "                triangle_list[row_index][i] += max([triangle_list[row_index-1][i-1], triangle_list[row_index-1][i]])\n",
    "        \n",
    "        # check if each element is the first or last element\n",
    "    "
   ]
  },
  {
   "cell_type": "code",
   "execution_count": 23,
   "metadata": {},
   "outputs": [
    {
     "name": "stdout",
     "output_type": "stream",
     "text": [
      "23\n"
     ]
    }
   ],
   "source": [
    "# test\n",
    "test_triangle = [[3], [7,4], [2,4,6], [8,5,9,3]]\n",
    "\n",
    "for i in range(len(test_triangle)): update_row(test_triangle, i)\n",
    "    \n",
    "print(max(test_triangle[-1]))"
   ]
  },
  {
   "cell_type": "markdown",
   "metadata": {},
   "source": [
    "## Solution"
   ]
  },
  {
   "cell_type": "code",
   "execution_count": 20,
   "metadata": {},
   "outputs": [
    {
     "name": "stdout",
     "output_type": "stream",
     "text": [
      "[['75'], ['95', '64'], ['17', '47', '82'], ['18', '35', '87', '10'], ['20', '04', '82', '47', '65'], ['19', '01', '23', '75', '03', '34'], ['88', '02', '77', '73', '07', '63', '67'], ['99', '65', '04', '28', '06', '16', '70', '92'], ['41', '41', '26', '56', '83', '40', '80', '70', '33'], ['41', '48', '72', '33', '47', '32', '37', '16', '94', '29'], ['53', '71', '44', '65', '25', '43', '91', '52', '97', '51', '14'], ['70', '11', '33', '28', '77', '73', '17', '78', '39', '68', '17', '57'], ['91', '71', '52', '38', '17', '14', '91', '43', '58', '50', '27', '29', '48'], ['63', '66', '04', '68', '89', '53', '67', '30', '73', '16', '69', '87', '40', '31'], ['04', '62', '98', '27', '23', '09', '70', '98', '73', '93', '38', '53', '60', '04', '23']]\n"
     ]
    }
   ],
   "source": [
    "print(triangle_list)"
   ]
  },
  {
   "cell_type": "code",
   "execution_count": 21,
   "metadata": {},
   "outputs": [
    {
     "name": "stdout",
     "output_type": "stream",
     "text": [
      "[[75], [95, 64], [17, 47, 82], [18, 35, 87, 10], [20, 4, 82, 47, 65], [19, 1, 23, 75, 3, 34], [88, 2, 77, 73, 7, 63, 67], [99, 65, 4, 28, 6, 16, 70, 92], [41, 41, 26, 56, 83, 40, 80, 70, 33], [41, 48, 72, 33, 47, 32, 37, 16, 94, 29], [53, 71, 44, 65, 25, 43, 91, 52, 97, 51, 14], [70, 11, 33, 28, 77, 73, 17, 78, 39, 68, 17, 57], [91, 71, 52, 38, 17, 14, 91, 43, 58, 50, 27, 29, 48], [63, 66, 4, 68, 89, 53, 67, 30, 73, 16, 69, 87, 40, 31], [4, 62, 98, 27, 23, 9, 70, 98, 73, 93, 38, 53, 60, 4, 23]]\n"
     ]
    }
   ],
   "source": [
    "for i in range(len(triangle_list)):\n",
    "    for j in range(len(triangle_list[i])):\n",
    "        triangle_list[i][j] = int(triangle_list[i][j])\n",
    "print(triangle_list)"
   ]
  },
  {
   "cell_type": "code",
   "execution_count": 24,
   "metadata": {},
   "outputs": [
    {
     "name": "stdout",
     "output_type": "stream",
     "text": [
      "1074\n"
     ]
    }
   ],
   "source": [
    "for i in range(len(triangle_list)): update_row(triangle_list, i)\n",
    "    \n",
    "print(max(triangle_list[-1]))"
   ]
  },
  {
   "cell_type": "markdown",
   "metadata": {},
   "source": [
    "## Tinkering"
   ]
  },
  {
   "cell_type": "code",
   "execution_count": null,
   "metadata": {},
   "outputs": [],
   "source": []
  },
  {
   "cell_type": "code",
   "execution_count": 7,
   "metadata": {},
   "outputs": [
    {
     "name": "stdout",
     "output_type": "stream",
     "text": [
      "[1, 2, 3, 4]\n"
     ]
    }
   ],
   "source": [
    "# does python pass list parameters in functions by value, or does it pass the reference?\n",
    "a_list = [1,2,3]\n",
    "\n",
    "def edit_list(a_list): a_list.append(4)\n",
    "    \n",
    "edit_list(a_list)\n",
    "\n",
    "print(a_list)\n",
    "# verdict: it passes the reference of the list; changes made inside the function extend outside the function"
   ]
  },
  {
   "cell_type": "code",
   "execution_count": null,
   "metadata": {},
   "outputs": [],
   "source": []
  },
  {
   "cell_type": "code",
   "execution_count": null,
   "metadata": {},
   "outputs": [],
   "source": []
  },
  {
   "cell_type": "markdown",
   "metadata": {},
   "source": [
    "## Learning\n",
    "I'm not very familiar with markdown\n",
    "\n",
    "Also, my code was a bit overcondensed here - debugging at the end could've been a lot harder if this was a more difficult problem\n"
   ]
  },
  {
   "cell_type": "code",
   "execution_count": null,
   "metadata": {},
   "outputs": [],
   "source": []
  }
 ],
 "metadata": {
  "kernelspec": {
   "display_name": "Python 3",
   "language": "python",
   "name": "python3"
  },
  "language_info": {
   "codemirror_mode": {
    "name": "ipython",
    "version": 3
   },
   "file_extension": ".py",
   "mimetype": "text/x-python",
   "name": "python",
   "nbconvert_exporter": "python",
   "pygments_lexer": "ipython3",
   "version": "3.6.5"
  }
 },
 "nbformat": 4,
 "nbformat_minor": 2
}
