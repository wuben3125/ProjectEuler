{
 "cells": [
  {
   "cell_type": "markdown",
   "metadata": {},
   "source": [
    "# Lexigcographical permutations\n",
    "source: https://projecteuler.net/problem=24"
   ]
  },
  {
   "cell_type": "markdown",
   "metadata": {},
   "source": [
    "## Problem statement\n",
    "[Definition of lexicographical ordering that I already know]\n",
    "\n",
    "What is the millionth lexicographically ordered permutation of the digits 0, 1, 2, 3, 4, 5, 6, 7, 8, 9?"
   ]
  },
  {
   "cell_type": "markdown",
   "metadata": {},
   "source": [
    "## Planning\n",
    "Don't use strings; they're slow and numbers are an easy alternative\n",
    "\n",
    "naive method: generate all 10! permutations, sort them, and return the element with index (1000000 - 1)\n",
    "* \n",
    "\n",
    "smart method: generate first million ~~le~~ terms in lexicographical sequence, return the last one"
   ]
  },
  {
   "cell_type": "markdown",
   "metadata": {},
   "source": [
    "## [work]"
   ]
  },
  {
   "cell_type": "code",
   "execution_count": 1,
   "metadata": {},
   "outputs": [
    {
     "name": "stdout",
     "output_type": "stream",
     "text": [
      "[1, 3]\n"
     ]
    }
   ],
   "source": [
    "a_list = [1,2,3]\n",
    "a_list.remove(2)\n",
    "print(a_list) # removes by value, not by index"
   ]
  },
  {
   "cell_type": "code",
   "execution_count": 14,
   "metadata": {},
   "outputs": [],
   "source": [
    "number_list = [0,1,2,3]\n",
    "permutations = []\n",
    "\n",
    "for i in range(len(number_list)):\n",
    "    index_set = {0,1,2,3}\n",
    "    number = 0\n",
    "    \n",
    "    number += i\n",
    "    index_set.remove(i)\n",
    "    \n",
    "    for j in range(len(number_list)):\n",
    "        if j in index_set:\n",
    "            number = number*10 + j\n",
    "            index_set.remove(j)\n",
    "            \n",
    "            for k in range(len(number_list)):\n",
    "                if k in index_set:\n",
    "                    number = number*10 + k\n",
    "                    index_set.remove(k)\n",
    "                    \n",
    "                    for l in range(len(number_list)):\n",
    "                        if l in index_set:\n",
    "                            number = number*10 + l\n",
    "#                     index_set.remove(l)\n",
    "                \n",
    "                            permutations.append(number)\n",
    "\n",
    "                        else: pass\n",
    "            \n",
    "                else: pass\n",
    "            \n",
    "        else: pass\n",
    "        \n",
    "        \n",
    "            \n",
    "            "
   ]
  },
  {
   "cell_type": "code",
   "execution_count": 15,
   "metadata": {},
   "outputs": [
    {
     "name": "stdout",
     "output_type": "stream",
     "text": [
      "[123, 12332, 12332213, 1233221331, 1233221331312, 123322133131221, 1023, 102332, 102332203, 10233220330, 10233220330302, 1023322033030220, 2013, 201331, 201331103, 20133110330, 20133110330301, 2013311033030110, 3012, 301221, 301221102, 30122110220, 30122110220201, 3012211022020110]\n"
     ]
    }
   ],
   "source": [
    "print(permutations)\n",
    "\n",
    "# the index_set selection thing isn't working out"
   ]
  },
  {
   "cell_type": "code",
   "execution_count": null,
   "metadata": {},
   "outputs": [],
   "source": [
    "# using recursion\n",
    "permutations = []\n",
    "\n",
    "def add_permutations()"
   ]
  },
  {
   "cell_type": "code",
   "execution_count": null,
   "metadata": {},
   "outputs": [],
   "source": []
  },
  {
   "cell_type": "code",
   "execution_count": 17,
   "metadata": {},
   "outputs": [
    {
     "ename": "IndexError",
     "evalue": "list index out of range",
     "output_type": "error",
     "traceback": [
      "\u001b[1;31m---------------------------------------------------------------------------\u001b[0m",
      "\u001b[1;31mIndexError\u001b[0m                                Traceback (most recent call last)",
      "\u001b[1;32m<ipython-input-17-fb7fbd167eaf>\u001b[0m in \u001b[0;36m<module>\u001b[1;34m()\u001b[0m\n\u001b[0;32m     18\u001b[0m         \u001b[1;32mfor\u001b[0m \u001b[0mk\u001b[0m \u001b[1;32min\u001b[0m \u001b[0mrange\u001b[0m\u001b[1;33m(\u001b[0m\u001b[0mlen\u001b[0m\u001b[1;33m(\u001b[0m\u001b[0mnumber_list\u001b[0m\u001b[1;33m)\u001b[0m\u001b[1;33m)\u001b[0m\u001b[1;33m:\u001b[0m\u001b[1;33m\u001b[0m\u001b[0m\n\u001b[0;32m     19\u001b[0m \u001b[1;33m\u001b[0m\u001b[0m\n\u001b[1;32m---> 20\u001b[1;33m             \u001b[0mnumber\u001b[0m \u001b[1;33m+=\u001b[0m \u001b[0mnumber_list\u001b[0m\u001b[1;33m[\u001b[0m\u001b[0mk\u001b[0m\u001b[1;33m]\u001b[0m\u001b[1;33m\u001b[0m\u001b[0m\n\u001b[0m\u001b[0;32m     21\u001b[0m \u001b[1;33m\u001b[0m\u001b[0m\n\u001b[0;32m     22\u001b[0m             \u001b[1;32mfor\u001b[0m \u001b[0ml\u001b[0m \u001b[1;32min\u001b[0m \u001b[0mrange\u001b[0m\u001b[1;33m(\u001b[0m\u001b[0mlen\u001b[0m\u001b[1;33m(\u001b[0m\u001b[0mnumber_list\u001b[0m\u001b[1;33m)\u001b[0m\u001b[1;33m)\u001b[0m\u001b[1;33m:\u001b[0m\u001b[1;33m\u001b[0m\u001b[0m\n",
      "\u001b[1;31mIndexError\u001b[0m: list index out of range"
     ]
    }
   ],
   "source": [
    "# test\n",
    "number_list = [0,1,2,3]\n",
    "\n",
    "permutations = []\n",
    "\n",
    "for i in range(len(number_list)):\n",
    "#     temp = number_list\n",
    "    number_list = [0,1,2,3] # reset\n",
    "\n",
    "    number = 0\n",
    "    \n",
    "    number += number_list[i]\n",
    "    \n",
    "    for j in range(len(number_list)):\n",
    "        \n",
    "        number += number_list[j]\n",
    "        \n",
    "        for k in range(len(number_list)):\n",
    "            \n",
    "            number += number_list[k]\n",
    "            \n",
    "            for l in range(len(number_list)):\n",
    "                \n",
    "                number += number_list[l]\n",
    "                \n",
    "                permutations.append(number)\n",
    "                \n",
    "            number_list.remove(number_list[k])\n",
    "                \n",
    "        number_list.remove(number_list[j])\n",
    "                \n",
    "    number_list.remove(number_list[i])"
   ]
  },
  {
   "cell_type": "markdown",
   "metadata": {},
   "source": [
    "### Brute force solution (with recursion)"
   ]
  },
  {
   "cell_type": "code",
   "execution_count": 44,
   "metadata": {},
   "outputs": [],
   "source": [
    "permutations = []\n",
    "\n",
    "def gen_perm(base_str, gen_str):\n",
    "    if len(base_str) == 0:\n",
    "        permutations.append(gen_str)\n",
    "    else:\n",
    "        for i in range(len(base_str)):\n",
    "            gen_perm((base_str[0:i] + base_str[i+1:]), (gen_str + base_str[i])) # parentheses matter?"
   ]
  },
  {
   "cell_type": "code",
   "execution_count": 45,
   "metadata": {},
   "outputs": [],
   "source": [
    "import timeit\n",
    "\n",
    "gen_perm('0123456789', '')\n",
    "\n"
   ]
  },
  {
   "cell_type": "code",
   "execution_count": 46,
   "metadata": {},
   "outputs": [
    {
     "name": "stdout",
     "output_type": "stream",
     "text": [
      "3628800\n"
     ]
    }
   ],
   "source": [
    "print(len(permutations))"
   ]
  },
  {
   "cell_type": "code",
   "execution_count": 47,
   "metadata": {},
   "outputs": [],
   "source": [
    "permutations.sort() # this was much faster than I expected"
   ]
  },
  {
   "cell_type": "code",
   "execution_count": null,
   "metadata": {},
   "outputs": [],
   "source": []
  },
  {
   "cell_type": "code",
   "execution_count": 48,
   "metadata": {},
   "outputs": [
    {
     "name": "stdout",
     "output_type": "stream",
     "text": [
      "2783915460\n"
     ]
    }
   ],
   "source": [
    "print(permutations[1000000-1])\n",
    "# "
   ]
  },
  {
   "cell_type": "code",
   "execution_count": null,
   "metadata": {},
   "outputs": [],
   "source": []
  }
 ],
 "metadata": {
  "kernelspec": {
   "display_name": "Python 3",
   "language": "python",
   "name": "python3"
  },
  "language_info": {
   "codemirror_mode": {
    "name": "ipython",
    "version": 3
   },
   "file_extension": ".py",
   "mimetype": "text/x-python",
   "name": "python",
   "nbconvert_exporter": "python",
   "pygments_lexer": "ipython3",
   "version": "3.6.5"
  }
 },
 "nbformat": 4,
 "nbformat_minor": 2
}
