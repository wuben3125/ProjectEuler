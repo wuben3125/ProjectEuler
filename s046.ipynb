{
 "cells": [
  {
   "cell_type": "markdown",
   "metadata": {},
   "source": [
    "# Goldbach's Other Conjecture\n",
    "source: https://projecteuler.net/problem=46"
   ]
  },
  {
   "cell_type": "markdown",
   "metadata": {},
   "source": [
    "# Problem Statement: \n",
    "It was proposed by Christian Goldbach that every odd composite number can be written as the sum of a prime and twice a square.\n",
    "\n",
    "* 9 = 7 + 2×1^2\n",
    "* 15 = 7 + 2×2^2\n",
    "* 21 = 3 + 2×3^2\n",
    "* 25 = 7 + 2×3^2\n",
    "* 27 = 19 + 2×2^2\n",
    "* 33 = 31 + 2×1^2\n",
    "\n",
    "It turns out that the conjecture was false.\n",
    "\n",
    "What is the smallest odd composite that cannot be written as the sum of a prime and twice a square?"
   ]
  },
  {
   "cell_type": "markdown",
   "metadata": {},
   "source": [
    "# Planning\n",
    "Generate lists of primes and squares that are greater than or equal to the next odd number. \n",
    "\n",
    "The square list will include 0. \n",
    "\n",
    "For all squares in the list, the `current_odd_number` - 2 x the square will be tested for containment in the prime list. \n",
    "\n",
    "If the `current_odd_number` is greater than 2 x the current last square or the current last prime, more will be generated. \n",
    "\n",
    "The first odd number that fails the containment test will be returned/printed"
   ]
  },
  {
   "cell_type": "code",
   "execution_count": 2,
   "metadata": {},
   "outputs": [],
   "source": [
    "## tinkering\n",
    "primes = [2]\n",
    "\n",
    "def gen_new_primes(primes, n):\n",
    "    \"\"\"\n",
    "    generates up to and including the next prime bigger than n\n",
    "    \"\"\"\n",
    "    \n",
    "    while primes[-1] <= n:\n",
    "        \n",
    "        next_prime_found = False\n",
    "        x = primes[-1] + 1\n",
    "        \n",
    "        while not next_prime_found:\n",
    "\n",
    "            is_prime = True\n",
    "\n",
    "            for p in primes:\n",
    "                if x % p == 0:\n",
    "                    is_prime = False\n",
    "\n",
    "            if is_prime == True:\n",
    "                next_prime_found = True\n",
    "                primes.append(x)\n",
    "            else:\n",
    "                x += 1\n",
    "        \n",
    "    return primes"
   ]
  },
  {
   "cell_type": "code",
   "execution_count": 3,
   "metadata": {
    "scrolled": true
   },
   "outputs": [
    {
     "data": {
      "text/plain": [
       "[2, 3, 5, 7, 11]"
      ]
     },
     "execution_count": 3,
     "metadata": {},
     "output_type": "execute_result"
    }
   ],
   "source": [
    "gen_new_primes([2, 3, 5], 10)"
   ]
  },
  {
   "cell_type": "code",
   "execution_count": 6,
   "metadata": {},
   "outputs": [],
   "source": [
    "import timeit"
   ]
  },
  {
   "cell_type": "code",
   "execution_count": 8,
   "metadata": {},
   "outputs": [
    {
     "name": "stdout",
     "output_type": "stream",
     "text": [
      "5777\n"
     ]
    }
   ],
   "source": [
    "## solution\n",
    "current_odd_number = 9\n",
    "primes = [2, 3, 5, 7]\n",
    "\n",
    "current_square_n = 3\n",
    "squares = [0, 1, 4, 9]\n",
    "\n",
    "start = timeit.default_timer()\n",
    "while True:\n",
    "    \n",
    "    if current_odd_number > primes[-1]:\n",
    "        primes = gen_new_primes(primes, current_odd_number)\n",
    "        \n",
    "    while current_odd_number > 2*squares[-1]: # genrate more squares\n",
    "        current_square_n += 1\n",
    "        \n",
    "        squares.append(current_square_n**2)\n",
    "        \n",
    "    # flag\n",
    "    fits_conjecture = False\n",
    "        \n",
    "    ## test for containment\n",
    "    for s in squares:\n",
    "        if (current_odd_number - 2*s) in primes:\n",
    "            fits_conjecture = True\n",
    "            break\n",
    "            \n",
    "    ## final test\n",
    "    if not fits_conjecture:\n",
    "        print(current_odd_number)\n",
    "        break # break out of outer loop\n",
    "        \n",
    "        end = timeit.default_timer()\n",
    "        print(f\"Time elapsed: {end-start}\")\n",
    "    else:\n",
    "        # increment\n",
    "        current_odd_number += 2\n"
   ]
  },
  {
   "cell_type": "code",
   "execution_count": null,
   "metadata": {},
   "outputs": [],
   "source": []
  }
 ],
 "metadata": {
  "kernelspec": {
   "display_name": "Python 3",
   "language": "python",
   "name": "python3"
  },
  "language_info": {
   "codemirror_mode": {
    "name": "ipython",
    "version": 3
   },
   "file_extension": ".py",
   "mimetype": "text/x-python",
   "name": "python",
   "nbconvert_exporter": "python",
   "pygments_lexer": "ipython3",
   "version": "3.6.10"
  }
 },
 "nbformat": 4,
 "nbformat_minor": 4
}
