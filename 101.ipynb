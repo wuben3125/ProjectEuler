{
 "cells": [
  {
   "cell_type": "markdown",
   "metadata": {},
   "source": [
    "# Optimum Polynomial\n",
    "https://projecteuler.net/problem=101\n",
    "\n",
    "If we are presented with the first k terms of a sequence it is impossible to say with certainty the value of the next term, as there are infinitely many polynomial functions that can model the sequence.\n",
    "\n",
    "As an example, let us consider the sequence of cube numbers. This is defined by the generating function, \n",
    "$u_n = n^3: 1, 8, 27, 64, 125, 216, ...$\n",
    "\n",
    "Suppose we were only given the first two terms of this sequence. Working on the principle that \"simple is best\" we should assume a linear relationship and predict the next term to be 15 (common difference 7). Even if we were presented with the first three terms, by the same principle of simplicity, a quadratic relationship should be assumed.\n",
    "\n",
    "We shall define $OP(k, n)$ to be the nth term of the optimum polynomial generating function for the first k terms of a sequence. It should be clear that $OP(k, n)$ will accurately generate the terms of the sequence for n ≤ k, and potentially the first incorrect term (FIT) will be $OP(k, k+1)$; in which case we shall call it a bad OP (BOP).\n",
    "\n",
    "![image](101_img.png)"
   ]
  },
  {
   "cell_type": "markdown",
   "metadata": {},
   "source": [
    "# Problem Statement\n",
    "(In my own words)"
   ]
  },
  {
   "cell_type": "markdown",
   "metadata": {},
   "source": [
    "Given a polynomial, the curve that interpolates the first $n=1,2,...,10$ points with polynomials of degree $n-1$ is called an Optimum Polynomial (OP). An OP that doesn't match all points of the polynomial is called a Bad Optmimum Polynomial (BOP). The value of the BOP at the first value that doesn't match the polynomial is called the First Incorrect Term (FIT). \n",
    "\n",
    "Find the sum of the FITs for the tenth degree polynomial function:\n",
    "$f(x) = 1 - x + x^2 - x^3 + x^4 - x^5 + x^6 - x^7 + x^8 - x^9 + x^{10}$"
   ]
  },
  {
   "cell_type": "markdown",
   "metadata": {},
   "source": [
    "# Planning\n",
    "* Create function for 0th degree polynomial\n",
    "* Import function for interpolating \n",
    "\n",
    "For each n:\n",
    "* generate the first [large number] elements of f(x)$\n",
    "* find the FIT value, using common sense or the polynomial function"
   ]
  },
  {
   "cell_type": "markdown",
   "metadata": {},
   "source": [
    "# Implementation\n"
   ]
  },
  {
   "cell_type": "code",
   "execution_count": 4,
   "metadata": {},
   "outputs": [],
   "source": [
    "import numpy as np"
   ]
  },
  {
   "cell_type": "code",
   "execution_count": 54,
   "metadata": {},
   "outputs": [],
   "source": [
    "def polynomialFunction(coeffs, xList):\n",
    "    \"\"\"\n",
    "    intakes a list of n coefficients for a polynomial of n-1 degree\n",
    "    coefficients are listed in decreasing order of power\n",
    "    \n",
    "    n may be less than len(xList) - repurposed for curve fitting\n",
    "    \n",
    "    returns yList\n",
    "    \"\"\"\n",
    "    \n",
    "        \n",
    "    \n",
    "    def poly(coeffs, x):\n",
    "        length = len(coeffs)\n",
    "        output = 0\n",
    "        for i in range(length):\n",
    "            output += coeffs[i]*np.power(x, length-1-i)\n",
    "        return output\n",
    "    \n",
    "    return poly(coeffs, xList)"
   ]
  },
  {
   "cell_type": "code",
   "execution_count": 55,
   "metadata": {},
   "outputs": [
    {
     "data": {
      "text/plain": [
       "array([          0,        1024,      118098,     3145728,    39062500,\n",
       "         302330880,  1694851494, -1073741824,  2124471432], dtype=int32)"
      ]
     },
     "execution_count": 55,
     "metadata": {},
     "output_type": "execute_result"
    }
   ],
   "source": [
    "np.power([1,2,3,4,5,6,7,8,9], 11) - np.power([1,2,3,4,5,6,7,8,9], 10)"
   ]
  },
  {
   "cell_type": "code",
   "execution_count": 52,
   "metadata": {},
   "outputs": [],
   "source": [
    "def getPolyCoeffs(x,y):\n",
    "    \"\"\"\n",
    "    intakes two lists of same length\n",
    "    \"\"\"\n",
    "    length = len(x)\n",
    "    A = np.zeros((length,length))\n",
    "    b = np.zeros((length,1))\n",
    "    \n",
    "    for i in range(length):\n",
    "        b[i] = y[i]\n",
    "        for j in range(length):\n",
    "            A[i][j] = np.power(x[i], length-1 - j)\n",
    "            \n",
    "    return np.linalg.inv(A).dot(b)"
   ]
  },
  {
   "cell_type": "code",
   "execution_count": 11,
   "metadata": {},
   "outputs": [
    {
     "name": "stdout",
     "output_type": "stream",
     "text": [
      "[1. 1. 1. 1.]\n"
     ]
    }
   ],
   "source": [
    "#test\n",
    "testCoeffs = getPolyCoeffs([1],[1]) # 0th order polynomial\n",
    "print(polynomialFunction(testCoeffs, [1,2,3,4]))"
   ]
  },
  {
   "cell_type": "markdown",
   "metadata": {},
   "source": [
    "# Results"
   ]
  },
  {
   "cell_type": "code",
   "execution_count": 16,
   "metadata": {},
   "outputs": [],
   "source": [
    "def closeEnough(a, b, error):\n",
    "    \"\"\"makes double equality comparisons more forgiving\"\"\"\n",
    "    return abs(a-b) <= error"
   ]
  },
  {
   "cell_type": "code",
   "execution_count": 78,
   "metadata": {},
   "outputs": [
    {
     "name": "stdout",
     "output_type": "stream",
     "text": [
      "[          1         683       44287      838861     8138021    51828151\n",
      "   247165843   954437177 -1156861335   500974499 -1993831225]\n",
      "\n",
      "For n=1, the OP(2)=1.0 is the FIT\n",
      "[1.0, 1.0, 1.0, 1.0, 1.0, 1.0, 1.0, 1.0, 1.0, 1.0, 1.0]\n",
      "\n",
      "For n=2, the OP(3)=1365.0 is the FIT\n",
      "[1.0, 683.0, 1365.0, 2047.0, 2729.0, 3411.0, 4093.0, 4775.0, 5457.0, 6139.0, 6821.0]\n",
      "\n",
      "For n=3, the OP(4)=130813.0 is the FIT\n",
      "[1.0, 683.0, 44287.0, 130813.0, 260261.0, 432631.0, 647923.0, 906137.0, 1207273.0, 1551331.0, 1938311.0]\n",
      "\n",
      "For n=4, the OP(5)=3092453.000000001 is the FIT\n",
      "[1.0, 683.0, 44287.0, 838861.0, 3092453.0, 7513111.0, 14808883.0, 25687817.0, 40857961.0, 61027363.0, 86904071.0]\n",
      "\n",
      "For n=5, the OP(6)=32740951.0000001 is the FIT\n",
      "[1.0, 683.0, 44287.0, 838861.0, 8138021.0, 32740951.0, 90492403.0, 202282697.0, 394047721.0, 696768931.0, 1146473351.0]\n",
      "\n",
      "For n=6, the OP(7)=205015602.9999978 is the FIT\n",
      "[1.0, 683.0, 44287.0, 838861.0, 8138021.0, 51828151.0, 205015603.0, 603113897.0, 1462930921.0, 3101756131.0, 5956447751.0]\n",
      "\n",
      "For n=7, the OP(8)=898165577.0000801 is the FIT\n",
      "[1.0, 683.0, 44287.0, 838861.0, 8138021.0, 51828151.0, 247165843.0, 898165577.0, 2643137641.0, 6642376291.0, 14807998151.0]\n",
      "\n",
      "For n=8, the OP(9)=3093310440.9997525 is the FIT\n",
      "[1.0, 683.0, 44287.0, 838861.0, 8138021.0, 51828151.0, 247165843.0, 954437177.0, 3093310441.0, 8668153891.0, 21560590151.0]\n",
      "\n",
      "For n=9, the OP(10)=-29583392092.96321 is the FIT\n",
      "[1.0, 683.0, 44287.0, 838861.0, 8138021.0, 51828151.0, 247165843.0, 954437177.0, -1156861335.0, -29583392092.96, -169697139768.81]\n",
      "\n",
      "For n=10, the OP(11)=-355940752259387.56 is the FIT\n",
      "[1.0, 683.0, 44287.0, 838861.0, 8138020.99, 51828150.99, 247165842.99, 954437176.94, -1156861335.09, 500974498.95, -355940752259387.56]\n",
      "\n",
      "-355966103194276.6\n"
     ]
    }
   ],
   "source": [
    "tenthDegreeCoeffs = [1,-1,1,-1,1,-1,1,-1,1,-1,1]\n",
    "x = list(range(1, 12))\n",
    "f_x = polynomialFunction(tenthDegreeCoeffs, x)\n",
    "print(f_x)\n",
    "print()\n",
    "\n",
    "sumFIT = 0\n",
    "errorBound = 0.5# for closeEnough() double equality comparison\n",
    "\n",
    "for i in range(1, 11): # stops at order 10\n",
    "    coeffs = getPolyCoeffs(x[:i], f_x[:i]) # this is likely where floating point rounding error is introduced\n",
    "    f_x_OP = polynomialFunction(coeffs, x)\n",
    "    \n",
    "    \n",
    "    for j in range(len(x)):\n",
    "        if not closeEnough(f_x[j], f_x_OP[j], errorBound): # the first incorrect term\n",
    "            sumFIT += round(f_x_OP[j],1) # rounds it to the nearest whole number, since it's approximated\n",
    "            print(f\"For n={i}, the OP({j+1})={f_x_OP[j]} is the FIT\") # starts from index 1\n",
    "            break\n",
    "        if j == len(x)-1:\n",
    "            print(f\"Seems like {len(x)} terms wasn't enough\")\n",
    "            \n",
    "    print([round(a,2) for a in f_x_OP])\n",
    "    print()\n",
    "\n",
    "print(sumFIT)\n",
    "            \n",
    "    "
   ]
  },
  {
   "cell_type": "code",
   "execution_count": 97,
   "metadata": {
    "scrolled": true
   },
   "outputs": [],
   "source": [
    "# the issue seems to be the precisino of th last FIT"
   ]
  },
  {
   "cell_type": "markdown",
   "metadata": {},
   "source": [
    "Help with using decimal module for more precision:\n",
    "* https://stackoverflow.com/questions/7770870/numpy-array-with-dtype-decimal\n",
    "* https://docs.python.org/3/tutorial/floatingpoint.html \n",
    "* https://web.archive.org/web/20150110065945/http://en.literateprograms.org/Arbitrary-precision_elementary_mathematical_functions_%28Python%29"
   ]
  },
  {
   "cell_type": "code",
   "execution_count": 82,
   "metadata": {},
   "outputs": [
    {
     "name": "stdout",
     "output_type": "stream",
     "text": [
      "0.3333333333333333\n",
      "0.3333333333333333148296162562\n"
     ]
    }
   ],
   "source": [
    "import decimal\n",
    "\n",
    "\n",
    "num = 0\n",
    "print(num + 1/3)\n",
    "\n",
    "preciseNum = decimal.Decimal(0)\n",
    "print(preciseNum + decimal.Decimal(1/3))"
   ]
  },
  {
   "cell_type": "code",
   "execution_count": 83,
   "metadata": {},
   "outputs": [
    {
     "data": {
      "text/plain": [
       "Decimal('0')"
      ]
     },
     "execution_count": 83,
     "metadata": {},
     "output_type": "execute_result"
    }
   ],
   "source": [
    "pow(preciseNum, 1)"
   ]
  },
  {
   "cell_type": "code",
   "execution_count": 96,
   "metadata": {},
   "outputs": [
    {
     "name": "stdout",
     "output_type": "stream",
     "text": [
      "[[ 8.29044494e+04]\n",
      " [-3.83611123e+06]\n",
      " [ 7.59328322e+07]\n",
      " [-8.41255534e+08]\n",
      " [ 5.72628236e+09]\n",
      " [-2.47084267e+10]\n",
      " [ 6.71328494e+10]\n",
      " [-1.09754281e+11]\n",
      " [ 9.67360191e+10]\n",
      " [-3.43633672e+10]]\n",
      "f(x):\n",
      "[1, 683, 44287, 838861, 8138021, 51828151, 247165843, 954437177, -1156861335, 500974499, -1993831225, 1319915205, -837562163, -611928337, -556138085, -252645135, 1323727185, -1886330341, 537291535, -1489776835]\n",
      "\n",
      "OP(x):\n",
      "[1.0, 682.9996795654297, 44286.99897766113, 838860.9958648682, 8138020.994949341, 51828150.99153137, 247165842.98579407, 954437176.9398956, -1156861335.092331, 500974498.9478302, -355940752259387.56, -355069891407168.5, -707527784790865.6, -1764121872346770.0, 1.3319154043362186e+16, 1.0902681891506386e+16, 2.3272471061222564e+16, 3.3678385371320784e+16, 4.0477972386461944e+16, 5.894539602942346e+16]\n",
      "\n"
     ]
    }
   ],
   "source": [
    "# special investigation for n = 10\n",
    "import decimal\n",
    "\n",
    "tenthDegreeCoeffs = [1,-1,1,-1,1,-1,1,-1,1,-1,1]\n",
    "x = list(range(1, 21))\n",
    "f_x = polynomialFunction(tenthDegreeCoeffs, x)\n",
    "f_x = [int(val) for val in f_x] # convert to normal list\n",
    "\n",
    "def getPrecisePolyCoeffs(x,y):\n",
    "    \"\"\"\n",
    "    intakes two lists of same length\n",
    "    \"\"\"\n",
    "    length = len(x)\n",
    "    A = np.zeros((length,length))\n",
    "    for row in A:\n",
    "        for elem in row:\n",
    "            elem = decimal.Decimal(elem)\n",
    "    \n",
    "    b = np.zeros((length,1))\n",
    "    \n",
    "    for i in range(length):\n",
    "        b[i] = decimal.Decimal(y[i])\n",
    "        for j in range(length):\n",
    "            A[i][j] = pow(decimal.Decimal(x[i]), length-1 - j)\n",
    "            \n",
    "    return np.linalg.inv(A).dot(b)\n",
    "\n",
    "coeffs = getPrecisePolyCoeffs(x[:10], f_x[:10])\n",
    "print(coeffs)\n",
    "\n",
    "f_x_OP = polynomialFunction(coeffs, x)\n",
    "\n",
    "\n",
    "print(\"f(x):\")\n",
    "print(f_x)\n",
    "print()\n",
    "\n",
    "print(\"OP(x):\")\n",
    "print([float(a) for a in f_x_OP])\n",
    "print()\n",
    "\n",
    "\n",
    "\n",
    "\n",
    "# print(f_x)\n",
    "# print(f_x_OP)\n",
    "# # print([round(a,0) for a in f_x_OP])\n",
    "# elem11 = polynomialFunction(coeffs, 11)\n",
    "\n",
    "# elem11 = float(elem11)\n",
    "\n",
    "# print(elem11)\n",
    "\n",
    "# print(round(elem11, 0))\n",
    "\n",
    "# if not closeEnough(f_x[j], f_x_OP[j], errorBound): # the first incorrect term\n",
    "#     sumFIT += round(f_x_OP[j],0) # rounds it to the nearest whole number, since it's approximated\n",
    "#     print(f\"For n={i}, the OP({j})={f_x_OP[j]} is the FIT\")\n",
    "#     break\n",
    "#     if j == len(x)-1:\n",
    "#         print(f\"Seems like {len(x)} terms wasn't enough\")"
   ]
  },
  {
   "cell_type": "code",
   "execution_count": null,
   "metadata": {},
   "outputs": [],
   "source": []
  }
 ],
 "metadata": {
  "kernelspec": {
   "display_name": "Python 3",
   "language": "python",
   "name": "python3"
  },
  "language_info": {
   "codemirror_mode": {
    "name": "ipython",
    "version": 3
   },
   "file_extension": ".py",
   "mimetype": "text/x-python",
   "name": "python",
   "nbconvert_exporter": "python",
   "pygments_lexer": "ipython3",
   "version": "3.6.5"
  }
 },
 "nbformat": 4,
 "nbformat_minor": 2
}
