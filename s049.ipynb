{
 "cells": [
  {
   "cell_type": "markdown",
   "metadata": {},
   "source": [
    "# Problem 49 - Prime Permutations\n",
    "(https://projecteuler.net/problem=49)\n",
    "\n",
    "The sequence 1487, 4817, 8147 is an example of an\n",
    "arithmetic sequence of primes that are permutations of one another.\n",
    "\n",
    "There is one other such 3-element sequence of 4-digit primes. \n",
    "\n",
    "Find the concatenation of them in order."
   ]
  },
  {
   "cell_type": "code",
   "execution_count": 50,
   "metadata": {},
   "outputs": [],
   "source": [
    "# 3/11/19, on a whim\n",
    "# S: 6:35\n",
    "# E: 7:24"
   ]
  },
  {
   "cell_type": "markdown",
   "metadata": {},
   "source": [
    "## Planning"
   ]
  },
  {
   "cell_type": "markdown",
   "metadata": {},
   "source": [
    "possible approaches:\n",
    "* brute force through all primes\n",
    "    * brute force through all 4 digit primes\n",
    "        * generate all 4 digit primes, generate all possible increasing combinations of 3, test them individually for (1) sequential increase, and (2) permutations\n",
    "            * there are 1061 4-digit primes, so about 1 million combinations to check (less, accounting for increasing-ness) \n",
    "                * ~~also, no numbers can start wiith 0~~ \n",
    "        * ~~generate all 4 digit primes, for each one generate all possible digit permutations and test the resulting combinations for (1) primeness and (2) sequential increase~~"
   ]
  },
  {
   "cell_type": "markdown",
   "metadata": {},
   "source": [
    "Functions:\n",
    "* genPrimes(lower, upper) --> returns list of primes between bounds\n",
    "* checkSequential(triple) --> returns if is an increasing sequence\n",
    "* checkPermTriple(triple) --> returns if three numbers contain the same digits\n",
    "* checkPerm(num1, num2) --> returns if two numbers contain the same digits\n",
    "* getSequences() --> returns the two matching sequences"
   ]
  },
  {
   "cell_type": "markdown",
   "metadata": {},
   "source": [
    "## Implementation\n"
   ]
  },
  {
   "cell_type": "code",
   "execution_count": 4,
   "metadata": {},
   "outputs": [],
   "source": [
    "def genPrimes(lower, upper):\n",
    "    \"\"\"\n",
    "    returns list of primes between bounds, \n",
    "    inclusive\n",
    "\n",
    "    \"\"\"\n",
    "    def listElemDivides(list, dividend):\n",
    "        \"\"\"\n",
    "        returns true if an element in list divides num\n",
    "        \"\"\"\n",
    "        for divisor in list:\n",
    "            if dividend % divisor==0:\n",
    "                return True\n",
    "        return False\n",
    "    \n",
    "    \n",
    "    primes = [] # instantiation\n",
    "    \n",
    "    # generate all primes up to upper\n",
    "    for num in range(2, upper+1):\n",
    "        if not(listElemDivides(primes, num)):\n",
    "            primes.append(num)\n",
    "        \n",
    "    # find index of lowest prime greater than lower \n",
    "    # linear search is fine\n",
    "    lowerIdx = 0\n",
    "    for i in range(len(primes)-1):\n",
    "        if primes[i] <= lower and primes[i+1] >= lower:\n",
    "            lowerIdx = i+1\n",
    "    \n",
    "    \n",
    "    # return sublist of primes\n",
    "    return primes[lowerIdx:]\n",
    "    "
   ]
  },
  {
   "cell_type": "code",
   "execution_count": 5,
   "metadata": {},
   "outputs": [
    {
     "data": {
      "text/plain": [
       "[11]"
      ]
     },
     "execution_count": 5,
     "metadata": {},
     "output_type": "execute_result"
    }
   ],
   "source": [
    "# test\n",
    "genPrimes(11,11) # perfected this with guess and check"
   ]
  },
  {
   "cell_type": "code",
   "execution_count": 6,
   "metadata": {},
   "outputs": [
    {
     "name": "stdout",
     "output_type": "stream",
     "text": [
      "[1009, 1013, 1019, 1021, 1031, 1033, 1039, 1049, 1051, 1061, 1063, 1069, 1087, 1091, 1093, 1097, 1103, 1109, 1117, 1123, 1129, 1151, 1153, 1163, 1171, 1181, 1187, 1193, 1201, 1213, 1217, 1223, 1229, 1231, 1237, 1249, 1259, 1277, 1279, 1283, 1289, 1291, 1297, 1301, 1303, 1307, 1319, 1321, 1327, 1361, 1367, 1373, 1381, 1399, 1409, 1423, 1427, 1429, 1433, 1439, 1447, 1451, 1453, 1459, 1471, 1481, 1483, 1487, 1489, 1493, 1499, 1511, 1523, 1531, 1543, 1549, 1553, 1559, 1567, 1571, 1579, 1583, 1597, 1601, 1607, 1609, 1613, 1619, 1621, 1627, 1637, 1657, 1663, 1667, 1669, 1693, 1697, 1699, 1709, 1721, 1723, 1733, 1741, 1747, 1753, 1759, 1777, 1783, 1787, 1789, 1801, 1811, 1823, 1831, 1847, 1861, 1867, 1871, 1873, 1877, 1879, 1889, 1901, 1907, 1913, 1931, 1933, 1949, 1951, 1973, 1979, 1987, 1993, 1997, 1999, 2003, 2011, 2017, 2027, 2029, 2039, 2053, 2063, 2069, 2081, 2083, 2087, 2089, 2099, 2111, 2113, 2129, 2131, 2137, 2141, 2143, 2153, 2161, 2179, 2203, 2207, 2213, 2221, 2237, 2239, 2243, 2251, 2267, 2269, 2273, 2281, 2287, 2293, 2297, 2309, 2311, 2333, 2339, 2341, 2347, 2351, 2357, 2371, 2377, 2381, 2383, 2389, 2393, 2399, 2411, 2417, 2423, 2437, 2441, 2447, 2459, 2467, 2473, 2477, 2503, 2521, 2531, 2539, 2543, 2549, 2551, 2557, 2579, 2591, 2593, 2609, 2617, 2621, 2633, 2647, 2657, 2659, 2663, 2671, 2677, 2683, 2687, 2689, 2693, 2699, 2707, 2711, 2713, 2719, 2729, 2731, 2741, 2749, 2753, 2767, 2777, 2789, 2791, 2797, 2801, 2803, 2819, 2833, 2837, 2843, 2851, 2857, 2861, 2879, 2887, 2897, 2903, 2909, 2917, 2927, 2939, 2953, 2957, 2963, 2969, 2971, 2999, 3001, 3011, 3019, 3023, 3037, 3041, 3049, 3061, 3067, 3079, 3083, 3089, 3109, 3119, 3121, 3137, 3163, 3167, 3169, 3181, 3187, 3191, 3203, 3209, 3217, 3221, 3229, 3251, 3253, 3257, 3259, 3271, 3299, 3301, 3307, 3313, 3319, 3323, 3329, 3331, 3343, 3347, 3359, 3361, 3371, 3373, 3389, 3391, 3407, 3413, 3433, 3449, 3457, 3461, 3463, 3467, 3469, 3491, 3499, 3511, 3517, 3527, 3529, 3533, 3539, 3541, 3547, 3557, 3559, 3571, 3581, 3583, 3593, 3607, 3613, 3617, 3623, 3631, 3637, 3643, 3659, 3671, 3673, 3677, 3691, 3697, 3701, 3709, 3719, 3727, 3733, 3739, 3761, 3767, 3769, 3779, 3793, 3797, 3803, 3821, 3823, 3833, 3847, 3851, 3853, 3863, 3877, 3881, 3889, 3907, 3911, 3917, 3919, 3923, 3929, 3931, 3943, 3947, 3967, 3989, 4001, 4003, 4007, 4013, 4019, 4021, 4027, 4049, 4051, 4057, 4073, 4079, 4091, 4093, 4099, 4111, 4127, 4129, 4133, 4139, 4153, 4157, 4159, 4177, 4201, 4211, 4217, 4219, 4229, 4231, 4241, 4243, 4253, 4259, 4261, 4271, 4273, 4283, 4289, 4297, 4327, 4337, 4339, 4349, 4357, 4363, 4373, 4391, 4397, 4409, 4421, 4423, 4441, 4447, 4451, 4457, 4463, 4481, 4483, 4493, 4507, 4513, 4517, 4519, 4523, 4547, 4549, 4561, 4567, 4583, 4591, 4597, 4603, 4621, 4637, 4639, 4643, 4649, 4651, 4657, 4663, 4673, 4679, 4691, 4703, 4721, 4723, 4729, 4733, 4751, 4759, 4783, 4787, 4789, 4793, 4799, 4801, 4813, 4817, 4831, 4861, 4871, 4877, 4889, 4903, 4909, 4919, 4931, 4933, 4937, 4943, 4951, 4957, 4967, 4969, 4973, 4987, 4993, 4999, 5003, 5009, 5011, 5021, 5023, 5039, 5051, 5059, 5077, 5081, 5087, 5099, 5101, 5107, 5113, 5119, 5147, 5153, 5167, 5171, 5179, 5189, 5197, 5209, 5227, 5231, 5233, 5237, 5261, 5273, 5279, 5281, 5297, 5303, 5309, 5323, 5333, 5347, 5351, 5381, 5387, 5393, 5399, 5407, 5413, 5417, 5419, 5431, 5437, 5441, 5443, 5449, 5471, 5477, 5479, 5483, 5501, 5503, 5507, 5519, 5521, 5527, 5531, 5557, 5563, 5569, 5573, 5581, 5591, 5623, 5639, 5641, 5647, 5651, 5653, 5657, 5659, 5669, 5683, 5689, 5693, 5701, 5711, 5717, 5737, 5741, 5743, 5749, 5779, 5783, 5791, 5801, 5807, 5813, 5821, 5827, 5839, 5843, 5849, 5851, 5857, 5861, 5867, 5869, 5879, 5881, 5897, 5903, 5923, 5927, 5939, 5953, 5981, 5987, 6007, 6011, 6029, 6037, 6043, 6047, 6053, 6067, 6073, 6079, 6089, 6091, 6101, 6113, 6121, 6131, 6133, 6143, 6151, 6163, 6173, 6197, 6199, 6203, 6211, 6217, 6221, 6229, 6247, 6257, 6263, 6269, 6271, 6277, 6287, 6299, 6301, 6311, 6317, 6323, 6329, 6337, 6343, 6353, 6359, 6361, 6367, 6373, 6379, 6389, 6397, 6421, 6427, 6449, 6451, 6469, 6473, 6481, 6491, 6521, 6529, 6547, 6551, 6553, 6563, 6569, 6571, 6577, 6581, 6599, 6607, 6619, 6637, 6653, 6659, 6661, 6673, 6679, 6689, 6691, 6701, 6703, 6709, 6719, 6733, 6737, 6761, 6763, 6779, 6781, 6791, 6793, 6803, 6823, 6827, 6829, 6833, 6841, 6857, 6863, 6869, 6871, 6883, 6899, 6907, 6911, 6917, 6947, 6949, 6959, 6961, 6967, 6971, 6977, 6983, 6991, 6997, 7001, 7013, 7019, 7027, 7039, 7043, 7057, 7069, 7079, 7103, 7109, 7121, 7127, 7129, 7151, 7159, 7177, 7187, 7193, 7207, 7211, 7213, 7219, 7229, 7237, 7243, 7247, 7253, 7283, 7297, 7307, 7309, 7321, 7331, 7333, 7349, 7351, 7369, 7393, 7411, 7417, 7433, 7451, 7457, 7459, 7477, 7481, 7487, 7489, 7499, 7507, 7517, 7523, 7529, 7537, 7541, 7547, 7549, 7559, 7561, 7573, 7577, 7583, 7589, 7591, 7603, 7607, 7621, 7639, 7643, 7649, 7669, 7673, 7681, 7687, 7691, 7699, 7703, 7717, 7723, 7727, 7741, 7753, 7757, 7759, 7789, 7793, 7817, 7823, 7829, 7841, 7853, 7867, 7873, 7877, 7879, 7883, 7901, 7907, 7919, 7927, 7933, 7937, 7949, 7951, 7963, 7993, 8009, 8011, 8017, 8039, 8053, 8059, 8069, 8081, 8087, 8089, 8093, 8101, 8111, 8117, 8123, 8147, 8161, 8167, 8171, 8179, 8191, 8209, 8219, 8221, 8231, 8233, 8237, 8243, 8263, 8269, 8273, 8287, 8291, 8293, 8297, 8311, 8317, 8329, 8353, 8363, 8369, 8377, 8387, 8389, 8419, 8423, 8429, 8431, 8443, 8447, 8461, 8467, 8501, 8513, 8521, 8527, 8537, 8539, 8543, 8563, 8573, 8581, 8597, 8599, 8609, 8623, 8627, 8629, 8641, 8647, 8663, 8669, 8677, 8681, 8689, 8693, 8699, 8707, 8713, 8719, 8731, 8737, 8741, 8747, 8753, 8761, 8779, 8783, 8803, 8807, 8819, 8821, 8831, 8837, 8839, 8849, 8861, 8863, 8867, 8887, 8893, 8923, 8929, 8933, 8941, 8951, 8963, 8969, 8971, 8999, 9001, 9007, 9011, 9013, 9029, 9041, 9043, 9049, 9059, 9067, 9091, 9103, 9109, 9127, 9133, 9137, 9151, 9157, 9161, 9173, 9181, 9187, 9199, 9203, 9209, 9221, 9227, 9239, 9241, 9257, 9277, 9281, 9283, 9293, 9311, 9319, 9323, 9337, 9341, 9343, 9349, 9371, 9377, 9391, 9397, 9403, 9413, 9419, 9421, 9431, 9433, 9437, 9439, 9461, 9463, 9467, 9473, 9479, 9491, 9497, 9511, 9521, 9533, 9539, 9547, 9551, 9587, 9601, 9613, 9619, 9623, 9629, 9631, 9643, 9649, 9661, 9677, 9679, 9689, 9697, 9719, 9721, 9733, 9739, 9743, 9749, 9767, 9769, 9781, 9787, 9791, 9803, 9811, 9817, 9829, 9833, 9839, 9851, 9857, 9859, 9871, 9883, 9887, 9901, 9907, 9923, 9929, 9931, 9941, 9949, 9967, 9973]\n"
     ]
    }
   ],
   "source": [
    "# gen 4 digit primes\n",
    "primes = genPrimes(1000, 9999)\n",
    "print(primes)"
   ]
  },
  {
   "cell_type": "code",
   "execution_count": 7,
   "metadata": {},
   "outputs": [
    {
     "data": {
      "text/plain": [
       "1061"
      ]
     },
     "execution_count": 7,
     "metadata": {},
     "output_type": "execute_result"
    }
   ],
   "source": [
    "# check\n",
    "len(primes)\n",
    "# nice"
   ]
  },
  {
   "cell_type": "code",
   "execution_count": 8,
   "metadata": {},
   "outputs": [],
   "source": [
    "def checkSequential(triple):\n",
    "    \"\"\"\n",
    "    takes in a tuple of three numbers\n",
    "    checks if they're in an increasing arithmetic sequence\n",
    "    \"\"\"\n",
    "    x,y,z = triple\n",
    "    return z-y == y-x"
   ]
  },
  {
   "cell_type": "code",
   "execution_count": 9,
   "metadata": {},
   "outputs": [
    {
     "name": "stdout",
     "output_type": "stream",
     "text": [
      "True\n"
     ]
    }
   ],
   "source": [
    "# test\n",
    "triple1 = (1487, 4817, 8147)\n",
    "print(checkSequential(triple1))"
   ]
  },
  {
   "cell_type": "code",
   "execution_count": 10,
   "metadata": {},
   "outputs": [],
   "source": [
    "def checkPerm(num1, num2):\n",
    "    \"\"\"\n",
    "    num1, num2 are two four-digit numbers\n",
    "    checks if num1, num2 have the same digits\n",
    "    \"\"\"\n",
    "    # assigns a prime number to each digit; if \n",
    "        # the products for the nums are equal, they're permutations\n",
    "    prod1 = 1\n",
    "    prod2 = 1\n",
    "    \n",
    "    def digitToPrime(d):\n",
    "        \"\"\"\n",
    "        assigns and returns a prime for each digit\n",
    "        \"\"\"\n",
    "        if d == 0:\n",
    "            return 2\n",
    "        elif d==1:\n",
    "            return 3\n",
    "        elif d==2:\n",
    "            return 5\n",
    "        elif d==3:\n",
    "            return 7\n",
    "        elif d==4:\n",
    "            return 11\n",
    "        elif d==5:\n",
    "            return 13\n",
    "        elif d==6:\n",
    "            return 17\n",
    "        elif d==7:\n",
    "            return 19\n",
    "        elif d==8:\n",
    "            return 23\n",
    "        elif d==9:\n",
    "            return 29\n",
    "        else:\n",
    "            return 0 # for error catchign?\n",
    "        \n",
    "    while num1>0:\n",
    "        prod1*=digitToPrime(num1%10)\n",
    "        num1 //= 10\n",
    "    \n",
    "    while num2>0:\n",
    "        prod2*=digitToPrime(num2%10)\n",
    "        num2 //= 10\n",
    "        \n",
    "    return prod1==prod2"
   ]
  },
  {
   "cell_type": "code",
   "execution_count": 11,
   "metadata": {},
   "outputs": [
    {
     "name": "stdout",
     "output_type": "stream",
     "text": [
      "True\n",
      "False\n"
     ]
    }
   ],
   "source": [
    "# testing\n",
    "print(checkPerm(1487, 4817))\n",
    "print(checkPerm(1487,1111))"
   ]
  },
  {
   "cell_type": "code",
   "execution_count": 12,
   "metadata": {},
   "outputs": [],
   "source": [
    "def checkPermTriple(triple):\n",
    "    x,y,z=triple # unpacking\n",
    "    return checkPerm(x,y) and checkPerm(y,z)"
   ]
  },
  {
   "cell_type": "code",
   "execution_count": 13,
   "metadata": {},
   "outputs": [
    {
     "name": "stdout",
     "output_type": "stream",
     "text": [
      "True\n",
      "False\n"
     ]
    }
   ],
   "source": [
    "# testing\n",
    "print(checkPermTriple(triple1))\n",
    "print(checkPermTriple( (11, 111, 1111) ))"
   ]
  },
  {
   "cell_type": "code",
   "execution_count": 24,
   "metadata": {},
   "outputs": [],
   "source": [
    "def getSequences():\n",
    "    \"\"\"\n",
    "    returns solution sequences in the form of a list\n",
    "    \"\"\"\n",
    "    soln = []\n",
    "\n",
    "    \n",
    "    # generate primes\n",
    "    primes = genPrimes(1000, 9999)\n",
    "    length = len(primes)\n",
    "    \n",
    "    # code for generating all icnreasing prime triples\n",
    "#     tripleList = []\n",
    "#     for i in range(len(primes)):\n",
    "#         for j in range(i+1, len(primes)):\n",
    "#             for k in range(j+1, len(primes)):\n",
    "#                 tripleList.append( (primes[i], primes[j], primes[k]) )\n",
    "    \n",
    "    # go through all three tuples (without storign), check them one by one\n",
    "    for i in range(length):\n",
    "        for j in range(i+1, length):\n",
    "            for k in range(j+1, length):\n",
    "                tempTriple = (primes[i], primes[j], primes[k])\n",
    "                if checkSequential(tempTriple):\n",
    "                    if checkPermTriple(tempTriple):\n",
    "                        soln.append(tempTriple)\n",
    "\n",
    "    #v2\n",
    "#     for i in range(length):\n",
    "#         for p2 in primes[i+1:]:\n",
    "#             for p3 in primes[i+2:]:\n",
    "#                 tempTriple = (primes[i], p2, p3)\n",
    "#                 if checkSequential(tempTriple):\n",
    "#                     if checkPermTriple(tempTriple):\n",
    "#                         soln.append(tempTriple)\n",
    "                        \n",
    "        # check sequentialness first, it'll be faster than checking permutation-ness\n",
    "        \n",
    "    return soln"
   ]
  },
  {
   "cell_type": "markdown",
   "metadata": {},
   "source": [
    "## Results"
   ]
  },
  {
   "cell_type": "code",
   "execution_count": 18,
   "metadata": {},
   "outputs": [],
   "source": [
    "import timeit"
   ]
  },
  {
   "cell_type": "code",
   "execution_count": 19,
   "metadata": {},
   "outputs": [
    {
     "name": "stdout",
     "output_type": "stream",
     "text": [
      "Time taken: 71.42923610636149\n"
     ]
    }
   ],
   "source": [
    "start = timeit.default_timer()\n",
    "\n",
    "solutions = getSequences()\n",
    "\n",
    "end = timeit.default_timer()\n",
    "\n",
    "print(f\"Time taken: {end - start}\")\n",
    "# print(solutions)"
   ]
  },
  {
   "cell_type": "code",
   "execution_count": 22,
   "metadata": {},
   "outputs": [
    {
     "name": "stdout",
     "output_type": "stream",
     "text": [
      "[(1487, 4817, 8147), (2969, 6299, 9629)]\n"
     ]
    }
   ],
   "source": [
    "print(solutions)"
   ]
  },
  {
   "cell_type": "code",
   "execution_count": 25,
   "metadata": {},
   "outputs": [
    {
     "name": "stdout",
     "output_type": "stream",
     "text": [
      "Time taken: 123.4059062687611\n"
     ]
    }
   ],
   "source": [
    "start = timeit.default_timer()\n",
    "\n",
    "solutions = getSequences()\n",
    "\n",
    "end = timeit.default_timer()\n",
    "\n",
    "print(f\"Time taken: {end - start}\")\n",
    "# print(solutions)"
   ]
  },
  {
   "cell_type": "code",
   "execution_count": null,
   "metadata": {},
   "outputs": [],
   "source": [
    "print(solutions)"
   ]
  },
  {
   "cell_type": "markdown",
   "metadata": {},
   "source": [
    "### Answer:\n",
    "The other triple of arithmetically increasing prime permutations is: (2969, 6299, 9629)\n",
    "\n",
    "Their permutation is 296962999629"
   ]
  },
  {
   "cell_type": "markdown",
   "metadata": {},
   "source": [
    "# Reflection"
   ]
  },
  {
   "cell_type": "markdown",
   "metadata": {},
   "source": [
    "There are guys on the discussion forum who took less than 10 milliseconds to complete what took me 81 seconds. That's a difference of about 4 orders of magnitude....\n"
   ]
  },
  {
   "cell_type": "code",
   "execution_count": 52,
   "metadata": {},
   "outputs": [
    {
     "data": {
      "text/plain": [
       "11571.42857142857"
      ]
     },
     "execution_count": 52,
     "metadata": {},
     "output_type": "execute_result"
    }
   ],
   "source": [
    "81/0.007"
   ]
  },
  {
   "cell_type": "markdown",
   "metadata": {},
   "source": [
    "Some guy took 1.5 seconds while using python, so it's not just a language speed thing..."
   ]
  },
  {
   "cell_type": "code",
   "execution_count": 68,
   "metadata": {},
   "outputs": [
    {
     "ename": "SyntaxError",
     "evalue": "Missing parentheses in call to 'print'. Did you mean print(a)? (<ipython-input-68-b25da29cd66e>, line 41)",
     "output_type": "error",
     "traceback": [
      "\u001b[1;36m  File \u001b[1;32m\"<ipython-input-68-b25da29cd66e>\"\u001b[1;36m, line \u001b[1;32m41\u001b[0m\n\u001b[1;33m    print a\u001b[0m\n\u001b[1;37m          ^\u001b[0m\n\u001b[1;31mSyntaxError\u001b[0m\u001b[1;31m:\u001b[0m Missing parentheses in call to 'print'. Did you mean print(a)?\n"
     ]
    }
   ],
   "source": [
    "import string\n",
    "from primesieve import primes  #own written function\n",
    "def anagrams(s):\n",
    "    if s == \"\":\n",
    "        return [s]\n",
    "    else:\n",
    "        ans = []\n",
    "        for an in anagrams(s[1:]):\n",
    "            for pos in range(len(an)+1):\n",
    "                ans.append(an[:pos]+s[0]+an[pos:])\n",
    "        return ans\n",
    "\n",
    "p=primes(10000)\n",
    "\n",
    "def check(num):\n",
    "    global p\n",
    "    per=anagrams(str(num))\n",
    "    per=[int(i) for i in per]\n",
    "    i=0\n",
    "    while i<len(per):\n",
    "        if per[i] not in p:\n",
    "            del per[i]\n",
    "        else:\n",
    "            i+=1\n",
    "    incr=[]\n",
    "    for i in per:\n",
    "        for j in per:\n",
    "            if i-j>0:\n",
    "                incr.append(i-j)\n",
    "    for inc in incr:\n",
    "        for prime in per:\n",
    "            if prime+inc in p and prime+2*inc in p:\n",
    "                return [prime, prime+inc,prime+inc*2]\t\t\n",
    "    return []\n",
    "\n",
    "for prime in p:\n",
    "    if prime not in check(1487) and prime>1000:\n",
    "        a=check(prime)\n",
    "        if len(a)==3:\n",
    "            if a[1]-a[0]==3330:\n",
    "                print a\n",
    "                print str(a[0])+str(a[1])+str(a[2])\n",
    "                break"
   ]
  },
  {
   "cell_type": "markdown",
   "metadata": {},
   "source": [
    "### Borrowed code from user \"inhahe\"\n",
    "\n",
    "Resources used to update, replace primes module: \n",
    "* https://stackoverflow.com/questions/13326673/is-there-a-python-library-to-list-primes \n",
    "* http://openbookproject.net/thinkcs/python/english3e/classes_and_objects_I.html"
   ]
  },
  {
   "cell_type": "code",
   "execution_count": 70,
   "metadata": {},
   "outputs": [
    {
     "name": "stdout",
     "output_type": "stream",
     "text": [
      "1487 4817 8147\n",
      "2969 6299 9629\n",
      "Time taken: 0.029823575477848863\n"
     ]
    }
   ],
   "source": [
    "class IterPrimes(object):\n",
    "    def __init__(self,n=1):\n",
    "        self.n=n\n",
    "\n",
    "    def __iter__(self):\n",
    "        return self\n",
    "\n",
    "    def next(self):\n",
    "        n = self.n\n",
    "        while not sympy.isprime(n):\n",
    "            n += 1\n",
    "        self.n = n+1\n",
    "        return n\n",
    "    \n",
    "def primes():\n",
    "    p = IterPrimes()\n",
    "    n = 2\n",
    "    while True:\n",
    "        yield n\n",
    "        n = IterPrimes.next(p)\n",
    "    \n",
    "\n",
    "start = timeit.default_timer()    \n",
    "    \n",
    "p1= {} \n",
    "\n",
    "for prime in primes():\n",
    "    if prime>=10000: break\n",
    "    if prime>=1000:\n",
    "        s=tuple(sorted(str(prime)))\n",
    "        p1[s]=p1.get(s,[])+[prime]\n",
    "p2=[sorted(v) for v in p1.values() if len(v)>=3]\n",
    "for p in p2:\n",
    "    for i,v in enumerate(p[:-2]):\n",
    "        for i2, v2 in enumerate(p[i+1:-1]):\n",
    "            for i3,v3 in enumerate(p[i2+1:]):\n",
    "                if v3-v2==v2-v:\n",
    "                    print (v, v2, v3)\n",
    "                    \n",
    "end = timeit.default_timer()\n",
    "print(f\"Time taken: {end-start}\")\n",
    "\n"
   ]
  },
  {
   "cell_type": "markdown",
   "metadata": {},
   "source": [
    "# HOW???!!??!?!!?"
   ]
  },
  {
   "cell_type": "code",
   "execution_count": null,
   "metadata": {},
   "outputs": [],
   "source": []
  }
 ],
 "metadata": {
  "kernelspec": {
   "display_name": "Python 3",
   "language": "python",
   "name": "python3"
  },
  "language_info": {
   "codemirror_mode": {
    "name": "ipython",
    "version": 3
   },
   "file_extension": ".py",
   "mimetype": "text/x-python",
   "name": "python",
   "nbconvert_exporter": "python",
   "pygments_lexer": "ipython3",
   "version": "3.6.5"
  }
 },
 "nbformat": 4,
 "nbformat_minor": 2
}
